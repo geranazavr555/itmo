{
 "cells": [
  {
   "cell_type": "code",
   "execution_count": 1,
   "id": "81037670",
   "metadata": {
    "collapsed": false,
    "jupyter": {
     "outputs_hidden": false
    },
    "pycharm": {
     "name": "#%%\n"
    }
   },
   "outputs": [],
   "source": [
    "import numpy as np"
   ]
  },
  {
   "cell_type": "code",
   "execution_count": 2,
   "id": "6479026e",
   "metadata": {
    "collapsed": false,
    "jupyter": {
     "outputs_hidden": false
    },
    "pycharm": {
     "name": "#%%\n"
    }
   },
   "outputs": [],
   "source": [
    "from sklearn.preprocessing import MinMaxScaler\n",
    "\n",
    "def load_data_lab2(path):\n",
    "    with open(path, \"r\", encoding=\"utf-8\") as file:\n",
    "        lines = file.readlines()\n",
    "        feature_count = int(lines[0])\n",
    "        train_n = int(lines[1])\n",
    "        lines = lines[2:]\n",
    "\n",
    "        train_X = []\n",
    "        train_Y = []\n",
    "        for i in range(train_n):\n",
    "            row = list(map(float, lines[i].split()))\n",
    "            assert len(row) == feature_count + 1\n",
    "            train_X.append(row[:-1] + [1.0])\n",
    "            train_Y.append(row[-1])\n",
    "\n",
    "        lines = lines[train_n:]\n",
    "\n",
    "        test_n = int(lines[0])\n",
    "        lines = lines[1:]\n",
    "        test_X = []\n",
    "        test_Y = []\n",
    "        for i in range(test_n):\n",
    "            row = list(map(float, lines[i].split()))\n",
    "            assert len(row) == feature_count + 1\n",
    "            test_X.append(row[:-1] + [1.0])\n",
    "            test_Y.append(row[-1])\n",
    "\n",
    "\n",
    "        scalerX = MinMaxScaler()\n",
    "        scalerX.fit(train_X)\n",
    "\n",
    "        scalerY = MinMaxScaler()\n",
    "        scalerY.fit(np.array([train_Y]).transpose())\n",
    "\n",
    "        return np.array(scalerX.transform(train_X)), scalerY.transform(np.array([train_Y]).transpose())[:, 0], np.array(scalerX.transform(test_X)), scalerY.transform(np.array([test_Y]).transpose())[:, 0]"
   ]
  },
  {
   "cell_type": "code",
   "execution_count": 3,
   "id": "a864265e-3f91-4946-83bc-cefb5a923e7f",
   "metadata": {},
   "outputs": [],
   "source": [
    "train_X, train_Y, test_X, test_Y = load_data_lab2(\"data/1.txt\")\n",
    "X_train, Y_train, X_test, Y_test = train_X, train_Y, test_X, test_Y"
   ]
  },
  {
   "cell_type": "code",
   "execution_count": 4,
   "id": "207e73e4-2f06-4045-9417-30f09532df6f",
   "metadata": {},
   "outputs": [
    {
     "name": "stdout",
     "output_type": "stream",
     "text": [
      "(1164, 429) (1164,) (256, 429) (256,)\n"
     ]
    }
   ],
   "source": [
    "print(train_X.shape, train_Y.shape, test_X.shape, test_Y.shape)"
   ]
  },
  {
   "cell_type": "markdown",
   "id": "0dbe76bd-19fa-4de8-993c-43ed62869dc1",
   "metadata": {},
   "source": [
    "# Настройка гиперпараметров"
   ]
  },
  {
   "cell_type": "markdown",
   "id": "9a343d02-2ee5-42ae-94d4-371420058700",
   "metadata": {},
   "source": [
    "## МНК"
   ]
  },
  {
   "cell_type": "code",
   "execution_count": 5,
   "id": "1687a296-693c-4284-93cf-d565f15be54c",
   "metadata": {},
   "outputs": [],
   "source": [
    "import optuna, cfml.linear, math"
   ]
  },
  {
   "cell_type": "code",
   "execution_count": 6,
   "id": "eace278f-8ec7-4e61-81e1-4a0e41c69d49",
   "metadata": {},
   "outputs": [],
   "source": [
    "def apply(model, X):\n",
    "    Y = np.zeros((X.shape[0]))\n",
    "    for i in range(X.shape[0]):\n",
    "        Y[i] = model(X[i])\n",
    "    return Y\n",
    "\n",
    "def mse(Y_real, Y_pred):\n",
    "    return ((Y_real - Y_pred) ** 2).mean()"
   ]
  },
  {
   "cell_type": "code",
   "execution_count": 7,
   "id": "97d45732-f124-4b89-8fcb-8b5f6fda68cb",
   "metadata": {},
   "outputs": [],
   "source": [
    "def mse_least_squares_target(trial):\n",
    "    ln_tau = trial.suggest_float(\"ln_tau\", -9, 0)\n",
    "    model = cfml.linear.LeastSquares(X_train, Y_train, math.exp(ln_tau))\n",
    "    return mse(Y_test, apply(model, X_test))"
   ]
  },
  {
   "cell_type": "code",
   "execution_count": 8,
   "id": "2d6179a4-ea99-42d7-b42a-67b97fc760c9",
   "metadata": {},
   "outputs": [
    {
     "name": "stderr",
     "output_type": "stream",
     "text": [
      "\u001b[32m[I 2022-04-12 23:40:36,848]\u001b[0m A new study created in memory with name: no-name-20c9d75c-57fc-4b01-a897-f4efefa91fe4\u001b[0m\n",
      "\u001b[32m[I 2022-04-12 23:40:36,890]\u001b[0m Trial 0 finished with value: 4.1949012154644035e-10 and parameters: {'ln_tau': -1.9160149103839572}. Best is trial 0 with value: 4.1949012154644035e-10.\u001b[0m\n",
      "\u001b[32m[I 2022-04-12 23:40:36,921]\u001b[0m Trial 1 finished with value: 1.3445426128937976e-10 and parameters: {'ln_tau': -5.657962063262277}. Best is trial 1 with value: 1.3445426128937976e-10.\u001b[0m\n",
      "\u001b[32m[I 2022-04-12 23:40:36,955]\u001b[0m Trial 2 finished with value: 6.010407404520794e-10 and parameters: {'ln_tau': -1.4101204458328267}. Best is trial 1 with value: 1.3445426128937976e-10.\u001b[0m\n",
      "\u001b[32m[I 2022-04-12 23:40:36,988]\u001b[0m Trial 3 finished with value: 1.8261756529162562e-10 and parameters: {'ln_tau': -4.628483188138054}. Best is trial 1 with value: 1.3445426128937976e-10.\u001b[0m\n",
      "\u001b[32m[I 2022-04-12 23:40:37,020]\u001b[0m Trial 4 finished with value: 1.1633857511779285e-09 and parameters: {'ln_tau': -0.8666617589966847}. Best is trial 1 with value: 1.3445426128937976e-10.\u001b[0m\n",
      "\u001b[32m[I 2022-04-12 23:40:37,053]\u001b[0m Trial 5 finished with value: 1.519606830358216e-10 and parameters: {'ln_tau': -5.201442842168994}. Best is trial 1 with value: 1.3445426128937976e-10.\u001b[0m\n",
      "\u001b[32m[I 2022-04-12 23:40:37,093]\u001b[0m Trial 6 finished with value: 9.446860678571596e-11 and parameters: {'ln_tau': -8.46800428848155}. Best is trial 6 with value: 9.446860678571596e-11.\u001b[0m\n",
      "\u001b[32m[I 2022-04-12 23:40:37,128]\u001b[0m Trial 7 finished with value: 4.75299359617118e-09 and parameters: {'ln_tau': -0.049284025301510326}. Best is trial 6 with value: 9.446860678571596e-11.\u001b[0m\n",
      "\u001b[32m[I 2022-04-12 23:40:37,160]\u001b[0m Trial 8 finished with value: 3.842841382680874e-09 and parameters: {'ln_tau': -0.16265510410282502}. Best is trial 6 with value: 9.446860678571596e-11.\u001b[0m\n",
      "\u001b[32m[I 2022-04-12 23:40:37,211]\u001b[0m Trial 9 finished with value: 1.1257819744061037e-10 and parameters: {'ln_tau': -6.537675538773975}. Best is trial 6 with value: 9.446860678571596e-11.\u001b[0m\n",
      "\u001b[32m[I 2022-04-12 23:40:37,250]\u001b[0m Trial 10 finished with value: 9.547867383504236e-11 and parameters: {'ln_tau': -8.583445351063402}. Best is trial 6 with value: 9.446860678571596e-11.\u001b[0m\n",
      "\u001b[32m[I 2022-04-12 23:40:37,286]\u001b[0m Trial 11 finished with value: 9.557470595605572e-11 and parameters: {'ln_tau': -8.851021006991644}. Best is trial 6 with value: 9.446860678571596e-11.\u001b[0m\n",
      "\u001b[32m[I 2022-04-12 23:40:37,322]\u001b[0m Trial 12 finished with value: 9.534415360220492e-11 and parameters: {'ln_tau': -8.992035405071574}. Best is trial 6 with value: 9.446860678571596e-11.\u001b[0m\n",
      "\u001b[32m[I 2022-04-12 23:40:37,356]\u001b[0m Trial 13 finished with value: 1.0172166673668355e-10 and parameters: {'ln_tau': -7.283760879341867}. Best is trial 6 with value: 9.446860678571596e-11.\u001b[0m\n",
      "\u001b[32m[I 2022-04-12 23:40:37,393]\u001b[0m Trial 14 finished with value: 9.946101747091997e-11 and parameters: {'ln_tau': -7.520284900538049}. Best is trial 6 with value: 9.446860678571596e-11.\u001b[0m\n",
      "\u001b[32m[I 2022-04-12 23:40:37,429]\u001b[0m Trial 15 finished with value: 3.221401698930128e-10 and parameters: {'ln_tau': -2.688316971162166}. Best is trial 6 with value: 9.446860678571596e-11.\u001b[0m\n",
      "\u001b[32m[I 2022-04-12 23:40:37,464]\u001b[0m Trial 16 finished with value: 2.7223000201171535e-10 and parameters: {'ln_tau': -3.3694932324086415}. Best is trial 6 with value: 9.446860678571596e-11.\u001b[0m\n",
      "\u001b[32m[I 2022-04-12 23:40:37,499]\u001b[0m Trial 17 finished with value: 9.671978482589032e-11 and parameters: {'ln_tau': -7.877948223404238}. Best is trial 6 with value: 9.446860678571596e-11.\u001b[0m\n",
      "\u001b[32m[I 2022-04-12 23:40:37,533]\u001b[0m Trial 18 finished with value: 1.154715577254046e-10 and parameters: {'ln_tau': -6.391894851630256}. Best is trial 6 with value: 9.446860678571596e-11.\u001b[0m\n",
      "\u001b[32m[I 2022-04-12 23:40:37,569]\u001b[0m Trial 19 finished with value: 9.545034673518088e-11 and parameters: {'ln_tau': -8.98340043458934}. Best is trial 6 with value: 9.446860678571596e-11.\u001b[0m\n",
      "\u001b[32m[I 2022-04-12 23:40:37,599]\u001b[0m Trial 20 finished with value: 1.0974697211230144e-10 and parameters: {'ln_tau': -6.6927301345779835}. Best is trial 6 with value: 9.446860678571596e-11.\u001b[0m\n",
      "\u001b[32m[I 2022-04-12 23:40:37,638]\u001b[0m Trial 21 finished with value: 9.530709478460782e-11 and parameters: {'ln_tau': -8.289491080836475}. Best is trial 6 with value: 9.446860678571596e-11.\u001b[0m\n",
      "\u001b[32m[I 2022-04-12 23:40:37,702]\u001b[0m Trial 22 finished with value: 9.66736587772329e-11 and parameters: {'ln_tau': -7.950135099294089}. Best is trial 6 with value: 9.446860678571596e-11.\u001b[0m\n",
      "\u001b[32m[I 2022-04-12 23:40:37,743]\u001b[0m Trial 23 finished with value: 9.539401846070509e-11 and parameters: {'ln_tau': -8.212575560510931}. Best is trial 6 with value: 9.446860678571596e-11.\u001b[0m\n",
      "\u001b[32m[I 2022-04-12 23:40:37,780]\u001b[0m Trial 24 finished with value: 1.0270767513447047e-10 and parameters: {'ln_tau': -7.195609146271316}. Best is trial 6 with value: 9.446860678571596e-11.\u001b[0m\n",
      "\u001b[32m[I 2022-04-12 23:40:37,815]\u001b[0m Trial 25 finished with value: 1.3325121887536825e-10 and parameters: {'ln_tau': -5.694445856565184}. Best is trial 6 with value: 9.446860678571596e-11.\u001b[0m\n",
      "\u001b[32m[I 2022-04-12 23:40:37,851]\u001b[0m Trial 26 finished with value: 9.497753915977919e-11 and parameters: {'ln_tau': -8.211828355009796}. Best is trial 6 with value: 9.446860678571596e-11.\u001b[0m\n",
      "\u001b[32m[I 2022-04-12 23:40:37,893]\u001b[0m Trial 27 finished with value: 2.351682878718071e-10 and parameters: {'ln_tau': -3.8743530374480364}. Best is trial 6 with value: 9.446860678571596e-11.\u001b[0m\n",
      "\u001b[32m[I 2022-04-12 23:40:37,936]\u001b[0m Trial 28 finished with value: 1.0488580764813273e-10 and parameters: {'ln_tau': -7.0133086660993165}. Best is trial 6 with value: 9.446860678571596e-11.\u001b[0m\n",
      "\u001b[32m[I 2022-04-12 23:40:37,969]\u001b[0m Trial 29 finished with value: 9.510105643355956e-11 and parameters: {'ln_tau': -8.207631576301036}. Best is trial 6 with value: 9.446860678571596e-11.\u001b[0m\n",
      "\u001b[32m[I 2022-04-12 23:40:38,006]\u001b[0m Trial 30 finished with value: 1.2138501680908598e-10 and parameters: {'ln_tau': -6.125928297989904}. Best is trial 6 with value: 9.446860678571596e-11.\u001b[0m\n",
      "\u001b[32m[I 2022-04-12 23:40:38,044]\u001b[0m Trial 31 finished with value: 9.534657637311637e-11 and parameters: {'ln_tau': -8.224394285715448}. Best is trial 6 with value: 9.446860678571596e-11.\u001b[0m\n",
      "\u001b[32m[I 2022-04-12 23:40:38,080]\u001b[0m Trial 32 finished with value: 9.850276056206e-11 and parameters: {'ln_tau': -7.659164693180673}. Best is trial 6 with value: 9.446860678571596e-11.\u001b[0m\n",
      "\u001b[32m[I 2022-04-12 23:40:38,118]\u001b[0m Trial 33 finished with value: 9.429054158751973e-11 and parameters: {'ln_tau': -8.261988209982555}. Best is trial 33 with value: 9.429054158751973e-11.\u001b[0m\n",
      "\u001b[32m[I 2022-04-12 23:40:38,155]\u001b[0m Trial 34 finished with value: 9.816282235870433e-11 and parameters: {'ln_tau': -7.68049064741538}. Best is trial 33 with value: 9.429054158751973e-11.\u001b[0m\n",
      "\u001b[32m[I 2022-04-12 23:40:38,268]\u001b[0m Trial 35 finished with value: 9.47583584226944e-11 and parameters: {'ln_tau': -8.442042857302647}. Best is trial 33 with value: 9.429054158751973e-11.\u001b[0m\n",
      "\u001b[32m[I 2022-04-12 23:40:38,305]\u001b[0m Trial 36 finished with value: 1.495921715245373e-10 and parameters: {'ln_tau': -5.255949388922822}. Best is trial 33 with value: 9.429054158751973e-11.\u001b[0m\n",
      "\u001b[32m[I 2022-04-12 23:40:38,329]\u001b[0m Trial 37 finished with value: 1.056248235264803e-10 and parameters: {'ln_tau': -6.968063492707149}. Best is trial 33 with value: 9.429054158751973e-11.\u001b[0m\n",
      "\u001b[32m[I 2022-04-12 23:40:38,373]\u001b[0m Trial 38 finished with value: 1.2597283881623978e-10 and parameters: {'ln_tau': -5.944572008524382}. Best is trial 33 with value: 9.429054158751973e-11.\u001b[0m\n",
      "\u001b[32m[I 2022-04-12 23:40:38,411]\u001b[0m Trial 39 finished with value: 1.8490870436767864e-10 and parameters: {'ln_tau': -4.59193436525187}. Best is trial 33 with value: 9.429054158751973e-11.\u001b[0m\n",
      "\u001b[32m[I 2022-04-12 23:40:38,447]\u001b[0m Trial 40 finished with value: 9.45342833690151e-11 and parameters: {'ln_tau': -8.732980136409758}. Best is trial 33 with value: 9.429054158751973e-11.\u001b[0m\n",
      "\u001b[32m[I 2022-04-12 23:40:38,484]\u001b[0m Trial 41 finished with value: 9.475346418975893e-11 and parameters: {'ln_tau': -8.596103913853195}. Best is trial 33 with value: 9.429054158751973e-11.\u001b[0m\n",
      "\u001b[32m[I 2022-04-12 23:40:38,520]\u001b[0m Trial 42 finished with value: 9.600744955380327e-11 and parameters: {'ln_tau': -8.485323856984364}. Best is trial 33 with value: 9.429054158751973e-11.\u001b[0m\n",
      "\u001b[32m[I 2022-04-12 23:40:38,543]\u001b[0m Trial 43 finished with value: 9.453039341727544e-11 and parameters: {'ln_tau': -8.57853902964234}. Best is trial 33 with value: 9.429054158751973e-11.\u001b[0m\n",
      "\u001b[32m[I 2022-04-12 23:40:38,699]\u001b[0m Trial 44 finished with value: 9.458254794898032e-11 and parameters: {'ln_tau': -8.718821391263651}. Best is trial 33 with value: 9.429054158751973e-11.\u001b[0m\n",
      "\u001b[32m[I 2022-04-12 23:40:38,744]\u001b[0m Trial 45 finished with value: 9.510713405568132e-11 and parameters: {'ln_tau': -8.951612531809033}. Best is trial 33 with value: 9.429054158751973e-11.\u001b[0m\n",
      "\u001b[32m[I 2022-04-12 23:40:38,789]\u001b[0m Trial 46 finished with value: 5.267292146762556e-10 and parameters: {'ln_tau': -1.5621349012401602}. Best is trial 33 with value: 9.429054158751973e-11.\u001b[0m\n",
      "\u001b[32m[I 2022-04-12 23:40:38,824]\u001b[0m Trial 47 finished with value: 9.930120690835219e-11 and parameters: {'ln_tau': -7.540635050403781}. Best is trial 33 with value: 9.429054158751973e-11.\u001b[0m\n",
      "\u001b[32m[I 2022-04-12 23:40:38,863]\u001b[0m Trial 48 finished with value: 9.318910214197732e-11 and parameters: {'ln_tau': -8.666814802845284}. Best is trial 48 with value: 9.318910214197732e-11.\u001b[0m\n",
      "\u001b[32m[I 2022-04-12 23:40:38,902]\u001b[0m Trial 49 finished with value: 9.674391441772667e-11 and parameters: {'ln_tau': -7.921178230133516}. Best is trial 48 with value: 9.318910214197732e-11.\u001b[0m\n",
      "\u001b[32m[I 2022-04-12 23:40:38,929]\u001b[0m Trial 50 finished with value: 1.0992684918741971e-10 and parameters: {'ln_tau': -6.693150226294755}. Best is trial 48 with value: 9.318910214197732e-11.\u001b[0m\n",
      "\u001b[32m[I 2022-04-12 23:40:38,976]\u001b[0m Trial 51 finished with value: 9.418854304876175e-11 and parameters: {'ln_tau': -8.701379201747132}. Best is trial 48 with value: 9.318910214197732e-11.\u001b[0m\n",
      "\u001b[32m[I 2022-04-12 23:40:39,028]\u001b[0m Trial 52 finished with value: 9.520227495553312e-11 and parameters: {'ln_tau': -8.70652493706785}. Best is trial 48 with value: 9.318910214197732e-11.\u001b[0m\n",
      "\u001b[32m[I 2022-04-12 23:40:39,068]\u001b[0m Trial 53 finished with value: 1.0133288382862997e-10 and parameters: {'ln_tau': -7.306791760149932}. Best is trial 48 with value: 9.318910214197732e-11.\u001b[0m\n",
      "\u001b[32m[I 2022-04-12 23:40:39,106]\u001b[0m Trial 54 finished with value: 9.654559639681698e-11 and parameters: {'ln_tau': -8.007291733695364}. Best is trial 48 with value: 9.318910214197732e-11.\u001b[0m\n",
      "\u001b[32m[I 2022-04-12 23:40:39,133]\u001b[0m Trial 55 finished with value: 9.476599638645146e-11 and parameters: {'ln_tau': -8.961576415500408}. Best is trial 48 with value: 9.318910214197732e-11.\u001b[0m\n",
      "\u001b[32m[I 2022-04-12 23:40:39,217]\u001b[0m Trial 56 finished with value: 9.48017802891454e-11 and parameters: {'ln_tau': -8.598279858653687}. Best is trial 48 with value: 9.318910214197732e-11.\u001b[0m\n",
      "\u001b[32m[I 2022-04-12 23:40:39,261]\u001b[0m Trial 57 finished with value: 3.4061348346642104e-10 and parameters: {'ln_tau': -2.4753120943855613}. Best is trial 48 with value: 9.318910214197732e-11.\u001b[0m\n",
      "\u001b[32m[I 2022-04-12 23:40:39,304]\u001b[0m Trial 58 finished with value: 1.5719894766691716e-09 and parameters: {'ln_tau': -0.672080254442947}. Best is trial 48 with value: 9.318910214197732e-11.\u001b[0m\n",
      "\u001b[32m[I 2022-04-12 23:40:39,442]\u001b[0m Trial 59 finished with value: 9.700033982378335e-11 and parameters: {'ln_tau': -7.812099168374404}. Best is trial 48 with value: 9.318910214197732e-11.\u001b[0m\n",
      "\u001b[32m[I 2022-04-12 23:40:39,479]\u001b[0m Trial 60 finished with value: 1.0051973748231477e-10 and parameters: {'ln_tau': -7.412594003996902}. Best is trial 48 with value: 9.318910214197732e-11.\u001b[0m\n",
      "\u001b[32m[I 2022-04-12 23:40:39,519]\u001b[0m Trial 61 finished with value: 9.430284261768089e-11 and parameters: {'ln_tau': -8.662224096801177}. Best is trial 48 with value: 9.318910214197732e-11.\u001b[0m\n",
      "\u001b[32m[I 2022-04-12 23:40:39,544]\u001b[0m Trial 62 finished with value: 9.489214300536456e-11 and parameters: {'ln_tau': -8.395060625830153}. Best is trial 48 with value: 9.318910214197732e-11.\u001b[0m\n",
      "\u001b[32m[I 2022-04-12 23:40:39,596]\u001b[0m Trial 63 finished with value: 9.562998416964071e-11 and parameters: {'ln_tau': -8.660550389149993}. Best is trial 48 with value: 9.318910214197732e-11.\u001b[0m\n",
      "\u001b[32m[I 2022-04-12 23:40:39,641]\u001b[0m Trial 64 finished with value: 9.601879899966509e-11 and parameters: {'ln_tau': -8.051237207054196}. Best is trial 48 with value: 9.318910214197732e-11.\u001b[0m\n",
      "\u001b[32m[I 2022-04-12 23:40:39,668]\u001b[0m Trial 65 finished with value: 9.62351973775634e-11 and parameters: {'ln_tau': -8.965137126114636}. Best is trial 48 with value: 9.318910214197732e-11.\u001b[0m\n",
      "\u001b[32m[I 2022-04-12 23:40:39,698]\u001b[0m Trial 66 finished with value: 9.487113649933862e-11 and parameters: {'ln_tau': -8.331184663501281}. Best is trial 48 with value: 9.318910214197732e-11.\u001b[0m\n",
      "\u001b[32m[I 2022-04-12 23:40:39,743]\u001b[0m Trial 67 finished with value: 9.775832829032092e-11 and parameters: {'ln_tau': -7.757007858866907}. Best is trial 48 with value: 9.318910214197732e-11.\u001b[0m\n",
      "\u001b[32m[I 2022-04-12 23:40:39,788]\u001b[0m Trial 68 finished with value: 9.622653223827777e-11 and parameters: {'ln_tau': -7.996817640510757}. Best is trial 48 with value: 9.318910214197732e-11.\u001b[0m\n",
      "\u001b[32m[I 2022-04-12 23:40:39,814]\u001b[0m Trial 69 finished with value: 1.0628398215372211e-10 and parameters: {'ln_tau': -6.928158060873901}. Best is trial 48 with value: 9.318910214197732e-11.\u001b[0m\n",
      "\u001b[32m[I 2022-04-12 23:40:39,965]\u001b[0m Trial 70 finished with value: 9.436747392370741e-11 and parameters: {'ln_tau': -8.728137590942646}. Best is trial 48 with value: 9.318910214197732e-11.\u001b[0m\n",
      "\u001b[32m[I 2022-04-12 23:40:40,003]\u001b[0m Trial 71 finished with value: 9.52031580510594e-11 and parameters: {'ln_tau': -8.704942744206571}. Best is trial 48 with value: 9.318910214197732e-11.\u001b[0m\n",
      "\u001b[32m[I 2022-04-12 23:40:40,029]\u001b[0m Trial 72 finished with value: 9.521603620838654e-11 and parameters: {'ln_tau': -8.348274045586901}. Best is trial 48 with value: 9.318910214197732e-11.\u001b[0m\n",
      "\u001b[32m[I 2022-04-12 23:40:40,075]\u001b[0m Trial 73 finished with value: 9.553817648706415e-11 and parameters: {'ln_tau': -8.157600572931656}. Best is trial 48 with value: 9.318910214197732e-11.\u001b[0m\n",
      "\u001b[32m[I 2022-04-12 23:40:40,118]\u001b[0m Trial 74 finished with value: 9.50408616167677e-11 and parameters: {'ln_tau': -8.78697520798728}. Best is trial 48 with value: 9.318910214197732e-11.\u001b[0m\n",
      "\u001b[32m[I 2022-04-12 23:40:40,165]\u001b[0m Trial 75 finished with value: 9.52299411742433e-11 and parameters: {'ln_tau': -8.492558157057202}. Best is trial 48 with value: 9.318910214197732e-11.\u001b[0m\n",
      "\u001b[32m[I 2022-04-12 23:40:40,248]\u001b[0m Trial 76 finished with value: 2.1237087863690365e-10 and parameters: {'ln_tau': -4.186404174497243}. Best is trial 48 with value: 9.318910214197732e-11.\u001b[0m\n",
      "\u001b[32m[I 2022-04-12 23:40:40,389]\u001b[0m Trial 77 finished with value: 9.857000157740108e-11 and parameters: {'ln_tau': -7.6006801828819}. Best is trial 48 with value: 9.318910214197732e-11.\u001b[0m\n",
      "\u001b[32m[I 2022-04-12 23:40:40,431]\u001b[0m Trial 78 finished with value: 9.345548307137048e-11 and parameters: {'ln_tau': -8.963800518477711}. Best is trial 48 with value: 9.318910214197732e-11.\u001b[0m\n",
      "\u001b[32m[I 2022-04-12 23:40:40,473]\u001b[0m Trial 79 finished with value: 9.583491501537232e-11 and parameters: {'ln_tau': -8.970711090210244}. Best is trial 48 with value: 9.318910214197732e-11.\u001b[0m\n",
      "\u001b[32m[I 2022-04-12 23:40:40,501]\u001b[0m Trial 80 finished with value: 9.535463163635497e-11 and parameters: {'ln_tau': -8.157372382612383}. Best is trial 48 with value: 9.318910214197732e-11.\u001b[0m\n",
      "\u001b[32m[I 2022-04-12 23:40:40,550]\u001b[0m Trial 81 finished with value: 9.45640932941163e-11 and parameters: {'ln_tau': -8.504634176940927}. Best is trial 48 with value: 9.318910214197732e-11.\u001b[0m\n",
      "\u001b[32m[I 2022-04-12 23:40:40,590]\u001b[0m Trial 82 finished with value: 9.475255685999908e-11 and parameters: {'ln_tau': -8.682285162376598}. Best is trial 48 with value: 9.318910214197732e-11.\u001b[0m\n",
      "\u001b[32m[I 2022-04-12 23:40:40,616]\u001b[0m Trial 83 finished with value: 9.596297513838038e-11 and parameters: {'ln_tau': -8.353290470499202}. Best is trial 48 with value: 9.318910214197732e-11.\u001b[0m\n",
      "\u001b[32m[I 2022-04-12 23:40:40,755]\u001b[0m Trial 84 finished with value: 9.445307082530085e-11 and parameters: {'ln_tau': -8.794959174981214}. Best is trial 48 with value: 9.318910214197732e-11.\u001b[0m\n",
      "\u001b[32m[I 2022-04-12 23:40:40,800]\u001b[0m Trial 85 finished with value: 9.723953076011266e-11 and parameters: {'ln_tau': -7.850523790295214}. Best is trial 48 with value: 9.318910214197732e-11.\u001b[0m\n",
      "\u001b[32m[I 2022-04-12 23:40:40,841]\u001b[0m Trial 86 finished with value: 1.5410808747563132e-10 and parameters: {'ln_tau': -5.154486662328196}. Best is trial 48 with value: 9.318910214197732e-11.\u001b[0m\n",
      "\u001b[32m[I 2022-04-12 23:40:40,868]\u001b[0m Trial 87 finished with value: 9.490731309035973e-11 and parameters: {'ln_tau': -8.785934689549565}. Best is trial 48 with value: 9.318910214197732e-11.\u001b[0m\n",
      "\u001b[32m[I 2022-04-12 23:40:40,919]\u001b[0m Trial 88 finished with value: 9.541641354005091e-11 and parameters: {'ln_tau': -8.123970096351998}. Best is trial 48 with value: 9.318910214197732e-11.\u001b[0m\n",
      "\u001b[32m[I 2022-04-12 23:40:40,964]\u001b[0m Trial 89 finished with value: 1.031083877734552e-10 and parameters: {'ln_tau': -7.149417228302902}. Best is trial 48 with value: 9.318910214197732e-11.\u001b[0m\n",
      "\u001b[32m[I 2022-04-12 23:40:41,111]\u001b[0m Trial 90 finished with value: 9.342327534553752e-11 and parameters: {'ln_tau': -8.48165130635322}. Best is trial 48 with value: 9.318910214197732e-11.\u001b[0m\n",
      "\u001b[32m[I 2022-04-12 23:40:41,162]\u001b[0m Trial 91 finished with value: 9.594642296780582e-11 and parameters: {'ln_tau': -8.998392712212508}. Best is trial 48 with value: 9.318910214197732e-11.\u001b[0m\n",
      "\u001b[32m[I 2022-04-12 23:40:41,250]\u001b[0m Trial 92 finished with value: 9.49925049068751e-11 and parameters: {'ln_tau': -8.465458595656013}. Best is trial 48 with value: 9.318910214197732e-11.\u001b[0m\n",
      "\u001b[32m[I 2022-04-12 23:40:41,296]\u001b[0m Trial 93 finished with value: 9.54276049496883e-11 and parameters: {'ln_tau': -8.559921883121362}. Best is trial 48 with value: 9.318910214197732e-11.\u001b[0m\n",
      "\u001b[32m[I 2022-04-12 23:40:41,340]\u001b[0m Trial 94 finished with value: 9.498865496183941e-11 and parameters: {'ln_tau': -8.830819909995858}. Best is trial 48 with value: 9.318910214197732e-11.\u001b[0m\n",
      "\u001b[32m[I 2022-04-12 23:40:41,367]\u001b[0m Trial 95 finished with value: 9.475494622895559e-11 and parameters: {'ln_tau': -8.1864621685002}. Best is trial 48 with value: 9.318910214197732e-11.\u001b[0m\n",
      "\u001b[32m[I 2022-04-12 23:40:41,520]\u001b[0m Trial 96 finished with value: 9.706307828845855e-11 and parameters: {'ln_tau': -7.9020296079276475}. Best is trial 48 with value: 9.318910214197732e-11.\u001b[0m\n",
      "\u001b[32m[I 2022-04-12 23:40:41,586]\u001b[0m Trial 97 finished with value: 2.7617380216258354e-10 and parameters: {'ln_tau': -3.3147265325575703}. Best is trial 48 with value: 9.318910214197732e-11.\u001b[0m\n",
      "\u001b[32m[I 2022-04-12 23:40:41,753]\u001b[0m Trial 98 finished with value: 9.967841608656218e-11 and parameters: {'ln_tau': -7.507921127250274}. Best is trial 48 with value: 9.318910214197732e-11.\u001b[0m\n",
      "\u001b[32m[I 2022-04-12 23:40:41,806]\u001b[0m Trial 99 finished with value: 9.661725511587497e-11 and parameters: {'ln_tau': -8.57239710031587}. Best is trial 48 with value: 9.318910214197732e-11.\u001b[0m\n"
     ]
    }
   ],
   "source": [
    "study1 = optuna.create_study()\n",
    "study1.optimize(mse_least_squares_target, n_trials=100)"
   ]
  },
  {
   "cell_type": "code",
   "execution_count": 9,
   "id": "efe18bb4-6b9a-4891-b143-f58e28fe7df5",
   "metadata": {},
   "outputs": [
    {
     "data": {
      "text/plain": [
       "{'ln_tau': -8.666814802845284}"
      ]
     },
     "execution_count": 9,
     "metadata": {},
     "output_type": "execute_result"
    }
   ],
   "source": [
    "study1.best_params"
   ]
  },
  {
   "cell_type": "code",
   "execution_count": 10,
   "id": "c1f35f20-183b-4989-88ff-486d4965c685",
   "metadata": {},
   "outputs": [
    {
     "data": {
      "text/plain": [
       "FrozenTrial(number=48, values=[9.318910214197732e-11], datetime_start=datetime.datetime(2022, 4, 12, 23, 40, 38, 825137), datetime_complete=datetime.datetime(2022, 4, 12, 23, 40, 38, 863114), params={'ln_tau': -8.666814802845284}, distributions={'ln_tau': UniformDistribution(high=0.0, low=-9.0)}, user_attrs={}, system_attrs={}, intermediate_values={}, trial_id=48, state=TrialState.COMPLETE, value=None)"
      ]
     },
     "execution_count": 10,
     "metadata": {},
     "output_type": "execute_result"
    }
   ],
   "source": [
    "study1.best_trial"
   ]
  },
  {
   "cell_type": "markdown",
   "id": "41295a0c-dbff-4dad-b0a8-f7def4baf249",
   "metadata": {},
   "source": [
    "## StochasticGradientMSE"
   ]
  },
  {
   "cell_type": "code",
   "execution_count": 11,
   "id": "f70d7dbc-6d4e-4528-a8d1-7596c8f29926",
   "metadata": {},
   "outputs": [],
   "source": [
    "def mse_sg_target(trial):\n",
    "    ln_tau = trial.suggest_float(\"ln_tau\", -9, 0)\n",
    "    ln_h = trial.suggest_float(\"ln_h\", -9, 0)\n",
    "    ln_lambd = trial.suggest_float(\"ln_lambd\", -9, 0)\n",
    "    model = cfml.linear.StochasticGradientMSE(X_train, Y_train, math.exp(ln_h), math.exp(ln_lambd), math.exp(ln_tau), seed=0)\n",
    "    _res = mse(Y_test, apply(model, X_test))\n",
    "    # print(_res, ln_tau, ln_h, ln_lambd)\n",
    "    return _res"
   ]
  },
  {
   "cell_type": "code",
   "execution_count": 12,
   "id": "8162fba4-ae88-42a9-aa05-a174e2150085",
   "metadata": {},
   "outputs": [
    {
     "name": "stderr",
     "output_type": "stream",
     "text": [
      "\u001b[32m[I 2022-04-12 23:40:41,870]\u001b[0m A new study created in memory with name: no-name-9a8633bd-4e8d-4c6a-8feb-7941aab6abc8\u001b[0m\n",
      "\u001b[32m[I 2022-04-12 23:40:41,879]\u001b[0m Trial 0 finished with value: 0.2590905003609256 and parameters: {'ln_tau': -2.198979309434147, 'ln_h': -6.562036513569687, 'ln_lambd': -4.885498400423075}. Best is trial 0 with value: 0.2590905003609256.\u001b[0m\n",
      "\u001b[32m[I 2022-04-12 23:40:41,885]\u001b[0m Trial 1 finished with value: 0.25908706551123006 and parameters: {'ln_tau': -6.287437112166655, 'ln_h': -6.668618782981342, 'ln_lambd': -7.780014629331437}. Best is trial 1 with value: 0.25908706551123006.\u001b[0m\n",
      "C:\\Programing\\sem6\\ml\\lab2\\cfml\\linear.py:111: RuntimeWarning: overflow encountered in double_scalars\n",
      "  return (self._call(x) - y) ** 2\n",
      "C:\\Programing\\sem6\\ml\\lab2\\cfml\\linear.py:114: RuntimeWarning: overflow encountered in multiply\n",
      "  return 2 * (self._call(x) - y) * self._theta\n",
      "\u001b[33m[W 2022-04-12 23:40:41,898]\u001b[0m Trial 2 failed, because the objective function returned nan.\u001b[0m\n",
      "\u001b[32m[I 2022-04-12 23:40:41,933]\u001b[0m Trial 3 finished with value: 0.05797829503635825 and parameters: {'ln_tau': -4.113569696491918, 'ln_h': -1.4607219545395091, 'ln_lambd': -5.618337553714453}. Best is trial 3 with value: 0.05797829503635825.\u001b[0m\n",
      "\u001b[32m[I 2022-04-12 23:40:41,938]\u001b[0m Trial 4 finished with value: 0.2594898318811711 and parameters: {'ln_tau': -4.052407411913629, 'ln_h': -8.164577545502038, 'ln_lambd': -8.133713708085732}. Best is trial 3 with value: 0.05797829503635825.\u001b[0m\n",
      "\u001b[32m[I 2022-04-12 23:40:41,951]\u001b[0m Trial 5 finished with value: 0.04830263361783131 and parameters: {'ln_tau': -4.2273939030022465, 'ln_h': -3.2874408674222, 'ln_lambd': -7.926004296328042}. Best is trial 5 with value: 0.04830263361783131.\u001b[0m\n",
      "C:\\Programing\\sem6\\ml\\lab2\\cfml\\linear.py:111: RuntimeWarning: overflow encountered in double_scalars\n",
      "  return (self._call(x) - y) ** 2\n",
      "C:\\Programing\\sem6\\ml\\lab2\\cfml\\linear.py:114: RuntimeWarning: overflow encountered in multiply\n",
      "  return 2 * (self._call(x) - y) * self._theta\n",
      "\u001b[33m[W 2022-04-12 23:40:41,961]\u001b[0m Trial 6 failed, because the objective function returned nan.\u001b[0m\n",
      "\u001b[32m[I 2022-04-12 23:40:41,968]\u001b[0m Trial 7 finished with value: 0.2563163693776108 and parameters: {'ln_tau': -0.7901643248888792, 'ln_h': -4.113251650878507, 'ln_lambd': -4.04789403930554}. Best is trial 5 with value: 0.04830263361783131.\u001b[0m\n",
      "\u001b[32m[I 2022-04-12 23:40:41,976]\u001b[0m Trial 8 finished with value: 0.2545022692017678 and parameters: {'ln_tau': -5.844220134168872, 'ln_h': -5.412529391164987, 'ln_lambd': -8.499212823878038}. Best is trial 5 with value: 0.04830263361783131.\u001b[0m\n",
      "\u001b[32m[I 2022-04-12 23:40:41,983]\u001b[0m Trial 9 finished with value: 0.25296881975459157 and parameters: {'ln_tau': -4.108763540985935, 'ln_h': -5.1771945461410995, 'ln_lambd': -6.395732045290941}. Best is trial 5 with value: 0.04830263361783131.\u001b[0m\n",
      "\u001b[32m[I 2022-04-12 23:40:41,990]\u001b[0m Trial 10 finished with value: 0.25948951048563684 and parameters: {'ln_tau': -8.743389408009492, 'ln_h': -8.066360233793722, 'ln_lambd': -8.307604586353108}. Best is trial 5 with value: 0.04830263361783131.\u001b[0m\n",
      "\u001b[32m[I 2022-04-12 23:40:41,998]\u001b[0m Trial 11 finished with value: 0.24950321692687705 and parameters: {'ln_tau': -0.20728064468660357, 'ln_h': -2.1170596973797595, 'ln_lambd': -3.9952550280475787}. Best is trial 5 with value: 0.04830263361783131.\u001b[0m\n",
      "\u001b[32m[I 2022-04-12 23:40:42,024]\u001b[0m Trial 12 finished with value: 0.046755402767762015 and parameters: {'ln_tau': -8.28562597691581, 'ln_h': -3.099169263714475, 'ln_lambd': -0.7859190840425545}. Best is trial 12 with value: 0.046755402767762015.\u001b[0m\n",
      "\u001b[32m[I 2022-04-12 23:40:42,054]\u001b[0m Trial 13 finished with value: 0.0564381830246435 and parameters: {'ln_tau': -8.82865526931569, 'ln_h': -3.0923311230619928, 'ln_lambd': -0.7652232064121017}. Best is trial 12 with value: 0.046755402767762015.\u001b[0m\n",
      "C:\\Programing\\sem6\\ml\\lab2\\cfml\\linear.py:111: RuntimeWarning: overflow encountered in double_scalars\n",
      "  return (self._call(x) - y) ** 2\n",
      "C:\\Programing\\sem6\\ml\\lab2\\cfml\\linear.py:114: RuntimeWarning: overflow encountered in multiply\n",
      "  return 2 * (self._call(x) - y) * self._theta\n",
      "\u001b[33m[W 2022-04-12 23:40:42,070]\u001b[0m Trial 14 failed, because the objective function returned nan.\u001b[0m\n",
      "C:\\Programing\\sem6\\ml\\lab2\\cfml\\linear.py:111: RuntimeWarning: overflow encountered in double_scalars\n",
      "  return (self._call(x) - y) ** 2\n",
      "C:\\Programing\\sem6\\ml\\lab2\\cfml\\linear.py:114: RuntimeWarning: overflow encountered in multiply\n",
      "  return 2 * (self._call(x) - y) * self._theta\n",
      "\u001b[33m[W 2022-04-12 23:40:42,083]\u001b[0m Trial 15 failed, because the objective function returned nan.\u001b[0m\n",
      "C:\\Programing\\sem6\\ml\\lab2\\cfml\\linear.py:111: RuntimeWarning: overflow encountered in double_scalars\n",
      "  return (self._call(x) - y) ** 2\n",
      "C:\\Programing\\sem6\\ml\\lab2\\cfml\\linear.py:114: RuntimeWarning: overflow encountered in multiply\n",
      "  return 2 * (self._call(x) - y) * self._theta\n",
      "\u001b[33m[W 2022-04-12 23:40:42,102]\u001b[0m Trial 16 failed, because the objective function returned nan.\u001b[0m\n",
      "\u001b[32m[I 2022-04-12 23:40:42,141]\u001b[0m Trial 17 finished with value: 0.06347809125786219 and parameters: {'ln_tau': -6.84577702317239, 'ln_h': -0.877061796132903, 'ln_lambd': -0.1990905004953588}. Best is trial 12 with value: 0.046755402767762015.\u001b[0m\n",
      "\u001b[32m[I 2022-04-12 23:40:42,158]\u001b[0m Trial 18 finished with value: 0.04660062931032364 and parameters: {'ln_tau': -2.777234305944937, 'ln_h': -3.133012551289472, 'ln_lambd': -2.299932391783422}. Best is trial 18 with value: 0.04660062931032364.\u001b[0m\n",
      "\u001b[32m[I 2022-04-12 23:40:42,204]\u001b[0m Trial 19 finished with value: 0.047787750647545174 and parameters: {'ln_tau': -1.8807843590143036, 'ln_h': -2.6995174399084663, 'ln_lambd': -2.188089671584091}. Best is trial 18 with value: 0.04660062931032364.\u001b[0m\n",
      "C:\\Programing\\sem6\\ml\\lab2\\cfml\\linear.py:111: RuntimeWarning: overflow encountered in double_scalars\n",
      "  return (self._call(x) - y) ** 2\n",
      "C:\\Programing\\sem6\\ml\\lab2\\cfml\\linear.py:114: RuntimeWarning: overflow encountered in multiply\n",
      "  return 2 * (self._call(x) - y) * self._theta\n",
      "\u001b[33m[W 2022-04-12 23:40:42,218]\u001b[0m Trial 20 failed, because the objective function returned nan.\u001b[0m\n",
      "C:\\Programing\\sem6\\ml\\lab2\\cfml\\linear.py:111: RuntimeWarning: overflow encountered in double_scalars\n",
      "  return (self._call(x) - y) ** 2\n",
      "C:\\Programing\\sem6\\ml\\lab2\\cfml\\linear.py:114: RuntimeWarning: overflow encountered in multiply\n",
      "  return 2 * (self._call(x) - y) * self._theta\n",
      "\u001b[33m[W 2022-04-12 23:40:42,245]\u001b[0m Trial 21 failed, because the objective function returned nan.\u001b[0m\n",
      "\u001b[32m[I 2022-04-12 23:40:42,293]\u001b[0m Trial 22 finished with value: 0.04759194220558126 and parameters: {'ln_tau': -2.2016453688611755, 'ln_h': -4.05404672907028, 'ln_lambd': -2.2496871401017873}. Best is trial 18 with value: 0.04660062931032364.\u001b[0m\n",
      "C:\\Programing\\sem6\\ml\\lab2\\cfml\\linear.py:111: RuntimeWarning: overflow encountered in double_scalars\n",
      "  return (self._call(x) - y) ** 2\n",
      "C:\\Programing\\sem6\\ml\\lab2\\cfml\\linear.py:114: RuntimeWarning: overflow encountered in multiply\n",
      "  return 2 * (self._call(x) - y) * self._theta\n",
      "\u001b[33m[W 2022-04-12 23:40:42,311]\u001b[0m Trial 23 failed, because the objective function returned nan.\u001b[0m\n",
      "C:\\Programing\\sem6\\ml\\lab2\\cfml\\linear.py:111: RuntimeWarning: overflow encountered in double_scalars\n",
      "  return (self._call(x) - y) ** 2\n",
      "C:\\Programing\\sem6\\ml\\lab2\\cfml\\linear.py:114: RuntimeWarning: overflow encountered in multiply\n",
      "  return 2 * (self._call(x) - y) * self._theta\n",
      "\u001b[33m[W 2022-04-12 23:40:42,330]\u001b[0m Trial 24 failed, because the objective function returned nan.\u001b[0m\n",
      "C:\\Programing\\sem6\\ml\\lab2\\cfml\\linear.py:111: RuntimeWarning: overflow encountered in double_scalars\n",
      "  return (self._call(x) - y) ** 2\n",
      "C:\\Programing\\sem6\\ml\\lab2\\cfml\\linear.py:114: RuntimeWarning: overflow encountered in multiply\n",
      "  return 2 * (self._call(x) - y) * self._theta\n",
      "\u001b[33m[W 2022-04-12 23:40:42,350]\u001b[0m Trial 25 failed, because the objective function returned nan.\u001b[0m\n",
      "C:\\Programing\\sem6\\ml\\lab2\\cfml\\linear.py:111: RuntimeWarning: overflow encountered in double_scalars\n",
      "  return (self._call(x) - y) ** 2\n",
      "C:\\Programing\\sem6\\ml\\lab2\\cfml\\linear.py:114: RuntimeWarning: overflow encountered in multiply\n",
      "  return 2 * (self._call(x) - y) * self._theta\n",
      "\u001b[33m[W 2022-04-12 23:40:42,373]\u001b[0m Trial 26 failed, because the objective function returned nan.\u001b[0m\n",
      "C:\\Programing\\sem6\\ml\\lab2\\cfml\\linear.py:111: RuntimeWarning: overflow encountered in double_scalars\n",
      "  return (self._call(x) - y) ** 2\n",
      "C:\\Programing\\sem6\\ml\\lab2\\cfml\\linear.py:114: RuntimeWarning: overflow encountered in multiply\n",
      "  return 2 * (self._call(x) - y) * self._theta\n",
      "\u001b[33m[W 2022-04-12 23:40:42,402]\u001b[0m Trial 27 failed, because the objective function returned nan.\u001b[0m\n",
      "\u001b[32m[I 2022-04-12 23:40:42,469]\u001b[0m Trial 28 finished with value: 0.06457659564971635 and parameters: {'ln_tau': -7.508575848865831, 'ln_h': -0.8157537285546419, 'ln_lambd': -1.755008295713641}. Best is trial 18 with value: 0.04660062931032364.\u001b[0m\n",
      "\u001b[32m[I 2022-04-12 23:40:42,516]\u001b[0m Trial 29 finished with value: 0.059966965877701256 and parameters: {'ln_tau': -5.524058872810077, 'ln_h': -1.7803670883397607, 'ln_lambd': -1.4352062595802375}. Best is trial 18 with value: 0.04660062931032364.\u001b[0m\n",
      "\u001b[32m[I 2022-04-12 23:40:42,539]\u001b[0m Trial 30 finished with value: 0.1305758387996889 and parameters: {'ln_tau': -2.9749840369305582, 'ln_h': -5.469961949408596, 'ln_lambd': -3.1391125206861297}. Best is trial 18 with value: 0.04660062931032364.\u001b[0m\n",
      "\u001b[32m[I 2022-04-12 23:40:42,559]\u001b[0m Trial 31 finished with value: 0.04714519188679084 and parameters: {'ln_tau': -7.833793673730071, 'ln_h': -3.6600357642449333, 'ln_lambd': -3.083009871347295}. Best is trial 18 with value: 0.04660062931032364.\u001b[0m\n",
      "\u001b[32m[I 2022-04-12 23:40:42,605]\u001b[0m Trial 32 finished with value: 0.047628232794747524 and parameters: {'ln_tau': -5.077397826644772, 'ln_h': -2.4832671637016164, 'ln_lambd': -0.6191651459485756}. Best is trial 18 with value: 0.04660062931032364.\u001b[0m\n",
      "\u001b[32m[I 2022-04-12 23:40:42,640]\u001b[0m Trial 33 finished with value: 0.05475775404962941 and parameters: {'ln_tau': -7.716235914038883, 'ln_h': -3.6894196071846013, 'ln_lambd': -2.975975797174713}. Best is trial 18 with value: 0.04660062931032364.\u001b[0m\n",
      "C:\\Programing\\sem6\\ml\\lab2\\cfml\\linear.py:111: RuntimeWarning: overflow encountered in double_scalars\n",
      "  return (self._call(x) - y) ** 2\n",
      "C:\\Programing\\sem6\\ml\\lab2\\cfml\\linear.py:114: RuntimeWarning: overflow encountered in multiply\n",
      "  return 2 * (self._call(x) - y) * self._theta\n",
      "\u001b[33m[W 2022-04-12 23:40:42,661]\u001b[0m Trial 34 failed, because the objective function returned nan.\u001b[0m\n",
      "C:\\Programing\\sem6\\ml\\lab2\\cfml\\linear.py:111: RuntimeWarning: overflow encountered in double_scalars\n",
      "  return (self._call(x) - y) ** 2\n",
      "C:\\Programing\\sem6\\ml\\lab2\\cfml\\linear.py:114: RuntimeWarning: overflow encountered in multiply\n",
      "  return 2 * (self._call(x) - y) * self._theta\n",
      "\u001b[33m[W 2022-04-12 23:40:42,682]\u001b[0m Trial 35 failed, because the objective function returned nan.\u001b[0m\n",
      "C:\\Programing\\sem6\\ml\\lab2\\cfml\\linear.py:111: RuntimeWarning: overflow encountered in double_scalars\n",
      "  return (self._call(x) - y) ** 2\n",
      "C:\\Programing\\sem6\\ml\\lab2\\cfml\\linear.py:114: RuntimeWarning: overflow encountered in multiply\n",
      "  return 2 * (self._call(x) - y) * self._theta\n",
      "\u001b[33m[W 2022-04-12 23:40:42,700]\u001b[0m Trial 36 failed, because the objective function returned nan.\u001b[0m\n",
      "C:\\Programing\\sem6\\ml\\lab2\\cfml\\linear.py:111: RuntimeWarning: overflow encountered in double_scalars\n",
      "  return (self._call(x) - y) ** 2\n",
      "C:\\Programing\\sem6\\ml\\lab2\\cfml\\linear.py:114: RuntimeWarning: overflow encountered in multiply\n",
      "  return 2 * (self._call(x) - y) * self._theta\n",
      "\u001b[33m[W 2022-04-12 23:40:42,716]\u001b[0m Trial 37 failed, because the objective function returned nan.\u001b[0m\n",
      "C:\\Programing\\sem6\\ml\\lab2\\cfml\\linear.py:111: RuntimeWarning: overflow encountered in double_scalars\n",
      "  return (self._call(x) - y) ** 2\n",
      "C:\\Programing\\sem6\\ml\\lab2\\cfml\\linear.py:114: RuntimeWarning: overflow encountered in multiply\n",
      "  return 2 * (self._call(x) - y) * self._theta\n",
      "\u001b[33m[W 2022-04-12 23:40:42,735]\u001b[0m Trial 38 failed, because the objective function returned nan.\u001b[0m\n",
      "\u001b[32m[I 2022-04-12 23:40:42,767]\u001b[0m Trial 39 finished with value: 0.04680388505758584 and parameters: {'ln_tau': -7.554808853981517, 'ln_h': -4.71541279487032, 'ln_lambd': -3.099200121530504}. Best is trial 18 with value: 0.04660062931032364.\u001b[0m\n",
      "\u001b[32m[I 2022-04-12 23:40:42,793]\u001b[0m Trial 40 finished with value: 0.047136161062348886 and parameters: {'ln_tau': -3.043104494193665, 'ln_h': -4.592953467250842, 'ln_lambd': -1.4943334043898693}. Best is trial 18 with value: 0.04660062931032364.\u001b[0m\n",
      "C:\\Programing\\sem6\\ml\\lab2\\cfml\\linear.py:111: RuntimeWarning: overflow encountered in double_scalars\n",
      "  return (self._call(x) - y) ** 2\n",
      "C:\\Programing\\sem6\\ml\\lab2\\cfml\\linear.py:114: RuntimeWarning: overflow encountered in multiply\n",
      "  return 2 * (self._call(x) - y) * self._theta\n",
      "\u001b[33m[W 2022-04-12 23:40:42,812]\u001b[0m Trial 41 failed, because the objective function returned nan.\u001b[0m\n",
      "\u001b[32m[I 2022-04-12 23:40:42,831]\u001b[0m Trial 42 finished with value: 0.25406317809534906 and parameters: {'ln_tau': -6.88134661661934, 'ln_h': -6.271818809474908, 'ln_lambd': -2.541084857235575}. Best is trial 18 with value: 0.04660062931032364.\u001b[0m\n",
      "\u001b[32m[I 2022-04-12 23:40:42,855]\u001b[0m Trial 43 finished with value: 0.10612551454075932 and parameters: {'ln_tau': -8.35800706032853, 'ln_h': -4.766481948770376, 'ln_lambd': -1.0500063123188803}. Best is trial 18 with value: 0.04660062931032364.\u001b[0m\n",
      "\u001b[32m[I 2022-04-12 23:40:42,888]\u001b[0m Trial 44 finished with value: 0.04696892419201403 and parameters: {'ln_tau': -3.3335786313612825, 'ln_h': -2.9641357880574377, 'ln_lambd': -3.706612994082966}. Best is trial 18 with value: 0.04660062931032364.\u001b[0m\n",
      "C:\\Programing\\sem6\\ml\\lab2\\cfml\\linear.py:111: RuntimeWarning: overflow encountered in double_scalars\n",
      "  return (self._call(x) - y) ** 2\n",
      "C:\\Programing\\sem6\\ml\\lab2\\cfml\\linear.py:114: RuntimeWarning: overflow encountered in multiply\n",
      "  return 2 * (self._call(x) - y) * self._theta\n",
      "\u001b[33m[W 2022-04-12 23:40:42,913]\u001b[0m Trial 45 failed, because the objective function returned nan.\u001b[0m\n",
      "C:\\Programing\\sem6\\ml\\lab2\\cfml\\linear.py:111: RuntimeWarning: overflow encountered in double_scalars\n",
      "  return (self._call(x) - y) ** 2\n",
      "C:\\Programing\\sem6\\ml\\lab2\\cfml\\linear.py:114: RuntimeWarning: overflow encountered in multiply\n",
      "  return 2 * (self._call(x) - y) * self._theta\n",
      "\u001b[33m[W 2022-04-12 23:40:42,934]\u001b[0m Trial 46 failed, because the objective function returned nan.\u001b[0m\n",
      "C:\\Programing\\sem6\\ml\\lab2\\cfml\\linear.py:111: RuntimeWarning: overflow encountered in double_scalars\n",
      "  return (self._call(x) - y) ** 2\n",
      "C:\\Programing\\sem6\\ml\\lab2\\cfml\\linear.py:114: RuntimeWarning: overflow encountered in multiply\n",
      "  return 2 * (self._call(x) - y) * self._theta\n",
      "\u001b[33m[W 2022-04-12 23:40:42,953]\u001b[0m Trial 47 failed, because the objective function returned nan.\u001b[0m\n",
      "\u001b[32m[I 2022-04-12 23:40:42,972]\u001b[0m Trial 48 finished with value: 0.25201344571424245 and parameters: {'ln_tau': -6.811870617537885, 'ln_h': -6.011801254583644, 'ln_lambd': -0.19572226012658533}. Best is trial 18 with value: 0.04660062931032364.\u001b[0m\n",
      "C:\\Programing\\sem6\\ml\\lab2\\cfml\\linear.py:111: RuntimeWarning: overflow encountered in double_scalars\n",
      "  return (self._call(x) - y) ** 2\n",
      "C:\\Programing\\sem6\\ml\\lab2\\cfml\\linear.py:114: RuntimeWarning: overflow encountered in multiply\n",
      "  return 2 * (self._call(x) - y) * self._theta\n",
      "\u001b[33m[W 2022-04-12 23:40:42,993]\u001b[0m Trial 49 failed, because the objective function returned nan.\u001b[0m\n",
      "\u001b[32m[I 2022-04-12 23:40:43,005]\u001b[0m Trial 50 finished with value: 0.25949125402286527 and parameters: {'ln_tau': -4.740898231064446, 'ln_h': -8.99057996280414, 'ln_lambd': -4.741252007264414}. Best is trial 18 with value: 0.04660062931032364.\u001b[0m\n",
      "C:\\Programing\\sem6\\ml\\lab2\\cfml\\linear.py:111: RuntimeWarning: overflow encountered in double_scalars\n",
      "  return (self._call(x) - y) ** 2\n",
      "C:\\Programing\\sem6\\ml\\lab2\\cfml\\linear.py:114: RuntimeWarning: overflow encountered in multiply\n",
      "  return 2 * (self._call(x) - y) * self._theta\n",
      "\u001b[33m[W 2022-04-12 23:40:43,022]\u001b[0m Trial 51 failed, because the objective function returned nan.\u001b[0m\n",
      "\u001b[32m[I 2022-04-12 23:40:43,036]\u001b[0m Trial 52 finished with value: 0.2594868536311624 and parameters: {'ln_tau': -1.5840217146353128, 'ln_h': -7.135197601472003, 'ln_lambd': -5.516806616597442}. Best is trial 18 with value: 0.04660062931032364.\u001b[0m\n",
      "\u001b[32m[I 2022-04-12 23:40:43,063]\u001b[0m Trial 53 finished with value: 0.049261793982167075 and parameters: {'ln_tau': -8.148633681901456, 'ln_h': -4.402749381345777, 'ln_lambd': -1.7820329311568892}. Best is trial 18 with value: 0.04660062931032364.\u001b[0m\n",
      "C:\\Programing\\sem6\\ml\\lab2\\cfml\\linear.py:111: RuntimeWarning: overflow encountered in double_scalars\n",
      "  return (self._call(x) - y) ** 2\n",
      "C:\\Programing\\sem6\\ml\\lab2\\cfml\\linear.py:114: RuntimeWarning: overflow encountered in multiply\n",
      "  return 2 * (self._call(x) - y) * self._theta\n",
      "\u001b[33m[W 2022-04-12 23:40:43,078]\u001b[0m Trial 54 failed, because the objective function returned nan.\u001b[0m\n",
      "\u001b[32m[I 2022-04-12 23:40:43,116]\u001b[0m Trial 55 finished with value: 0.04910474249908099 and parameters: {'ln_tau': -3.111261873113218, 'ln_h': -3.076370624063544, 'ln_lambd': -3.6573380735142353}. Best is trial 18 with value: 0.04660062931032364.\u001b[0m\n",
      "\u001b[32m[I 2022-04-12 23:40:43,133]\u001b[0m Trial 56 finished with value: 0.07736408181298213 and parameters: {'ln_tau': -3.492371744709228, 'ln_h': -2.4146807681720044, 'ln_lambd': -3.367765422285621}. Best is trial 18 with value: 0.04660062931032364.\u001b[0m\n",
      "\u001b[32m[I 2022-04-12 23:40:43,164]\u001b[0m Trial 57 finished with value: 0.0588630298719935 and parameters: {'ln_tau': -2.6002216239009432, 'ln_h': -3.607414282970784, 'ln_lambd': -4.350725555942701}. Best is trial 18 with value: 0.04660062931032364.\u001b[0m\n",
      "C:\\Programing\\sem6\\ml\\lab2\\cfml\\linear.py:111: RuntimeWarning: overflow encountered in double_scalars\n",
      "  return (self._call(x) - y) ** 2\n",
      "C:\\Programing\\sem6\\ml\\lab2\\cfml\\linear.py:114: RuntimeWarning: overflow encountered in multiply\n",
      "  return 2 * (self._call(x) - y) * self._theta\n",
      "\u001b[33m[W 2022-04-12 23:40:43,196]\u001b[0m Trial 58 failed, because the objective function returned nan.\u001b[0m\n",
      "\u001b[32m[I 2022-04-12 23:40:43,239]\u001b[0m Trial 59 finished with value: 0.046583173451780924 and parameters: {'ln_tau': -3.6481681042127505, 'ln_h': -1.1059587448299322, 'ln_lambd': -5.363347342955206}. Best is trial 59 with value: 0.046583173451780924.\u001b[0m\n",
      "C:\\Programing\\sem6\\ml\\lab2\\cfml\\linear.py:111: RuntimeWarning: overflow encountered in double_scalars\n",
      "  return (self._call(x) - y) ** 2\n",
      "C:\\Programing\\sem6\\ml\\lab2\\cfml\\linear.py:114: RuntimeWarning: overflow encountered in multiply\n",
      "  return 2 * (self._call(x) - y) * self._theta\n",
      "\u001b[33m[W 2022-04-12 23:40:43,263]\u001b[0m Trial 60 failed, because the objective function returned nan.\u001b[0m\n",
      "C:\\Programing\\sem6\\ml\\lab2\\cfml\\linear.py:111: RuntimeWarning: overflow encountered in double_scalars\n",
      "  return (self._call(x) - y) ** 2\n",
      "C:\\Programing\\sem6\\ml\\lab2\\cfml\\linear.py:114: RuntimeWarning: overflow encountered in multiply\n",
      "  return 2 * (self._call(x) - y) * self._theta\n",
      "\u001b[33m[W 2022-04-12 23:40:43,281]\u001b[0m Trial 61 failed, because the objective function returned nan.\u001b[0m\n",
      "C:\\Programing\\sem6\\ml\\lab2\\cfml\\linear.py:111: RuntimeWarning: overflow encountered in double_scalars\n",
      "  return (self._call(x) - y) ** 2\n",
      "C:\\Programing\\sem6\\ml\\lab2\\cfml\\linear.py:114: RuntimeWarning: overflow encountered in multiply\n",
      "  return 2 * (self._call(x) - y) * self._theta\n",
      "\u001b[33m[W 2022-04-12 23:40:43,297]\u001b[0m Trial 62 failed, because the objective function returned nan.\u001b[0m\n",
      "\u001b[32m[I 2022-04-12 23:40:43,314]\u001b[0m Trial 63 finished with value: 0.2294310926687887 and parameters: {'ln_tau': -6.0072500917595555, 'ln_h': -1.273137675360303, 'ln_lambd': -6.979935878581493}. Best is trial 59 with value: 0.046583173451780924.\u001b[0m\n",
      "C:\\Programing\\sem6\\ml\\lab2\\cfml\\linear.py:111: RuntimeWarning: overflow encountered in double_scalars\n",
      "  return (self._call(x) - y) ** 2\n",
      "C:\\Programing\\sem6\\ml\\lab2\\cfml\\linear.py:114: RuntimeWarning: overflow encountered in multiply\n",
      "  return 2 * (self._call(x) - y) * self._theta\n",
      "\u001b[33m[W 2022-04-12 23:40:43,334]\u001b[0m Trial 64 failed, because the objective function returned nan.\u001b[0m\n",
      "\u001b[32m[I 2022-04-12 23:40:43,395]\u001b[0m Trial 65 finished with value: 0.04722872016700066 and parameters: {'ln_tau': -1.313203371198786, 'ln_h': -1.654181627582767, 'ln_lambd': -5.462459918146142}. Best is trial 59 with value: 0.046583173451780924.\u001b[0m\n",
      "C:\\Programing\\sem6\\ml\\lab2\\cfml\\linear.py:111: RuntimeWarning: overflow encountered in double_scalars\n",
      "  return (self._call(x) - y) ** 2\n",
      "C:\\Programing\\sem6\\ml\\lab2\\cfml\\linear.py:114: RuntimeWarning: overflow encountered in multiply\n",
      "  return 2 * (self._call(x) - y) * self._theta\n",
      "\u001b[33m[W 2022-04-12 23:40:43,413]\u001b[0m Trial 66 failed, because the objective function returned nan.\u001b[0m\n",
      "C:\\Programing\\sem6\\ml\\lab2\\cfml\\linear.py:111: RuntimeWarning: overflow encountered in double_scalars\n",
      "  return (self._call(x) - y) ** 2\n",
      "C:\\Programing\\sem6\\ml\\lab2\\cfml\\linear.py:114: RuntimeWarning: overflow encountered in multiply\n",
      "  return 2 * (self._call(x) - y) * self._theta\n",
      "\u001b[33m[W 2022-04-12 23:40:43,439]\u001b[0m Trial 67 failed, because the objective function returned nan.\u001b[0m\n",
      "C:\\Programing\\sem6\\ml\\lab2\\cfml\\linear.py:111: RuntimeWarning: overflow encountered in double_scalars\n",
      "  return (self._call(x) - y) ** 2\n",
      "C:\\Programing\\sem6\\ml\\lab2\\cfml\\linear.py:114: RuntimeWarning: overflow encountered in multiply\n",
      "  return 2 * (self._call(x) - y) * self._theta\n",
      "\u001b[33m[W 2022-04-12 23:40:43,467]\u001b[0m Trial 68 failed, because the objective function returned nan.\u001b[0m\n",
      "C:\\Programing\\sem6\\ml\\lab2\\cfml\\linear.py:111: RuntimeWarning: overflow encountered in double_scalars\n",
      "  return (self._call(x) - y) ** 2\n",
      "C:\\Programing\\sem6\\ml\\lab2\\cfml\\linear.py:114: RuntimeWarning: overflow encountered in multiply\n",
      "  return 2 * (self._call(x) - y) * self._theta\n",
      "\u001b[33m[W 2022-04-12 23:40:43,493]\u001b[0m Trial 69 failed, because the objective function returned nan.\u001b[0m\n",
      "C:\\Programing\\sem6\\ml\\lab2\\cfml\\linear.py:111: RuntimeWarning: overflow encountered in double_scalars\n",
      "  return (self._call(x) - y) ** 2\n",
      "C:\\Programing\\sem6\\ml\\lab2\\cfml\\linear.py:114: RuntimeWarning: overflow encountered in multiply\n",
      "  return 2 * (self._call(x) - y) * self._theta\n",
      "\u001b[33m[W 2022-04-12 23:40:43,515]\u001b[0m Trial 70 failed, because the objective function returned nan.\u001b[0m\n",
      "C:\\Programing\\sem6\\ml\\lab2\\cfml\\linear.py:111: RuntimeWarning: overflow encountered in double_scalars\n",
      "  return (self._call(x) - y) ** 2\n",
      "C:\\Programing\\sem6\\ml\\lab2\\cfml\\linear.py:114: RuntimeWarning: overflow encountered in multiply\n",
      "  return 2 * (self._call(x) - y) * self._theta\n",
      "\u001b[33m[W 2022-04-12 23:40:43,536]\u001b[0m Trial 71 failed, because the objective function returned nan.\u001b[0m\n",
      "\u001b[32m[I 2022-04-12 23:40:43,591]\u001b[0m Trial 72 finished with value: 0.05812418168710199 and parameters: {'ln_tau': -3.7377189336281864, 'ln_h': -1.0911151501575995, 'ln_lambd': -6.181979156713715}. Best is trial 59 with value: 0.046583173451780924.\u001b[0m\n",
      "\u001b[32m[I 2022-04-12 23:40:43,647]\u001b[0m Trial 73 finished with value: 0.059484383220333725 and parameters: {'ln_tau': -4.574663636473513, 'ln_h': -1.8925639780038155, 'ln_lambd': -2.522957427402178}. Best is trial 59 with value: 0.046583173451780924.\u001b[0m\n",
      "C:\\Programing\\sem6\\ml\\lab2\\cfml\\linear.py:111: RuntimeWarning: overflow encountered in double_scalars\n",
      "  return (self._call(x) - y) ** 2\n",
      "C:\\Programing\\sem6\\ml\\lab2\\cfml\\linear.py:114: RuntimeWarning: overflow encountered in multiply\n",
      "  return 2 * (self._call(x) - y) * self._theta\n",
      "\u001b[33m[W 2022-04-12 23:40:43,670]\u001b[0m Trial 74 failed, because the objective function returned nan.\u001b[0m\n",
      "C:\\Programing\\sem6\\ml\\lab2\\cfml\\linear.py:111: RuntimeWarning: overflow encountered in double_scalars\n",
      "  return (self._call(x) - y) ** 2\n",
      "C:\\Programing\\sem6\\ml\\lab2\\cfml\\linear.py:114: RuntimeWarning: overflow encountered in multiply\n",
      "  return 2 * (self._call(x) - y) * self._theta\n",
      "\u001b[33m[W 2022-04-12 23:40:43,697]\u001b[0m Trial 75 failed, because the objective function returned nan.\u001b[0m\n",
      "C:\\Programing\\sem6\\ml\\lab2\\cfml\\linear.py:111: RuntimeWarning: overflow encountered in double_scalars\n",
      "  return (self._call(x) - y) ** 2\n",
      "C:\\Programing\\sem6\\ml\\lab2\\cfml\\linear.py:114: RuntimeWarning: overflow encountered in multiply\n",
      "  return 2 * (self._call(x) - y) * self._theta\n",
      "\u001b[33m[W 2022-04-12 23:40:43,712]\u001b[0m Trial 76 failed, because the objective function returned nan.\u001b[0m\n",
      "C:\\Programing\\sem6\\ml\\lab2\\cfml\\linear.py:111: RuntimeWarning: overflow encountered in double_scalars\n",
      "  return (self._call(x) - y) ** 2\n",
      "C:\\Programing\\sem6\\ml\\lab2\\cfml\\linear.py:114: RuntimeWarning: overflow encountered in multiply\n",
      "  return 2 * (self._call(x) - y) * self._theta\n",
      "\u001b[33m[W 2022-04-12 23:40:43,734]\u001b[0m Trial 77 failed, because the objective function returned nan.\u001b[0m\n",
      "\u001b[32m[I 2022-04-12 23:40:43,759]\u001b[0m Trial 78 finished with value: 0.1762985308674645 and parameters: {'ln_tau': -5.297738961174856, 'ln_h': -4.945823022555191, 'ln_lambd': -4.837317501140269}. Best is trial 59 with value: 0.046583173451780924.\u001b[0m\n",
      "C:\\Programing\\sem6\\ml\\lab2\\cfml\\linear.py:111: RuntimeWarning: overflow encountered in double_scalars\n",
      "  return (self._call(x) - y) ** 2\n",
      "C:\\Programing\\sem6\\ml\\lab2\\cfml\\linear.py:74: RuntimeWarning: invalid value encountered in double_scalars\n",
      "  if abs(new_metric - self._metric) < self._metric_eps:\n",
      "\u001b[33m[W 2022-04-12 23:40:43,778]\u001b[0m Trial 79 failed, because the objective function returned nan.\u001b[0m\n",
      "C:\\Programing\\sem6\\ml\\lab2\\cfml\\linear.py:111: RuntimeWarning: overflow encountered in double_scalars\n",
      "  return (self._call(x) - y) ** 2\n",
      "C:\\Programing\\sem6\\ml\\lab2\\cfml\\linear.py:114: RuntimeWarning: overflow encountered in multiply\n",
      "  return 2 * (self._call(x) - y) * self._theta\n",
      "\u001b[33m[W 2022-04-12 23:40:43,798]\u001b[0m Trial 80 failed, because the objective function returned nan.\u001b[0m\n",
      "C:\\Programing\\sem6\\ml\\lab2\\cfml\\linear.py:111: RuntimeWarning: overflow encountered in double_scalars\n",
      "  return (self._call(x) - y) ** 2\n",
      "C:\\Programing\\sem6\\ml\\lab2\\cfml\\linear.py:114: RuntimeWarning: overflow encountered in multiply\n",
      "  return 2 * (self._call(x) - y) * self._theta\n",
      "\u001b[33m[W 2022-04-12 23:40:43,820]\u001b[0m Trial 81 failed, because the objective function returned nan.\u001b[0m\n",
      "C:\\Programing\\sem6\\ml\\lab2\\cfml\\linear.py:111: RuntimeWarning: overflow encountered in double_scalars\n",
      "  return (self._call(x) - y) ** 2\n",
      "C:\\Programing\\sem6\\ml\\lab2\\cfml\\linear.py:114: RuntimeWarning: overflow encountered in multiply\n",
      "  return 2 * (self._call(x) - y) * self._theta\n",
      "\u001b[33m[W 2022-04-12 23:40:43,834]\u001b[0m Trial 82 failed, because the objective function returned nan.\u001b[0m\n",
      "C:\\Programing\\sem6\\ml\\lab2\\cfml\\linear.py:111: RuntimeWarning: overflow encountered in double_scalars\n",
      "  return (self._call(x) - y) ** 2\n",
      "C:\\Programing\\sem6\\ml\\lab2\\cfml\\linear.py:114: RuntimeWarning: overflow encountered in multiply\n",
      "  return 2 * (self._call(x) - y) * self._theta\n",
      "\u001b[33m[W 2022-04-12 23:40:43,866]\u001b[0m Trial 83 failed, because the objective function returned nan.\u001b[0m\n",
      "C:\\Programing\\sem6\\ml\\lab2\\cfml\\linear.py:111: RuntimeWarning: overflow encountered in double_scalars\n",
      "  return (self._call(x) - y) ** 2\n",
      "C:\\Programing\\sem6\\ml\\lab2\\cfml\\linear.py:114: RuntimeWarning: overflow encountered in multiply\n",
      "  return 2 * (self._call(x) - y) * self._theta\n",
      "\u001b[33m[W 2022-04-12 23:40:43,889]\u001b[0m Trial 84 failed, because the objective function returned nan.\u001b[0m\n",
      "C:\\Programing\\sem6\\ml\\lab2\\cfml\\linear.py:111: RuntimeWarning: overflow encountered in double_scalars\n",
      "  return (self._call(x) - y) ** 2\n",
      "C:\\Programing\\sem6\\ml\\lab2\\cfml\\linear.py:114: RuntimeWarning: overflow encountered in multiply\n",
      "  return 2 * (self._call(x) - y) * self._theta\n",
      "\u001b[33m[W 2022-04-12 23:40:43,915]\u001b[0m Trial 85 failed, because the objective function returned nan.\u001b[0m\n",
      "C:\\Programing\\sem6\\ml\\lab2\\cfml\\linear.py:111: RuntimeWarning: overflow encountered in double_scalars\n",
      "  return (self._call(x) - y) ** 2\n",
      "C:\\Programing\\sem6\\ml\\lab2\\cfml\\linear.py:114: RuntimeWarning: overflow encountered in multiply\n",
      "  return 2 * (self._call(x) - y) * self._theta\n",
      "\u001b[33m[W 2022-04-12 23:40:43,931]\u001b[0m Trial 86 failed, because the objective function returned nan.\u001b[0m\n",
      "\u001b[32m[I 2022-04-12 23:40:43,963]\u001b[0m Trial 87 finished with value: 0.04757292236922857 and parameters: {'ln_tau': -2.552675661454135, 'ln_h': -4.194903379571785, 'ln_lambd': -7.496270304194377}. Best is trial 59 with value: 0.046583173451780924.\u001b[0m\n",
      "C:\\Programing\\sem6\\ml\\lab2\\cfml\\linear.py:111: RuntimeWarning: overflow encountered in double_scalars\n",
      "  return (self._call(x) - y) ** 2\n",
      "C:\\Programing\\sem6\\ml\\lab2\\cfml\\linear.py:114: RuntimeWarning: overflow encountered in multiply\n",
      "  return 2 * (self._call(x) - y) * self._theta\n",
      "\u001b[33m[W 2022-04-12 23:40:43,989]\u001b[0m Trial 88 failed, because the objective function returned nan.\u001b[0m\n",
      "C:\\Programing\\sem6\\ml\\lab2\\cfml\\linear.py:111: RuntimeWarning: overflow encountered in double_scalars\n",
      "  return (self._call(x) - y) ** 2\n",
      "C:\\Programing\\sem6\\ml\\lab2\\cfml\\linear.py:114: RuntimeWarning: overflow encountered in multiply\n",
      "  return 2 * (self._call(x) - y) * self._theta\n",
      "\u001b[33m[W 2022-04-12 23:40:44,009]\u001b[0m Trial 89 failed, because the objective function returned nan.\u001b[0m\n",
      "C:\\Programing\\sem6\\ml\\lab2\\cfml\\linear.py:111: RuntimeWarning: overflow encountered in double_scalars\n",
      "  return (self._call(x) - y) ** 2\n",
      "C:\\Programing\\sem6\\ml\\lab2\\cfml\\linear.py:114: RuntimeWarning: overflow encountered in multiply\n",
      "  return 2 * (self._call(x) - y) * self._theta\n",
      "\u001b[33m[W 2022-04-12 23:40:44,035]\u001b[0m Trial 90 failed, because the objective function returned nan.\u001b[0m\n",
      "\u001b[32m[I 2022-04-12 23:40:44,073]\u001b[0m Trial 91 finished with value: 0.048850451999825927 and parameters: {'ln_tau': -4.0986555388520545, 'ln_h': -2.8118274834973493, 'ln_lambd': -3.837728869335213}. Best is trial 59 with value: 0.046583173451780924.\u001b[0m\n",
      "C:\\Programing\\sem6\\ml\\lab2\\cfml\\linear.py:111: RuntimeWarning: overflow encountered in double_scalars\n",
      "  return (self._call(x) - y) ** 2\n",
      "C:\\Programing\\sem6\\ml\\lab2\\cfml\\linear.py:114: RuntimeWarning: overflow encountered in multiply\n",
      "  return 2 * (self._call(x) - y) * self._theta\n",
      "\u001b[33m[W 2022-04-12 23:40:44,093]\u001b[0m Trial 92 failed, because the objective function returned nan.\u001b[0m\n",
      "C:\\Programing\\sem6\\ml\\lab2\\cfml\\linear.py:111: RuntimeWarning: overflow encountered in double_scalars\n",
      "  return (self._call(x) - y) ** 2\n",
      "C:\\Programing\\sem6\\ml\\lab2\\cfml\\linear.py:114: RuntimeWarning: overflow encountered in multiply\n",
      "  return 2 * (self._call(x) - y) * self._theta\n",
      "\u001b[33m[W 2022-04-12 23:40:44,119]\u001b[0m Trial 93 failed, because the objective function returned nan.\u001b[0m\n",
      "\u001b[32m[I 2022-04-12 23:40:44,141]\u001b[0m Trial 94 finished with value: 0.04726963830845859 and parameters: {'ln_tau': -3.4002989884050376, 'ln_h': -3.3934884486399355, 'ln_lambd': -4.349691466205258}. Best is trial 59 with value: 0.046583173451780924.\u001b[0m\n",
      "C:\\Programing\\sem6\\ml\\lab2\\cfml\\linear.py:111: RuntimeWarning: overflow encountered in double_scalars\n",
      "  return (self._call(x) - y) ** 2\n",
      "C:\\Programing\\sem6\\ml\\lab2\\cfml\\linear.py:114: RuntimeWarning: overflow encountered in multiply\n",
      "  return 2 * (self._call(x) - y) * self._theta\n",
      "\u001b[33m[W 2022-04-12 23:40:44,162]\u001b[0m Trial 95 failed, because the objective function returned nan.\u001b[0m\n",
      "C:\\Programing\\sem6\\ml\\lab2\\cfml\\linear.py:111: RuntimeWarning: overflow encountered in double_scalars\n",
      "  return (self._call(x) - y) ** 2\n",
      "C:\\Programing\\sem6\\ml\\lab2\\cfml\\linear.py:114: RuntimeWarning: overflow encountered in multiply\n",
      "  return 2 * (self._call(x) - y) * self._theta\n",
      "\u001b[33m[W 2022-04-12 23:40:44,192]\u001b[0m Trial 96 failed, because the objective function returned nan.\u001b[0m\n",
      "C:\\Programing\\sem6\\ml\\lab2\\cfml\\linear.py:111: RuntimeWarning: overflow encountered in double_scalars\n",
      "  return (self._call(x) - y) ** 2\n",
      "C:\\Programing\\sem6\\ml\\lab2\\cfml\\linear.py:114: RuntimeWarning: overflow encountered in multiply\n",
      "  return 2 * (self._call(x) - y) * self._theta\n",
      "\u001b[33m[W 2022-04-12 23:40:44,220]\u001b[0m Trial 97 failed, because the objective function returned nan.\u001b[0m\n",
      "\u001b[32m[I 2022-04-12 23:40:44,277]\u001b[0m Trial 98 finished with value: 0.0612051743775707 and parameters: {'ln_tau': -7.174080109122441, 'ln_h': -2.2421425416963934, 'ln_lambd': -3.540832874078637}. Best is trial 59 with value: 0.046583173451780924.\u001b[0m\n",
      "\u001b[32m[I 2022-04-12 23:40:44,294]\u001b[0m Trial 99 finished with value: 0.25350750597544214 and parameters: {'ln_tau': -6.3263435978978, 'ln_h': -5.720700560251741, 'ln_lambd': -8.891189677825054}. Best is trial 59 with value: 0.046583173451780924.\u001b[0m\n"
     ]
    }
   ],
   "source": [
    "study2 = optuna.create_study()\n",
    "study2.optimize(mse_sg_target, n_trials=100)"
   ]
  },
  {
   "cell_type": "code",
   "execution_count": 13,
   "id": "934af090-da6f-41cd-a0dc-60e4ea175b89",
   "metadata": {},
   "outputs": [
    {
     "data": {
      "text/plain": [
       "{'ln_tau': -3.6481681042127505,\n",
       " 'ln_h': -1.1059587448299322,\n",
       " 'ln_lambd': -5.363347342955206}"
      ]
     },
     "execution_count": 13,
     "metadata": {},
     "output_type": "execute_result"
    }
   ],
   "source": [
    "study2.best_params"
   ]
  },
  {
   "cell_type": "markdown",
   "id": "cabb364e-2f6c-470d-9c05-8ae8cf5c113e",
   "metadata": {},
   "source": [
    "## StochasticGradientSMAPE"
   ]
  },
  {
   "cell_type": "code",
   "execution_count": 14,
   "id": "8d985e5b-517f-4b89-9c1e-70f603f759d8",
   "metadata": {},
   "outputs": [],
   "source": [
    "def smape(Y_real, Y_pred):\n",
    "    return (np.abs(Y_real - Y_pred) / (np.abs(Y_real) + np.abs(Y_pred))).mean()\n",
    "\n",
    "def smape_sg_target(trial):\n",
    "    ln_tau = trial.suggest_float(\"ln_tau\", -9, 0)\n",
    "    ln_h = trial.suggest_float(\"ln_h\", -9, 0)\n",
    "    ln_lambd = trial.suggest_float(\"ln_lambd\", -9, 0)\n",
    "    model = cfml.linear.StochasticGradientSMAPE(X_train, Y_train, math.exp(ln_h), math.exp(ln_lambd), math.exp(ln_tau), seed=0)\n",
    "    _res = smape(Y_test, apply(model, X_test))\n",
    "    # print(_res, ln_tau, ln_h, ln_lambd)\n",
    "    return _res"
   ]
  },
  {
   "cell_type": "code",
   "execution_count": 15,
   "id": "43443a2b-c2d9-4171-aab5-39c61c0dddda",
   "metadata": {},
   "outputs": [
    {
     "name": "stderr",
     "output_type": "stream",
     "text": [
      "\u001b[32m[I 2022-04-12 23:40:44,344]\u001b[0m A new study created in memory with name: no-name-d217e2ff-3014-4cfe-9c37-d9885838e6a5\u001b[0m\n",
      "\u001b[32m[I 2022-04-12 23:40:48,758]\u001b[0m Trial 0 finished with value: 0.14954526116874134 and parameters: {'ln_tau': -2.5588714845752136, 'ln_h': -6.097140152427974, 'ln_lambd': -6.7148187496451115}. Best is trial 0 with value: 0.14954526116874134.\u001b[0m\n",
      "\u001b[32m[I 2022-04-12 23:40:49,976]\u001b[0m Trial 1 finished with value: 0.03905425476917564 and parameters: {'ln_tau': -8.555425719836704, 'ln_h': -6.992729162959152, 'ln_lambd': -4.3258999488239205}. Best is trial 1 with value: 0.03905425476917564.\u001b[0m\n",
      "\u001b[32m[I 2022-04-12 23:40:51,892]\u001b[0m Trial 2 finished with value: 0.02378433301351565 and parameters: {'ln_tau': -4.500397802277185, 'ln_h': -8.900868408815333, 'ln_lambd': -7.9694177863306015}. Best is trial 2 with value: 0.02378433301351565.\u001b[0m\n",
      "\u001b[32m[I 2022-04-12 23:40:53,633]\u001b[0m Trial 3 finished with value: 0.22651615526821475 and parameters: {'ln_tau': -8.03364094822101, 'ln_h': -7.457091587538189, 'ln_lambd': -3.1319653445621602}. Best is trial 2 with value: 0.02378433301351565.\u001b[0m\n",
      "\u001b[32m[I 2022-04-12 23:40:57,913]\u001b[0m Trial 4 finished with value: 1.0 and parameters: {'ln_tau': -6.0075733470183685, 'ln_h': -2.060180361513547, 'ln_lambd': -5.016884792608071}. Best is trial 2 with value: 0.02378433301351565.\u001b[0m\n",
      "\u001b[32m[I 2022-04-12 23:41:00,511]\u001b[0m Trial 5 finished with value: 0.9931698197565492 and parameters: {'ln_tau': -7.740977116980925, 'ln_h': -0.3340506741966589, 'ln_lambd': -5.119665097579855}. Best is trial 2 with value: 0.02378433301351565.\u001b[0m\n",
      "\u001b[32m[I 2022-04-12 23:41:04,632]\u001b[0m Trial 6 finished with value: 1.0 and parameters: {'ln_tau': -5.6992259060518204, 'ln_h': -4.08569106084771, 'ln_lambd': -7.106709729667168}. Best is trial 2 with value: 0.02378433301351565.\u001b[0m\n",
      "\u001b[32m[I 2022-04-12 23:41:05,698]\u001b[0m Trial 7 finished with value: 1.0 and parameters: {'ln_tau': -4.721614734351024, 'ln_h': -0.8152026817612956, 'ln_lambd': -0.9934924693986709}. Best is trial 2 with value: 0.02378433301351565.\u001b[0m\n",
      "\u001b[32m[I 2022-04-12 23:41:07,117]\u001b[0m Trial 8 finished with value: 1.0 and parameters: {'ln_tau': -2.629340835051324, 'ln_h': -1.6360110769020277, 'ln_lambd': -6.506073787551205}. Best is trial 2 with value: 0.02378433301351565.\u001b[0m\n",
      "\u001b[32m[I 2022-04-12 23:41:08,910]\u001b[0m Trial 9 finished with value: 0.15198497894176397 and parameters: {'ln_tau': -8.267190844932614, 'ln_h': -7.883139478380817, 'ln_lambd': -1.0253516967780598}. Best is trial 2 with value: 0.02378433301351565.\u001b[0m\n",
      "\u001b[32m[I 2022-04-12 23:41:12,987]\u001b[0m Trial 10 finished with value: 0.0016993728419942022 and parameters: {'ln_tau': -0.09669076126690701, 'ln_h': -8.873762947329398, 'ln_lambd': -8.723499173363228}. Best is trial 10 with value: 0.0016993728419942022.\u001b[0m\n",
      "\u001b[32m[I 2022-04-12 23:41:17,053]\u001b[0m Trial 11 finished with value: 0.009338812754918128 and parameters: {'ln_tau': -0.3965678692091128, 'ln_h': -8.652897300563382, 'ln_lambd': -8.989544441663664}. Best is trial 10 with value: 0.0016993728419942022.\u001b[0m\n",
      "\u001b[32m[I 2022-04-12 23:41:17,821]\u001b[0m Trial 12 finished with value: 0.11761416022559396 and parameters: {'ln_tau': -0.16049478306076018, 'ln_h': -5.200667688940414, 'ln_lambd': -8.673742059495686}. Best is trial 10 with value: 0.0016993728419942022.\u001b[0m\n",
      "\u001b[32m[I 2022-04-12 23:41:21,913]\u001b[0m Trial 13 finished with value: 0.004789750695637002 and parameters: {'ln_tau': -0.24268280499496991, 'ln_h': -8.786219464483935, 'ln_lambd': -8.576420648180473}. Best is trial 10 with value: 0.0016993728419942022.\u001b[0m\n",
      "\u001b[32m[I 2022-04-12 23:41:26,070]\u001b[0m Trial 14 finished with value: 1.0 and parameters: {'ln_tau': -1.7098934578337017, 'ln_h': -3.8840971667292346, 'ln_lambd': -7.6075367312945605}. Best is trial 10 with value: 0.0016993728419942022.\u001b[0m\n",
      "\u001b[32m[I 2022-04-12 23:41:30,133]\u001b[0m Trial 15 finished with value: 0.0732958630028096 and parameters: {'ln_tau': -1.3540747473059536, 'ln_h': -6.563600668294614, 'ln_lambd': -5.838890348304077}. Best is trial 10 with value: 0.0016993728419942022.\u001b[0m\n",
      "\u001b[32m[I 2022-04-12 23:41:34,147]\u001b[0m Trial 16 finished with value: 0.0636176365757914 and parameters: {'ln_tau': -3.137886442873901, 'ln_h': -5.490491955619505, 'ln_lambd': -2.913387498214794}. Best is trial 10 with value: 0.0016993728419942022.\u001b[0m\n",
      "\u001b[32m[I 2022-04-12 23:41:38,152]\u001b[0m Trial 17 finished with value: 0.01805259098024629 and parameters: {'ln_tau': -1.219515930720755, 'ln_h': -7.98200320842944, 'ln_lambd': -7.9858217365682025}. Best is trial 10 with value: 0.0016993728419942022.\u001b[0m\n",
      "\u001b[32m[I 2022-04-12 23:41:42,267]\u001b[0m Trial 18 finished with value: 1.0 and parameters: {'ln_tau': -3.4103401230130226, 'ln_h': -2.94027540994433, 'ln_lambd': -8.86263817916113}. Best is trial 10 with value: 0.0016993728419942022.\u001b[0m\n",
      "\u001b[32m[I 2022-04-12 23:41:46,281]\u001b[0m Trial 19 finished with value: 0.01520587950995621 and parameters: {'ln_tau': -0.032006121097200024, 'ln_h': -7.996883104607399, 'ln_lambd': -5.955838674990947}. Best is trial 10 with value: 0.0016993728419942022.\u001b[0m\n",
      "\u001b[32m[I 2022-04-12 23:41:50,261]\u001b[0m Trial 20 finished with value: 0.07741421971397894 and parameters: {'ln_tau': -1.070102582783452, 'ln_h': -5.779749622388243, 'ln_lambd': -3.6213039191460474}. Best is trial 10 with value: 0.0016993728419942022.\u001b[0m\n",
      "\u001b[32m[I 2022-04-12 23:41:51,947]\u001b[0m Trial 21 finished with value: 0.010173535395762056 and parameters: {'ln_tau': -0.6016182296731343, 'ln_h': -8.927812014310959, 'ln_lambd': -8.955895666654483}. Best is trial 10 with value: 0.0016993728419942022.\u001b[0m\n",
      "\u001b[32m[I 2022-04-12 23:41:53,631]\u001b[0m Trial 22 finished with value: 0.01428991283108155 and parameters: {'ln_tau': -1.9900514397219193, 'ln_h': -8.944459570812736, 'ln_lambd': -7.964976655686019}. Best is trial 10 with value: 0.0016993728419942022.\u001b[0m\n",
      "\u001b[32m[I 2022-04-12 23:41:57,926]\u001b[0m Trial 23 finished with value: 0.00997858775637308 and parameters: {'ln_tau': -0.5047447473624077, 'ln_h': -7.094499726354461, 'ln_lambd': -7.327768695644375}. Best is trial 10 with value: 0.0016993728419942022.\u001b[0m\n",
      "\u001b[32m[I 2022-04-12 23:42:01,921]\u001b[0m Trial 24 finished with value: 0.008885399208493825 and parameters: {'ln_tau': -0.8400781083915512, 'ln_h': -8.19593014959898, 'ln_lambd': -8.473890852817807}. Best is trial 10 with value: 0.0016993728419942022.\u001b[0m\n",
      "\u001b[32m[I 2022-04-12 23:42:03,661]\u001b[0m Trial 25 finished with value: 0.0333429875929832 and parameters: {'ln_tau': -2.1764183695379016, 'ln_h': -7.988531604295009, 'ln_lambd': -0.11316607147350322}. Best is trial 10 with value: 0.0016993728419942022.\u001b[0m\n",
      "\u001b[32m[I 2022-04-12 23:42:04,639]\u001b[0m Trial 26 finished with value: 0.06665844096172956 and parameters: {'ln_tau': -3.743662266442583, 'ln_h': -6.681991897186082, 'ln_lambd': -8.299352103487832}. Best is trial 10 with value: 0.0016993728419942022.\u001b[0m\n",
      "\u001b[32m[I 2022-04-12 23:42:08,856]\u001b[0m Trial 27 finished with value: 0.005451357779834954 and parameters: {'ln_tau': -0.9121653183766738, 'ln_h': -8.3266994629636, 'ln_lambd': -6.4006765586655225}. Best is trial 10 with value: 0.0016993728419942022.\u001b[0m\n",
      "\u001b[32m[I 2022-04-12 23:42:13,035]\u001b[0m Trial 28 finished with value: 1.0 and parameters: {'ln_tau': -1.5931168298319056, 'ln_h': -5.054060252311262, 'ln_lambd': -6.629273809710358}. Best is trial 10 with value: 0.0016993728419942022.\u001b[0m\n",
      "\u001b[32m[I 2022-04-12 23:42:14,718]\u001b[0m Trial 29 finished with value: 0.054203339670452974 and parameters: {'ln_tau': -2.6351744946715083, 'ln_h': -7.321146666984516, 'ln_lambd': -6.044346620580567}. Best is trial 10 with value: 0.0016993728419942022.\u001b[0m\n",
      "\u001b[32m[I 2022-04-12 23:42:15,166]\u001b[0m Trial 30 finished with value: 0.8508274886288947 and parameters: {'ln_tau': -6.7721744559267805, 'ln_h': -6.251491921059369, 'ln_lambd': -7.076967959563758}. Best is trial 10 with value: 0.0016993728419942022.\u001b[0m\n",
      "\u001b[32m[I 2022-04-12 23:42:16,133]\u001b[0m Trial 31 finished with value: 0.09426603502630612 and parameters: {'ln_tau': -0.8880345053336451, 'ln_h': -8.315469135584097, 'ln_lambd': -8.252107924681457}. Best is trial 10 with value: 0.0016993728419942022.\u001b[0m\n",
      "\u001b[32m[I 2022-04-12 23:42:20,212]\u001b[0m Trial 32 finished with value: 0.01703513012048015 and parameters: {'ln_tau': -0.005305392423471278, 'ln_h': -7.537835755249652, 'ln_lambd': -7.611437352655547}. Best is trial 10 with value: 0.0016993728419942022.\u001b[0m\n",
      "\u001b[32m[I 2022-04-12 23:42:21,793]\u001b[0m Trial 33 finished with value: 0.20645962438952215 and parameters: {'ln_tau': -0.7872805745979776, 'ln_h': -8.53235637864597, 'ln_lambd': -8.557926404168382}. Best is trial 10 with value: 0.0016993728419942022.\u001b[0m\n",
      "\u001b[32m[I 2022-04-12 23:42:23,505]\u001b[0m Trial 34 finished with value: 0.042812352141554086 and parameters: {'ln_tau': -2.070482874238126, 'ln_h': -8.352218365416853, 'ln_lambd': -7.698939282532417}. Best is trial 10 with value: 0.0016993728419942022.\u001b[0m\n",
      "\u001b[32m[I 2022-04-12 23:42:24,529]\u001b[0m Trial 35 finished with value: 0.022707562754805538 and parameters: {'ln_tau': -1.2225884202743473, 'ln_h': -7.388741897913301, 'ln_lambd': -5.228262124932129}. Best is trial 10 with value: 0.0016993728419942022.\u001b[0m\n",
      "\u001b[32m[I 2022-04-12 23:42:28,559]\u001b[0m Trial 36 finished with value: 0.018851330531920847 and parameters: {'ln_tau': -0.7577327859084277, 'ln_h': -6.8019685282739895, 'ln_lambd': -4.1946448763959685}. Best is trial 10 with value: 0.0016993728419942022.\u001b[0m\n",
      "\u001b[32m[I 2022-04-12 23:42:30,314]\u001b[0m Trial 37 finished with value: 0.018650891117563656 and parameters: {'ln_tau': -4.064079509746073, 'ln_h': -8.371988913997209, 'ln_lambd': -6.839301894627461}. Best is trial 10 with value: 0.0016993728419942022.\u001b[0m\n",
      "\u001b[32m[I 2022-04-12 23:42:32,044]\u001b[0m Trial 38 finished with value: 0.033794831655213034 and parameters: {'ln_tau': -4.903864497828925, 'ln_h': -7.618486112649852, 'ln_lambd': -8.43051994617177}. Best is trial 10 with value: 0.0016993728419942022.\u001b[0m\n",
      "\u001b[32m[I 2022-04-12 23:42:32,553]\u001b[0m Trial 39 finished with value: 0.07508560340991116 and parameters: {'ln_tau': -2.9523763264302714, 'ln_h': -8.945873250310328, 'ln_lambd': -5.5126772554511785}. Best is trial 10 with value: 0.0016993728419942022.\u001b[0m\n",
      "\u001b[32m[I 2022-04-12 23:42:36,689]\u001b[0m Trial 40 finished with value: 0.028999850526972747 and parameters: {'ln_tau': -1.6858569572563218, 'ln_h': -6.35122474239536, 'ln_lambd': -7.292682653113179}. Best is trial 10 with value: 0.0016993728419942022.\u001b[0m\n",
      "\u001b[32m[I 2022-04-12 23:42:40,742]\u001b[0m Trial 41 finished with value: 0.0030780103056533394 and parameters: {'ln_tau': -0.4037980033008879, 'ln_h': -8.502999728199885, 'ln_lambd': -8.131906090101596}. Best is trial 10 with value: 0.0016993728419942022.\u001b[0m\n",
      "\u001b[32m[I 2022-04-12 23:42:44,682]\u001b[0m Trial 42 finished with value: 0.008497792327166511 and parameters: {'ln_tau': -0.4532583036720484, 'ln_h': -8.467949948998092, 'ln_lambd': -7.9656003931034425}. Best is trial 10 with value: 0.0016993728419942022.\u001b[0m\n",
      "\u001b[32m[I 2022-04-12 23:42:48,068]\u001b[0m Trial 43 finished with value: 0.06764227715546711 and parameters: {'ln_tau': -0.3669213484993674, 'ln_h': -8.557302035032912, 'ln_lambd': -6.523567007715548}. Best is trial 10 with value: 0.0016993728419942022.\u001b[0m\n",
      "\u001b[32m[I 2022-04-12 23:42:52,086]\u001b[0m Trial 44 finished with value: 0.03932564553612624 and parameters: {'ln_tau': -0.36677951594300234, 'ln_h': -7.095669785663482, 'ln_lambd': -8.023120748579226}. Best is trial 10 with value: 0.0016993728419942022.\u001b[0m\n",
      "\u001b[32m[I 2022-04-12 23:42:56,103]\u001b[0m Trial 45 finished with value: 0.01086459352362113 and parameters: {'ln_tau': -0.027750445023486045, 'ln_h': -7.6726898998325055, 'ln_lambd': -7.693887146774612}. Best is trial 10 with value: 0.0016993728419942022.\u001b[0m\n",
      "\u001b[32m[I 2022-04-12 23:42:57,835]\u001b[0m Trial 46 finished with value: 0.019545040211737377 and parameters: {'ln_tau': -1.4409295882766442, 'ln_h': -8.62744954016737, 'ln_lambd': -4.606661801632182}. Best is trial 10 with value: 0.0016993728419942022.\u001b[0m\n",
      "\u001b[32m[I 2022-04-12 23:42:59,540]\u001b[0m Trial 47 finished with value: 0.09394780230147207 and parameters: {'ln_tau': -7.240617952124772, 'ln_h': -7.844911196364582, 'ln_lambd': -6.324760350518175}. Best is trial 10 with value: 0.0016993728419942022.\u001b[0m\n",
      "\u001b[32m[I 2022-04-12 23:43:02,492]\u001b[0m Trial 48 finished with value: 1.0 and parameters: {'ln_tau': -2.373195919871792, 'ln_h': -3.066079020580176, 'ln_lambd': -7.0204646964786015}. Best is trial 10 with value: 0.0016993728419942022.\u001b[0m\n",
      "\u001b[32m[I 2022-04-12 23:43:04,222]\u001b[0m Trial 49 finished with value: 0.009728564500841131 and parameters: {'ln_tau': -1.0235122630873368, 'ln_h': -8.95740688970074, 'ln_lambd': -2.2768696595939293}. Best is trial 10 with value: 0.0016993728419942022.\u001b[0m\n",
      "\u001b[32m[I 2022-04-12 23:43:05,921]\u001b[0m Trial 50 finished with value: 0.07306732597765066 and parameters: {'ln_tau': -5.323505196515455, 'ln_h': -8.189909512428473, 'ln_lambd': -8.978273686480906}. Best is trial 10 with value: 0.0016993728419942022.\u001b[0m\n",
      "\u001b[32m[I 2022-04-12 23:43:09,910]\u001b[0m Trial 51 finished with value: 0.017408661559869282 and parameters: {'ln_tau': -0.6255826512251669, 'ln_h': -8.101129080775577, 'ln_lambd': -8.603722296639383}. Best is trial 10 with value: 0.0016993728419942022.\u001b[0m\n",
      "\u001b[32m[I 2022-04-12 23:43:10,093]\u001b[0m Trial 52 finished with value: 0.09750156316484397 and parameters: {'ln_tau': -0.3746627611417629, 'ln_h': -8.586701254442277, 'ln_lambd': -8.086759236939276}. Best is trial 10 with value: 0.0016993728419942022.\u001b[0m\n",
      "\u001b[32m[I 2022-04-12 23:43:14,200]\u001b[0m Trial 53 finished with value: 0.01307753363057388 and parameters: {'ln_tau': -0.9846378754827096, 'ln_h': -7.702290727279383, 'ln_lambd': -8.504003900185362}. Best is trial 10 with value: 0.0016993728419942022.\u001b[0m\n",
      "\u001b[32m[I 2022-04-12 23:43:18,470]\u001b[0m Trial 54 finished with value: 0.9947724467825029 and parameters: {'ln_tau': -8.791771496345229, 'ln_h': -0.19144305946089446, 'ln_lambd': -7.563835452701744}. Best is trial 10 with value: 0.0016993728419942022.\u001b[0m\n",
      "\u001b[32m[I 2022-04-12 23:43:22,606]\u001b[0m Trial 55 finished with value: 0.03193529229524229 and parameters: {'ln_tau': -1.3721303005259624, 'ln_h': -7.2318945876884175, 'ln_lambd': -7.991577882684222}. Best is trial 10 with value: 0.0016993728419942022.\u001b[0m\n",
      "\u001b[32m[I 2022-04-12 23:43:24,360]\u001b[0m Trial 56 finished with value: 0.07648778832442527 and parameters: {'ln_tau': -1.7845029960753678, 'ln_h': -8.198515346859505, 'ln_lambd': -8.708318846647979}. Best is trial 10 with value: 0.0016993728419942022.\u001b[0m\n",
      "\u001b[32m[I 2022-04-12 23:43:28,426]\u001b[0m Trial 57 finished with value: 0.004299152274071963 and parameters: {'ln_tau': -0.27940561177448386, 'ln_h': -8.962323850821944, 'ln_lambd': -7.310924066087398}. Best is trial 10 with value: 0.0016993728419942022.\u001b[0m\n",
      "\u001b[32m[I 2022-04-12 23:43:28,567]\u001b[0m Trial 58 finished with value: 1.0 and parameters: {'ln_tau': -0.2552715226583667, 'ln_h': -1.060417340863144, 'ln_lambd': -7.392359895612496}. Best is trial 10 with value: 0.0016993728419942022.\u001b[0m\n",
      "\u001b[32m[I 2022-04-12 23:43:32,602]\u001b[0m Trial 59 finished with value: 0.013130585031694252 and parameters: {'ln_tau': -0.508054523931328, 'ln_h': -8.705467854871966, 'ln_lambd': -6.192282718192741}. Best is trial 10 with value: 0.0016993728419942022.\u001b[0m\n",
      "\u001b[32m[I 2022-04-12 23:43:35,038]\u001b[0m Trial 60 finished with value: 1.0 and parameters: {'ln_tau': -1.1201530401882984, 'ln_h': -4.203581808963124, 'ln_lambd': -6.789590200017777}. Best is trial 10 with value: 0.0016993728419942022.\u001b[0m\n",
      "\u001b[32m[I 2022-04-12 23:43:36,723]\u001b[0m Trial 61 finished with value: 0.02451744316316134 and parameters: {'ln_tau': -0.7573197429894548, 'ln_h': -8.716094826009403, 'ln_lambd': -8.265513115055846}. Best is trial 10 with value: 0.0016993728419942022.\u001b[0m\n",
      "\u001b[32m[I 2022-04-12 23:43:40,752]\u001b[0m Trial 62 finished with value: 0.021471312519371795 and parameters: {'ln_tau': -0.01770150601552789, 'ln_h': -7.899089795194369, 'ln_lambd': -7.820979196474296}. Best is trial 10 with value: 0.0016993728419942022.\u001b[0m\n",
      "\u001b[32m[I 2022-04-12 23:43:40,973]\u001b[0m Trial 63 finished with value: 0.10581962900150926 and parameters: {'ln_tau': -0.5399309638645922, 'ln_h': -8.970761105708153, 'ln_lambd': -8.786925417044008}. Best is trial 10 with value: 0.0016993728419942022.\u001b[0m\n",
      "\u001b[32m[I 2022-04-12 23:43:45,013]\u001b[0m Trial 64 finished with value: 0.004668221837456193 and parameters: {'ln_tau': -0.8526874176011118, 'ln_h': -8.337677175268343, 'ln_lambd': -8.29012853309729}. Best is trial 10 with value: 0.0016993728419942022.\u001b[0m\n",
      "\u001b[32m[I 2022-04-12 23:43:46,730]\u001b[0m Trial 65 finished with value: 0.03151916689660168 and parameters: {'ln_tau': -1.3285172631315874, 'ln_h': -8.455512969269796, 'ln_lambd': -7.226069384809304}. Best is trial 10 with value: 0.0016993728419942022.\u001b[0m\n",
      "\u001b[32m[I 2022-04-12 23:43:50,802]\u001b[0m Trial 66 finished with value: 0.012084742905564603 and parameters: {'ln_tau': -0.29672596364233783, 'ln_h': -7.956370768453919, 'ln_lambd': -8.2137091223644}. Best is trial 10 with value: 0.0016993728419942022.\u001b[0m\n",
      "\u001b[32m[I 2022-04-12 23:43:52,549]\u001b[0m Trial 67 finished with value: 0.0147645550175553 and parameters: {'ln_tau': -1.8982175773028303, 'ln_h': -8.79268062582489, 'ln_lambd': -7.834956820420089}. Best is trial 10 with value: 0.0016993728419942022.\u001b[0m\n",
      "\u001b[32m[I 2022-04-12 23:43:56,678]\u001b[0m Trial 68 finished with value: 0.03163079903734748 and parameters: {'ln_tau': -0.8939126856008132, 'ln_h': -5.959675497339629, 'ln_lambd': -7.353062829784584}. Best is trial 10 with value: 0.0016993728419942022.\u001b[0m\n",
      "\u001b[32m[I 2022-04-12 23:44:00,833]\u001b[0m Trial 69 finished with value: 0.030858329449686542 and parameters: {'ln_tau': -1.520669877494729, 'ln_h': -6.922494732529392, 'ln_lambd': -6.989157934898247}. Best is trial 10 with value: 0.0016993728419942022.\u001b[0m\n",
      "\u001b[32m[I 2022-04-12 23:44:05,285]\u001b[0m Trial 70 finished with value: 0.013406726309692757 and parameters: {'ln_tau': -0.24747995531169106, 'ln_h': -7.477239543917079, 'ln_lambd': -8.379166163892029}. Best is trial 10 with value: 0.0016993728419942022.\u001b[0m\n",
      "\u001b[32m[I 2022-04-12 23:44:09,566]\u001b[0m Trial 71 finished with value: 0.010792922751681151 and parameters: {'ln_tau': -0.7531566990706252, 'ln_h': -8.381841827115574, 'ln_lambd': -8.788550498890233}. Best is trial 10 with value: 0.0016993728419942022.\u001b[0m\n",
      "\u001b[32m[I 2022-04-12 23:44:11,494]\u001b[0m Trial 72 finished with value: 0.042424805520861184 and parameters: {'ln_tau': -1.1496187541477372, 'ln_h': -8.236470541566039, 'ln_lambd': -8.458036667578718}. Best is trial 10 with value: 0.0016993728419942022.\u001b[0m\n",
      "\u001b[32m[I 2022-04-12 23:44:16,225]\u001b[0m Trial 73 finished with value: 0.0014752487125979136 and parameters: {'ln_tau': -0.5445421848946058, 'ln_h': -8.693158530475385, 'ln_lambd': -7.543324599178741}. Best is trial 73 with value: 0.0014752487125979136.\u001b[0m\n",
      "\u001b[32m[I 2022-04-12 23:44:20,514]\u001b[0m Trial 74 finished with value: 0.00425079683341538 and parameters: {'ln_tau': -0.5589370695377582, 'ln_h': -8.76125496618073, 'ln_lambd': -7.542747399337956}. Best is trial 73 with value: 0.0014752487125979136.\u001b[0m\n",
      "\u001b[32m[I 2022-04-12 23:44:24,757]\u001b[0m Trial 75 finished with value: 0.0034923099159109945 and parameters: {'ln_tau': -0.009724802342054195, 'ln_h': -8.99807686814334, 'ln_lambd': -7.596193890377441}. Best is trial 73 with value: 0.0014752487125979136.\u001b[0m\n",
      "\u001b[32m[I 2022-04-12 23:44:28,957]\u001b[0m Trial 76 finished with value: 0.002561599748409408 and parameters: {'ln_tau': -0.008347923721745754, 'ln_h': -8.761033645139674, 'ln_lambd': -7.4310229643121115}. Best is trial 73 with value: 0.0014752487125979136.\u001b[0m\n",
      "\u001b[32m[I 2022-04-12 23:44:33,132]\u001b[0m Trial 77 finished with value: 0.0020715804365817403 and parameters: {'ln_tau': -0.16290229650388, 'ln_h': -8.751353417690705, 'ln_lambd': -7.517529940472848}. Best is trial 73 with value: 0.0014752487125979136.\u001b[0m\n",
      "\u001b[32m[I 2022-04-12 23:44:36,250]\u001b[0m Trial 78 finished with value: 0.029694392959824824 and parameters: {'ln_tau': -0.025446860895553078, 'ln_h': -8.766109786835756, 'ln_lambd': -6.873282588801115}. Best is trial 73 with value: 0.0014752487125979136.\u001b[0m\n",
      "\u001b[32m[I 2022-04-12 23:44:38,031]\u001b[0m Trial 79 finished with value: 0.015260572846305975 and parameters: {'ln_tau': -0.5870441711651133, 'ln_h': -8.974909714001308, 'ln_lambd': -7.495412903999632}. Best is trial 73 with value: 0.0014752487125979136.\u001b[0m\n",
      "\u001b[32m[I 2022-04-12 23:44:42,165]\u001b[0m Trial 80 finished with value: 0.005001279754112719 and parameters: {'ln_tau': -0.2253519599784788, 'ln_h': -8.667092292374955, 'ln_lambd': -7.165994842586619}. Best is trial 73 with value: 0.0014752487125979136.\u001b[0m\n",
      "\u001b[32m[I 2022-04-12 23:44:46,500]\u001b[0m Trial 81 finished with value: 0.011521985771372804 and parameters: {'ln_tau': -0.6580469886662149, 'ln_h': -8.070593082285642, 'ln_lambd': -7.659532822755061}. Best is trial 73 with value: 0.0014752487125979136.\u001b[0m\n",
      "\u001b[32m[I 2022-04-12 23:44:50,615]\u001b[0m Trial 82 finished with value: 0.004140969360665176 and parameters: {'ln_tau': -0.018985481157918427, 'ln_h': -8.559010203181387, 'ln_lambd': -7.813844148643409}. Best is trial 73 with value: 0.0014752487125979136.\u001b[0m\n",
      "\u001b[32m[I 2022-04-12 23:44:54,736]\u001b[0m Trial 83 finished with value: 0.018965503639865718 and parameters: {'ln_tau': -0.19555186396948682, 'ln_h': -7.8092591102111575, 'ln_lambd': -7.812169085375963}. Best is trial 73 with value: 0.0014752487125979136.\u001b[0m\n",
      "\u001b[32m[I 2022-04-12 23:44:58,810]\u001b[0m Trial 84 finished with value: 0.005399908380100666 and parameters: {'ln_tau': -0.009009259945988595, 'ln_h': -8.793132477232156, 'ln_lambd': -7.490005942264365}. Best is trial 73 with value: 0.0014752487125979136.\u001b[0m\n",
      "\u001b[32m[I 2022-04-12 23:45:03,253]\u001b[0m Trial 85 finished with value: 0.009923465822591019 and parameters: {'ln_tau': -0.43190914833707783, 'ln_h': -8.519692658642116, 'ln_lambd': -6.6195988191145645}. Best is trial 73 with value: 0.0014752487125979136.\u001b[0m\n",
      "\u001b[32m[I 2022-04-12 23:45:05,019]\u001b[0m Trial 86 finished with value: 0.018535643606769847 and parameters: {'ln_tau': -6.427731907533404, 'ln_h': -8.575827345073728, 'ln_lambd': -8.158277748031425}. Best is trial 73 with value: 0.0014752487125979136.\u001b[0m\n",
      "\u001b[32m[I 2022-04-12 23:45:09,330]\u001b[0m Trial 87 finished with value: 0.012508377030042468 and parameters: {'ln_tau': -0.1978998968217177, 'ln_h': -8.093860734500577, 'ln_lambd': -1.9404922448780186}. Best is trial 73 with value: 0.0014752487125979136.\u001b[0m\n",
      "\u001b[32m[I 2022-04-12 23:45:11,097]\u001b[0m Trial 88 finished with value: 0.00816541315942559 and parameters: {'ln_tau': -0.501555489576771, 'ln_h': -8.991557067444552, 'ln_lambd': -7.164328288375217}. Best is trial 73 with value: 0.0014752487125979136.\u001b[0m\n",
      "\u001b[32m[I 2022-04-12 23:45:15,220]\u001b[0m Trial 89 finished with value: 0.5124498943391337 and parameters: {'ln_tau': -1.0890823811462074, 'ln_h': -4.759853051129487, 'ln_lambd': -5.755710959683486}. Best is trial 73 with value: 0.0014752487125979136.\u001b[0m\n",
      "\u001b[32m[I 2022-04-12 23:45:17,331]\u001b[0m Trial 90 finished with value: 0.018891355615159602 and parameters: {'ln_tau': -0.6980138846858897, 'ln_h': -8.75140540476781, 'ln_lambd': -7.861960942197064}. Best is trial 73 with value: 0.0014752487125979136.\u001b[0m\n",
      "\u001b[32m[I 2022-04-12 23:45:21,715]\u001b[0m Trial 91 finished with value: 0.001552022354903951 and parameters: {'ln_tau': -0.8630662686017613, 'ln_h': -8.348049287055407, 'ln_lambd': -8.233590649227738}. Best is trial 73 with value: 0.0014752487125979136.\u001b[0m\n",
      "\u001b[32m[I 2022-04-12 23:45:25,822]\u001b[0m Trial 92 finished with value: 0.003706894897100659 and parameters: {'ln_tau': -0.185256804411437, 'ln_h': -8.416840672957372, 'ln_lambd': -7.6806176910251525}. Best is trial 73 with value: 0.0014752487125979136.\u001b[0m\n",
      "\u001b[32m[I 2022-04-12 23:45:30,029]\u001b[0m Trial 93 finished with value: 0.008322523800917496 and parameters: {'ln_tau': -0.4673766344159399, 'ln_h': -8.326933022221718, 'ln_lambd': -8.04877466754546}. Best is trial 73 with value: 0.0014752487125979136.\u001b[0m\n",
      "\u001b[32m[I 2022-04-12 23:45:34,447]\u001b[0m Trial 94 finished with value: 0.009466145656785975 and parameters: {'ln_tau': -0.0014749286868129818, 'ln_h': -7.71434751074673, 'ln_lambd': -7.722775235749721}. Best is trial 73 with value: 0.0014752487125979136.\u001b[0m\n",
      "\u001b[32m[I 2022-04-12 23:45:38,794]\u001b[0m Trial 95 finished with value: 0.020781507493688123 and parameters: {'ln_tau': -0.9257769820761418, 'ln_h': -8.106025909373367, 'ln_lambd': -7.492892292464853}. Best is trial 73 with value: 0.0014752487125979136.\u001b[0m\n",
      "\u001b[32m[I 2022-04-12 23:45:43,002]\u001b[0m Trial 96 finished with value: 0.010357878681334889 and parameters: {'ln_tau': -0.6202918731211121, 'ln_h': -8.43837042463311, 'ln_lambd': -8.989365911479101}. Best is trial 73 with value: 0.0014752487125979136.\u001b[0m\n",
      "\u001b[32m[I 2022-04-12 23:45:46,693]\u001b[0m Trial 97 finished with value: 0.1119849162837726 and parameters: {'ln_tau': -0.1975567696557567, 'ln_h': -8.619013927158493, 'ln_lambd': -8.651988894464957}. Best is trial 73 with value: 0.0014752487125979136.\u001b[0m\n",
      "\u001b[32m[I 2022-04-12 23:45:51,006]\u001b[0m Trial 98 finished with value: 1.0 and parameters: {'ln_tau': -4.321383448391371, 'ln_h': -3.567938380858271, 'ln_lambd': -6.980964974948231}. Best is trial 73 with value: 0.0014752487125979136.\u001b[0m\n",
      "\u001b[32m[I 2022-04-12 23:45:55,159]\u001b[0m Trial 99 finished with value: 0.029791236293381675 and parameters: {'ln_tau': -1.194784221259633, 'ln_h': -7.561609847803487, 'ln_lambd': -3.916507371954782}. Best is trial 73 with value: 0.0014752487125979136.\u001b[0m\n"
     ]
    }
   ],
   "source": [
    "study3 = optuna.create_study()\n",
    "study3.optimize(smape_sg_target, n_trials=100)"
   ]
  },
  {
   "cell_type": "code",
   "execution_count": 16,
   "id": "57843501-f65f-449a-8379-3490901a9b44",
   "metadata": {},
   "outputs": [
    {
     "data": {
      "text/plain": [
       "{'ln_tau': -0.5445421848946058,\n",
       " 'ln_h': -8.693158530475385,\n",
       " 'ln_lambd': -7.543324599178741}"
      ]
     },
     "execution_count": 16,
     "metadata": {},
     "output_type": "execute_result"
    }
   ],
   "source": [
    "study3.best_params"
   ]
  },
  {
   "cell_type": "markdown",
   "id": "6c753c92-800f-4eb5-8e36-a6b918252aa1",
   "metadata": {},
   "source": [
    "# Тестирование"
   ]
  },
  {
   "cell_type": "markdown",
   "id": "6ffe7ebe-f9cb-4cae-a314-d96a74f7d963",
   "metadata": {},
   "source": [
    "## График зависимости ошибки SMAPE и MSE на тестовом множестве от параметра регуляризации для метода наименьших квадратов."
   ]
  },
  {
   "cell_type": "code",
   "execution_count": 17,
   "id": "60962d1f-b54b-4fe8-83ba-edfb46c536c9",
   "metadata": {},
   "outputs": [],
   "source": [
    "def mse_ls_test(ln_tau):\n",
    "    model = cfml.linear.LeastSquares(X_train, Y_train, math.exp(ln_tau))\n",
    "    return mse(Y_test, apply(model, X_test))\n",
    "\n",
    "def smape_ls_test(ln_tau):\n",
    "    model = cfml.linear.LeastSquares(X_train, Y_train, math.exp(ln_tau))\n",
    "    return smape(Y_test, apply(model, X_test))"
   ]
  },
  {
   "cell_type": "code",
   "execution_count": 18,
   "id": "7fb43669-3a1f-4f70-9540-2f3075e7fc3b",
   "metadata": {},
   "outputs": [],
   "source": [
    "ln_tau_list = np.linspace(-9, 0, num=40)\n",
    "mse_res = np.vectorize(mse_ls_test)(ln_tau_list)\n",
    "smape_res = np.vectorize(smape_ls_test)(ln_tau_list)"
   ]
  },
  {
   "cell_type": "code",
   "execution_count": 19,
   "id": "5ec6c27d-c2d0-4653-bb96-5eac0a7c809a",
   "metadata": {},
   "outputs": [],
   "source": [
    "import matplotlib.pyplot as plt"
   ]
  },
  {
   "cell_type": "code",
   "execution_count": 20,
   "id": "fac160a5-630c-4ea4-948f-c8f2245e9309",
   "metadata": {},
   "outputs": [
    {
     "data": {
      "text/plain": [
       "[<matplotlib.lines.Line2D at 0x2184ae0a610>]"
      ]
     },
     "execution_count": 20,
     "metadata": {},
     "output_type": "execute_result"
    },
    {
     "data": {
      "image/png": "[encoded data removed]",
      "text/plain": [
       "<Figure size 432x288 with 1 Axes>"
      ]
     },
     "metadata": {
      "needs_background": "light"
     },
     "output_type": "display_data"
    }
   ],
   "source": [
    "plt.plot(ln_tau_list, mse_res)"
   ]
  },
  {
   "cell_type": "code",
   "execution_count": 21,
   "id": "81ebd6b5-1fd2-4ecc-b767-4541d1731a80",
   "metadata": {},
   "outputs": [
    {
     "data": {
      "text/plain": [
       "[<matplotlib.lines.Line2D at 0x2184ae2ed30>]"
      ]
     },
     "execution_count": 21,
     "metadata": {},
     "output_type": "execute_result"
    },
    {
     "data": {
      "image/png": "[encoded data removed]",
      "text/plain": [
       "<Figure size 432x288 with 1 Axes>"
      ]
     },
     "metadata": {
      "needs_background": "light"
     },
     "output_type": "display_data"
    }
   ],
   "source": [
    "plt.plot(ln_tau_list, smape_res)"
   ]
  },
  {
   "cell_type": "markdown",
   "id": "18b55ccb-204a-40d6-9496-8f9041941d40",
   "metadata": {},
   "source": [
    "## График зависимости экспоненциального скользящего среднего эмпирического риска на тренировочном множестве для градиентных спусков."
   ]
  },
  {
   "cell_type": "code",
   "execution_count": 22,
   "id": "67825f64-616d-4692-8988-f4caf275b796",
   "metadata": {},
   "outputs": [],
   "source": [
    "def params_exp(params):\n",
    "    res = dict()\n",
    "    for key in params:\n",
    "        if key.startswith(\"ln_\"):\n",
    "            res[key[3:]] = math.exp(params[key])\n",
    "        else:\n",
    "            res[key] = params[key]\n",
    "    return res"
   ]
  },
  {
   "cell_type": "code",
   "execution_count": 23,
   "id": "666e4e15-0d88-412f-89ae-4d5dd43ba74e",
   "metadata": {},
   "outputs": [
    {
     "name": "stdout",
     "output_type": "stream",
     "text": [
      "(2001,) (1319,)\n"
     ]
    }
   ],
   "source": [
    "best_smape_model = cfml.linear.StochasticGradientSMAPE(X_train, Y_train, seed=0, **params_exp(study3.best_params))\n",
    "best_mse_model = cfml.linear.StochasticGradientMSE(X_train, Y_train, seed=0, **params_exp(study2.best_params))\n",
    "\n",
    "apply(best_smape_model, X_test)\n",
    "apply(best_mse_model, X_test)\n",
    "\n",
    "print(best_smape_model.metric.shape, best_mse_model.metric.shape)"
   ]
  },
  {
   "cell_type": "code",
   "execution_count": 24,
   "id": "efcf40d3-5511-4ed3-be13-00303558a3a3",
   "metadata": {},
   "outputs": [
    {
     "data": {
      "text/plain": [
       "[<matplotlib.lines.Line2D at 0x2184e07d6a0>]"
      ]
     },
     "execution_count": 24,
     "metadata": {},
     "output_type": "execute_result"
    },
    {
     "data": {
      "image/png": "[encoded data removed]",
      "text/plain": [
       "<Figure size 432x288 with 1 Axes>"
      ]
     },
     "metadata": {
      "needs_background": "light"
     },
     "output_type": "display_data"
    }
   ],
   "source": [
    "plt.plot(list(range(best_smape_model.metric.shape[0])), best_smape_model.metric)"
   ]
  },
  {
   "cell_type": "code",
   "execution_count": 25,
   "id": "e12b03a4-cc05-4867-b9a7-606a39c0d954",
   "metadata": {},
   "outputs": [
    {
     "data": {
      "text/plain": [
       "[<matplotlib.lines.Line2D at 0x2184e0eb400>]"
      ]
     },
     "execution_count": 25,
     "metadata": {},
     "output_type": "execute_result"
    },
    {
     "data": {
      "image/png": "[encoded data removed]",
      "text/plain": [
       "<Figure size 432x288 with 1 Axes>"
      ]
     },
     "metadata": {
      "needs_background": "light"
     },
     "output_type": "display_data"
    }
   ],
   "source": [
    "plt.plot(list(range(best_mse_model.metric.shape[0])), best_mse_model.metric)"
   ]
  },
  {
   "cell_type": "markdown",
   "id": "14130cef-a4d9-4e36-b651-e919aee5ae04",
   "metadata": {},
   "source": [
    "## NRMSE и SMAPE"
   ]
  },
  {
   "cell_type": "code",
   "execution_count": 28,
   "id": "76fba31f-b554-45a3-b8e9-71ab45274a5f",
   "metadata": {},
   "outputs": [],
   "source": [
    "best_ls_model = model = cfml.linear.LeastSquares(X_train, Y_train, **params_exp(study1.best_params))"
   ]
  },
  {
   "cell_type": "code",
   "execution_count": 29,
   "id": "00196e2c-79d5-4412-9d71-f5379ff27fb5",
   "metadata": {},
   "outputs": [],
   "source": [
    "Y_pred_smape = apply(best_smape_model, X_test)\n",
    "Y_pred_mse = apply(best_mse_model, X_test)\n",
    "Y_pred_ls = apply(best_ls_model, X_test)"
   ]
  },
  {
   "cell_type": "code",
   "execution_count": 33,
   "id": "91a5dc68-3615-40dc-b284-ba8f9b959bd1",
   "metadata": {},
   "outputs": [],
   "source": [
    "def nrmse(Y_real, Y_pred):\n",
    "    return math.sqrt(mse(Y_real, Y_pred)) / (Y_real.max() - Y_real.min())"
   ]
  },
  {
   "cell_type": "code",
   "execution_count": 34,
   "id": "f0e1ce93-6ad0-4fc4-9580-f35d669520c9",
   "metadata": {},
   "outputs": [
    {
     "name": "stdout",
     "output_type": "stream",
     "text": [
      "LeastSquares:            NRMSE: 1.2416986178029347e-05 \t\tSMAPE: 8.445799987184066e-06\n",
      "StochasticGradientMSE:   NRMSE: 0.27761835058257206 \t\tSMAPE: 0.17817499282868834\n",
      "StochasticGradientSMAPE: NRMSE: 0.0019334412886812713 \t\tSMAPE: 0.0014752487125979136\n"
     ]
    }
   ],
   "source": [
    "print(\"LeastSquares:            NRMSE:\", nrmse(Y_test, Y_pred_ls), \"\\t\\tSMAPE:\", smape(Y_test, Y_pred_ls))\n",
    "print(\"StochasticGradientMSE:   NRMSE:\", nrmse(Y_test, Y_pred_mse), \"\\t\\tSMAPE:\", smape(Y_test, Y_pred_mse))\n",
    "print(\"StochasticGradientSMAPE: NRMSE:\", nrmse(Y_test, Y_pred_smape), \"\\t\\tSMAPE:\", smape(Y_test, Y_pred_smape))"
   ]
  },
  {
   "cell_type": "code",
   "execution_count": null,
   "id": "f0ebf15b-5ebf-43d8-bd29-089d8ab66516",
   "metadata": {},
   "outputs": [],
   "source": []
  }
 ],
 "metadata": {
  "kernelspec": {
   "display_name": "Python 3 (ipykernel)",
   "language": "python",
   "name": "python3"
  },
  "language_info": {
   "codemirror_mode": {
    "name": "ipython",
    "version": 3
   },
   "file_extension": ".py",
   "mimetype": "text/x-python",
   "name": "python",
   "nbconvert_exporter": "python",
   "pygments_lexer": "ipython3",
   "version": "3.9.10"
  }
 },
 "nbformat": 4,
 "nbformat_minor": 5
}
