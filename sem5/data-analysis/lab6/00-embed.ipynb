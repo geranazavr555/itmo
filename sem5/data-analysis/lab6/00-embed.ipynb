{
 "cells": [
  {
   "cell_type": "code",
   "execution_count": 1,
   "id": "cc330136-a90d-4af4-a423-b187bf3bd9a1",
   "metadata": {},
   "outputs": [],
   "source": [
    "import random\n",
    "import numpy as np\n",
    "\n",
    "import torch\n",
    "import torch.nn as nn\n",
    "\n",
    "import torchvision\n",
    "import torchvision.transforms as transforms\n",
    "from torchvision.datasets import KMNIST\n",
    "from torch.utils.data import DataLoader\n",
    "\n",
    "from tqdm.notebook import tqdm, trange\n",
    "\n",
    "random.seed(0)\n",
    "np.random.seed(0)\n",
    "torch.manual_seed(0)\n",
    "torch.cuda.manual_seed(0)\n",
    "torch.backends.cudnn.deterministic = True\n",
    "\n",
    "\n",
    "OUTPUT_DIM = 10 \n",
    "EPOCH_NUM = 7\n",
    "\n",
    "DEVICE = 'cuda' if torch.cuda.is_available() else 'cpu'"
   ]
  },
  {
   "cell_type": "code",
   "execution_count": 2,
   "id": "0a8a6856-9753-4d17-a80b-5c15b2c5c7a4",
   "metadata": {},
   "outputs": [],
   "source": [
    "train_transform = transforms.Compose([\n",
    "    # transforms.Pad(4),\n",
    "    # transforms.RandomCrop(28),\n",
    "    transforms.ToTensor(),\n",
    "    transforms.Lambda(lambda x: x.repeat(3, 1, 1))\n",
    "])\n",
    "\n",
    "test_transform = transforms.Compose([\n",
    "    transforms.ToTensor(),\n",
    "    transforms.Lambda(lambda x: x.repeat(3, 1, 1))\n",
    "])"
   ]
  },
  {
   "cell_type": "code",
   "execution_count": 3,
   "id": "00b44f1b-44b2-48fb-a8c3-28059e8e21d2",
   "metadata": {},
   "outputs": [],
   "source": [
    "train_dataset = KMNIST(\n",
    "    root='./data/train',\n",
    "    train=True, \n",
    "    transform=train_transform,\n",
    "    download=True\n",
    ")\n",
    "\n",
    "test_dataset = KMNIST(\n",
    "    root='./data/test',\n",
    "    train=False, \n",
    "    transform=test_transform,\n",
    "    download=True\n",
    ")"
   ]
  },
  {
   "cell_type": "code",
   "execution_count": 4,
   "id": "c2abf87e-2742-4807-bbd2-df46c9a0778b",
   "metadata": {},
   "outputs": [],
   "source": [
    "dataloaders = {\n",
    "    'train': DataLoader(\n",
    "        dataset=train_dataset,\n",
    "        batch_size=128, \n",
    "        shuffle=True\n",
    "    ),\n",
    "    'val': DataLoader(\n",
    "        dataset=test_dataset,\n",
    "        batch_size=128, \n",
    "        shuffle=False\n",
    "    )\n",
    "}"
   ]
  },
  {
   "cell_type": "code",
   "execution_count": 5,
   "id": "5c370f1f-73f5-4ee1-b388-e4f815f9c56c",
   "metadata": {},
   "outputs": [],
   "source": [
    "from torchvision.models import efficientnet_b7\n",
    "\n",
    "class KMnistClassifier(nn.Module):\n",
    "    def __init__(self, ouput_dim):\n",
    "        super(KMnistClassifier, self).__init__()\n",
    "        self.model = efficientnet_b7(pretrained=True)\n",
    "        \n",
    "        for param in self.model.parameters():\n",
    "            param.requires_grad = False\n",
    "\n",
    "        self.fc1 = nn.Sequential(\n",
    "            nn.Linear(1000, 64),\n",
    "            nn.ReLU()\n",
    "        )\n",
    "        self.fc2 = nn.Sequential(\n",
    "            nn.Dropout(0.25),\n",
    "            nn.Linear(64, ouput_dim)\n",
    "        )\n",
    "    \n",
    "    def embed(self, x):\n",
    "        return self.fc1(self.model(x))\n",
    "\n",
    "    def forward(self, x):\n",
    "        efficientnet_b6_out = self.embed(x)\n",
    "        return self.fc2(efficientnet_b6_out)"
   ]
  },
  {
   "cell_type": "code",
   "execution_count": 6,
   "id": "3df3c21d-e9a9-4bb9-80f8-e12467cfe683",
   "metadata": {},
   "outputs": [
    {
     "data": {
      "text/plain": [
       "'cuda'"
      ]
     },
     "execution_count": 6,
     "metadata": {},
     "output_type": "execute_result"
    }
   ],
   "source": [
    "DEVICE"
   ]
  },
  {
   "cell_type": "code",
   "execution_count": 7,
   "id": "670899fd-9561-47dc-87c8-f30d152baee9",
   "metadata": {},
   "outputs": [
    {
     "name": "stderr",
     "output_type": "stream",
     "text": [
      "Downloading: \"https://download.pytorch.org/models/efficientnet_b7_lukemelas-dcc49843.pth\" to C:\\Users\\georgiy/.cache\\torch\\hub\\checkpoints\\efficientnet_b7_lukemelas-dcc49843.pth\n"
     ]
    },
    {
     "data": {
      "application/vnd.jupyter.widget-view+json": {
       "model_id": "4d21ac1134cd495fbd09c8f1910f4170",
       "version_major": 2,
       "version_minor": 0
      },
      "text/plain": [
       "  0%|          | 0.00/255M [00:00<?, ?B/s]"
      ]
     },
     "metadata": {},
     "output_type": "display_data"
    }
   ],
   "source": [
    "model = KMnistClassifier(OUTPUT_DIM)\n",
    "model = model.to(DEVICE)"
   ]
  },
  {
   "cell_type": "code",
   "execution_count": 8,
   "id": "f0459ae8-8bf7-439f-802d-9fbeeb8a9d3f",
   "metadata": {},
   "outputs": [],
   "source": [
    "loss_function = torch.nn.CrossEntropyLoss()\n",
    "optimizer = torch.optim.Adam(model.parameters(), amsgrad=True, lr=1e-4)"
   ]
  },
  {
   "cell_type": "code",
   "execution_count": 9,
   "id": "7405470b-18cb-404d-9a86-35cb1d19d77a",
   "metadata": {},
   "outputs": [
    {
     "data": {
      "application/vnd.jupyter.widget-view+json": {
       "model_id": "1d03fc01bc1046f6adbcd507baa82d2a",
       "version_major": 2,
       "version_minor": 0
      },
      "text/plain": [
       "Whole pipeline:   0%|          | 0/10 [00:00<?, ?it/s]"
      ]
     },
     "metadata": {},
     "output_type": "display_data"
    },
    {
     "data": {
      "application/vnd.jupyter.widget-view+json": {
       "model_id": "eb6a95b7f4bc4126acc432c287bab4c7",
       "version_major": 2,
       "version_minor": 0
      },
      "text/plain": [
       "Epoch: 1. Phase: train:   0%|          | 0/469 [00:00<?, ?it/s]"
      ]
     },
     "metadata": {},
     "output_type": "display_data"
    },
    {
     "name": "stdout",
     "output_type": "stream",
     "text": [
      "train Loss: 2.2191 Acc: 0.1952 "
     ]
    },
    {
     "data": {
      "application/vnd.jupyter.widget-view+json": {
       "model_id": "e2da37fd0d0f45c599bddf13517da6f8",
       "version_major": 2,
       "version_minor": 0
      },
      "text/plain": [
       "Epoch: 1. Phase: val:   0%|          | 0/79 [00:00<?, ?it/s]"
      ]
     },
     "metadata": {},
     "output_type": "display_data"
    },
    {
     "name": "stdout",
     "output_type": "stream",
     "text": [
      "val Loss: 2.4205 Acc: 0.1031 "
     ]
    },
    {
     "data": {
      "application/vnd.jupyter.widget-view+json": {
       "model_id": "4124a2f163894b958100c4f34a844611",
       "version_major": 2,
       "version_minor": 0
      },
      "text/plain": [
       "Epoch: 2. Phase: train:   0%|          | 0/469 [00:00<?, ?it/s]"
      ]
     },
     "metadata": {},
     "output_type": "display_data"
    },
    {
     "name": "stdout",
     "output_type": "stream",
     "text": [
      "train Loss: 2.0886 Acc: 0.2609 "
     ]
    },
    {
     "data": {
      "application/vnd.jupyter.widget-view+json": {
       "model_id": "ad40fc358893469bb8a09bfafde096aa",
       "version_major": 2,
       "version_minor": 0
      },
      "text/plain": [
       "Epoch: 2. Phase: val:   0%|          | 0/79 [00:00<?, ?it/s]"
      ]
     },
     "metadata": {},
     "output_type": "display_data"
    },
    {
     "name": "stdout",
     "output_type": "stream",
     "text": [
      "val Loss: 2.1623 Acc: 0.2146 "
     ]
    },
    {
     "data": {
      "application/vnd.jupyter.widget-view+json": {
       "model_id": "ec34097d7055447aaedf9da3f0735f98",
       "version_major": 2,
       "version_minor": 0
      },
      "text/plain": [
       "Epoch: 3. Phase: train:   0%|          | 0/469 [00:00<?, ?it/s]"
      ]
     },
     "metadata": {},
     "output_type": "display_data"
    },
    {
     "name": "stdout",
     "output_type": "stream",
     "text": [
      "train Loss: 2.0485 Acc: 0.2764 "
     ]
    },
    {
     "data": {
      "application/vnd.jupyter.widget-view+json": {
       "model_id": "301c437f108947eb9eb3936cf7989812",
       "version_major": 2,
       "version_minor": 0
      },
      "text/plain": [
       "Epoch: 3. Phase: val:   0%|          | 0/79 [00:00<?, ?it/s]"
      ]
     },
     "metadata": {},
     "output_type": "display_data"
    },
    {
     "name": "stdout",
     "output_type": "stream",
     "text": [
      "val Loss: 2.0528 Acc: 0.2713 "
     ]
    },
    {
     "data": {
      "application/vnd.jupyter.widget-view+json": {
       "model_id": "518dd8b3c762420e88cff515079e39d4",
       "version_major": 2,
       "version_minor": 0
      },
      "text/plain": [
       "Epoch: 4. Phase: train:   0%|          | 0/469 [00:00<?, ?it/s]"
      ]
     },
     "metadata": {},
     "output_type": "display_data"
    },
    {
     "name": "stdout",
     "output_type": "stream",
     "text": [
      "train Loss: 2.0263 Acc: 0.2853 "
     ]
    },
    {
     "data": {
      "application/vnd.jupyter.widget-view+json": {
       "model_id": "2c60472af93242eb8433f30385aa1c74",
       "version_major": 2,
       "version_minor": 0
      },
      "text/plain": [
       "Epoch: 4. Phase: val:   0%|          | 0/79 [00:00<?, ?it/s]"
      ]
     },
     "metadata": {},
     "output_type": "display_data"
    },
    {
     "name": "stdout",
     "output_type": "stream",
     "text": [
      "val Loss: 2.0399 Acc: 0.2757 "
     ]
    },
    {
     "data": {
      "application/vnd.jupyter.widget-view+json": {
       "model_id": "499ff435c2f54fa89da3fd6602aae4aa",
       "version_major": 2,
       "version_minor": 0
      },
      "text/plain": [
       "Epoch: 5. Phase: train:   0%|          | 0/469 [00:00<?, ?it/s]"
      ]
     },
     "metadata": {},
     "output_type": "display_data"
    },
    {
     "name": "stdout",
     "output_type": "stream",
     "text": [
      "train Loss: 2.0105 Acc: 0.2927 "
     ]
    },
    {
     "data": {
      "application/vnd.jupyter.widget-view+json": {
       "model_id": "2c0164423a8e4bef944d6aae9d001c0f",
       "version_major": 2,
       "version_minor": 0
      },
      "text/plain": [
       "Epoch: 5. Phase: val:   0%|          | 0/79 [00:00<?, ?it/s]"
      ]
     },
     "metadata": {},
     "output_type": "display_data"
    },
    {
     "name": "stdout",
     "output_type": "stream",
     "text": [
      "val Loss: 2.0247 Acc: 0.2844 "
     ]
    },
    {
     "data": {
      "application/vnd.jupyter.widget-view+json": {
       "model_id": "791aa52ec55346259ea002c972351158",
       "version_major": 2,
       "version_minor": 0
      },
      "text/plain": [
       "Epoch: 6. Phase: train:   0%|          | 0/469 [00:00<?, ?it/s]"
      ]
     },
     "metadata": {},
     "output_type": "display_data"
    },
    {
     "name": "stdout",
     "output_type": "stream",
     "text": [
      "train Loss: 1.9983 Acc: 0.2960 "
     ]
    },
    {
     "data": {
      "application/vnd.jupyter.widget-view+json": {
       "model_id": "5dd0aac2cc6e450b89180311e935e1ca",
       "version_major": 2,
       "version_minor": 0
      },
      "text/plain": [
       "Epoch: 6. Phase: val:   0%|          | 0/79 [00:00<?, ?it/s]"
      ]
     },
     "metadata": {},
     "output_type": "display_data"
    },
    {
     "name": "stdout",
     "output_type": "stream",
     "text": [
      "val Loss: 2.0138 Acc: 0.2923 "
     ]
    },
    {
     "data": {
      "application/vnd.jupyter.widget-view+json": {
       "model_id": "73904db19f114d6798b7bfce40f133d5",
       "version_major": 2,
       "version_minor": 0
      },
      "text/plain": [
       "Epoch: 7. Phase: train:   0%|          | 0/469 [00:00<?, ?it/s]"
      ]
     },
     "metadata": {},
     "output_type": "display_data"
    },
    {
     "name": "stdout",
     "output_type": "stream",
     "text": [
      "train Loss: 1.9865 Acc: 0.3026 "
     ]
    },
    {
     "data": {
      "application/vnd.jupyter.widget-view+json": {
       "model_id": "fa37309b775c478c86c0928667292310",
       "version_major": 2,
       "version_minor": 0
      },
      "text/plain": [
       "Epoch: 7. Phase: val:   0%|          | 0/79 [00:00<?, ?it/s]"
      ]
     },
     "metadata": {},
     "output_type": "display_data"
    },
    {
     "name": "stdout",
     "output_type": "stream",
     "text": [
      "val Loss: 2.0060 Acc: 0.2923 "
     ]
    },
    {
     "data": {
      "application/vnd.jupyter.widget-view+json": {
       "model_id": "abece3f900b54750a53449da06b871bd",
       "version_major": 2,
       "version_minor": 0
      },
      "text/plain": [
       "Epoch: 8. Phase: train:   0%|          | 0/469 [00:00<?, ?it/s]"
      ]
     },
     "metadata": {},
     "output_type": "display_data"
    },
    {
     "name": "stdout",
     "output_type": "stream",
     "text": [
      "train Loss: 1.9876 Acc: 0.3008 "
     ]
    },
    {
     "data": {
      "application/vnd.jupyter.widget-view+json": {
       "model_id": "86df59081b844a648fdcd6f230dbab2f",
       "version_major": 2,
       "version_minor": 0
      },
      "text/plain": [
       "Epoch: 8. Phase: val:   0%|          | 0/79 [00:00<?, ?it/s]"
      ]
     },
     "metadata": {},
     "output_type": "display_data"
    },
    {
     "name": "stdout",
     "output_type": "stream",
     "text": [
      "val Loss: 2.0023 Acc: 0.2968 "
     ]
    },
    {
     "data": {
      "application/vnd.jupyter.widget-view+json": {
       "model_id": "9926caa5dd854609b29989e849d31502",
       "version_major": 2,
       "version_minor": 0
      },
      "text/plain": [
       "Epoch: 9. Phase: train:   0%|          | 0/469 [00:00<?, ?it/s]"
      ]
     },
     "metadata": {},
     "output_type": "display_data"
    },
    {
     "name": "stdout",
     "output_type": "stream",
     "text": [
      "train Loss: 1.9752 Acc: 0.3037 "
     ]
    },
    {
     "data": {
      "application/vnd.jupyter.widget-view+json": {
       "model_id": "5bc0678a4d244c8899e385c72d5a84db",
       "version_major": 2,
       "version_minor": 0
      },
      "text/plain": [
       "Epoch: 9. Phase: val:   0%|          | 0/79 [00:00<?, ?it/s]"
      ]
     },
     "metadata": {},
     "output_type": "display_data"
    },
    {
     "name": "stdout",
     "output_type": "stream",
     "text": [
      "val Loss: 1.9982 Acc: 0.2953 "
     ]
    },
    {
     "data": {
      "application/vnd.jupyter.widget-view+json": {
       "model_id": "51f8fb5108974abca571c28d6aafc2a6",
       "version_major": 2,
       "version_minor": 0
      },
      "text/plain": [
       "Epoch: 10. Phase: train:   0%|          | 0/469 [00:00<?, ?it/s]"
      ]
     },
     "metadata": {},
     "output_type": "display_data"
    },
    {
     "name": "stdout",
     "output_type": "stream",
     "text": [
      "train Loss: 1.9752 Acc: 0.3064 "
     ]
    },
    {
     "data": {
      "application/vnd.jupyter.widget-view+json": {
       "model_id": "9726740cc1124a2fa84d4654660e7283",
       "version_major": 2,
       "version_minor": 0
      },
      "text/plain": [
       "Epoch: 10. Phase: val:   0%|          | 0/79 [00:00<?, ?it/s]"
      ]
     },
     "metadata": {},
     "output_type": "display_data"
    },
    {
     "name": "stdout",
     "output_type": "stream",
     "text": [
      "val Loss: 1.9933 Acc: 0.2954 "
     ]
    }
   ],
   "source": [
    "loss_hist = {'train': [], 'val': []}\n",
    "acc_hist = {'train': [], 'val': []}\n",
    "\n",
    "EPOCH_NUM = 10\n",
    "\n",
    "for epoch in trange(EPOCH_NUM, desc='Whole pipeline'):    \n",
    "    for phase in ['train', 'val']:\n",
    "        dataloader = dataloaders[phase]\n",
    "        \n",
    "        if phase == 'train':\n",
    "            model.train() \n",
    "        elif phase == 'val':\n",
    "            model.eval()\n",
    "        \n",
    "        running_loss = 0.\n",
    "        running_acc = 0.\n",
    "        \n",
    "        for (X_batch, y_batch) in tqdm(dataloader, desc=f'Epoch: {epoch + 1}. Phase: {phase}'):\n",
    "            X_batch = X_batch / 255\n",
    "            X_batch = transforms.Normalize((0.485, 0.456, 0.406), (0.229, 0.224, 0.225))(X_batch)\n",
    "            \n",
    "            X_batch = X_batch.to(DEVICE)\n",
    "            y_batch = y_batch.to(DEVICE)\n",
    "            \n",
    "            optimizer.zero_grad()\n",
    "            \n",
    "            with torch.set_grad_enabled(phase == 'train'):\n",
    "                y_pred = model(X_batch)\n",
    "                \n",
    "                loss_value = loss_function(y_pred, y_batch)\n",
    "                y_pred_class = y_pred.argmax(dim=1)\n",
    "                \n",
    "                if phase == 'train':\n",
    "                    loss_value.backward()\n",
    "                    optimizer.step()\n",
    "                   \n",
    "            running_loss += loss_value.item()\n",
    "            running_acc += (y_pred_class == y_batch.data).float().mean().data.cpu().numpy()\n",
    "        \n",
    "        epoch_loss = running_loss / len(dataloader)\n",
    "        epoch_acc = running_acc / len(dataloader)\n",
    "        \n",
    "        print(f'{phase} Loss: {epoch_loss:.4f} Acc: {epoch_acc:.4f} ', end='')\n",
    "        \n",
    "        loss_hist[phase].append(epoch_loss)\n",
    "        acc_hist[phase].append(epoch_acc)"
   ]
  },
  {
   "cell_type": "code",
   "execution_count": 10,
   "id": "3a787ccc-ebcd-4485-ae13-edbacf1ccd69",
   "metadata": {},
   "outputs": [
    {
     "data": {
      "image/png": "[encoded data removed]",
      "text/plain": [
       "<Figure size 1008x504 with 1 Axes>"
      ]
     },
     "metadata": {
      "needs_background": "light"
     },
     "output_type": "display_data"
    },
    {
     "data": {
      "image/png": "[encoded data removed]",
      "text/plain": [
       "<Figure size 1008x504 with 1 Axes>"
      ]
     },
     "metadata": {
      "needs_background": "light"
     },
     "output_type": "display_data"
    }
   ],
   "source": [
    "import matplotlib.pyplot as plt\n",
    "\n",
    "plt.rcParams['figure.figsize'] = (14, 7)\n",
    "for experiment_id in acc_hist.keys():\n",
    "    plt.plot(acc_hist[experiment_id], label=experiment_id)\n",
    "plt.legend(loc='upper left')\n",
    "plt.title('Model Accuracy')\n",
    "plt.xlabel('Epoch num', fontsize=15)\n",
    "plt.ylabel('Accuracy value', fontsize=15)\n",
    "plt.grid(linestyle='--', linewidth=0.5, color='.7')\n",
    "plt.show()\n",
    "\n",
    "plt.rcParams['figure.figsize'] = (14, 7)\n",
    "for experiment_id in loss_hist.keys():\n",
    "    plt.plot(loss_hist[experiment_id], label=experiment_id)\n",
    "plt.legend(loc='upper left')\n",
    "plt.title('Model Loss')\n",
    "plt.xlabel('Epoch num', fontsize=15)\n",
    "plt.ylabel('Loss function value', fontsize=15)\n",
    "plt.grid(linestyle='--', linewidth=0.5, color='.7')\n",
    "plt.show()"
   ]
  },
  {
   "cell_type": "code",
   "execution_count": 11,
   "id": "68f4197f-2d25-4f85-9418-601313794fdd",
   "metadata": {},
   "outputs": [
    {
     "data": {
      "text/plain": [
       "<matplotlib.image.AxesImage at 0x21be0fc68e0>"
      ]
     },
     "execution_count": 11,
     "metadata": {},
     "output_type": "execute_result"
    },
    {
     "data": {
      "image/png": "[encoded data removed]",
      "text/plain": [
       "<Figure size 1008x504 with 1 Axes>"
      ]
     },
     "metadata": {
      "needs_background": "light"
     },
     "output_type": "display_data"
    }
   ],
   "source": [
    "img = train_dataset[0][0].detach().numpy()\n",
    "\n",
    "plt.imshow(np.transpose(img, (1,2,0)))"
   ]
  },
  {
   "cell_type": "code",
   "execution_count": 12,
   "id": "76454c38-3afa-4439-aa55-446a2d5772e8",
   "metadata": {},
   "outputs": [
    {
     "data": {
      "text/plain": [
       "60000"
      ]
     },
     "execution_count": 12,
     "metadata": {},
     "output_type": "execute_result"
    }
   ],
   "source": [
    "len(train_dataset)"
   ]
  },
  {
   "cell_type": "code",
   "execution_count": 13,
   "id": "3102df53-078c-4a70-943b-1afa4c35b71e",
   "metadata": {},
   "outputs": [
    {
     "data": {
      "text/plain": [
       "torch.Size([1000, 3, 28, 28])"
      ]
     },
     "execution_count": 13,
     "metadata": {},
     "output_type": "execute_result"
    }
   ],
   "source": [
    "train_items = [train_dataset[i] for i in range(1000)]\n",
    "xs, ys = zip(*train_items)\n",
    "\n",
    "xs = torch.stack(xs)\n",
    "xs = transforms.Normalize((0.485, 0.456, 0.406), (0.229, 0.224, 0.225))(xs)\n",
    "xs.size()"
   ]
  },
  {
   "cell_type": "code",
   "execution_count": 14,
   "id": "0e803b2b-76af-4646-a6ee-5af042e91cbc",
   "metadata": {},
   "outputs": [],
   "source": [
    "device = torch.device(DEVICE)\n",
    "xss = xs.to(device)"
   ]
  },
  {
   "cell_type": "code",
   "execution_count": 15,
   "id": "dd57d31e-e95d-45af-b062-fab3aaf08064",
   "metadata": {},
   "outputs": [
    {
     "data": {
      "text/plain": [
       "torch.Size([1000, 64])"
      ]
     },
     "execution_count": 15,
     "metadata": {},
     "output_type": "execute_result"
    }
   ],
   "source": [
    "embs = model.embed(xss)\n",
    "embs.size()"
   ]
  },
  {
   "cell_type": "code",
   "execution_count": 16,
   "id": "1513a7d0-bb4d-4308-b8fe-eb2ab59e78c6",
   "metadata": {},
   "outputs": [],
   "source": [
    "import umap"
   ]
  },
  {
   "cell_type": "code",
   "execution_count": 17,
   "id": "3612e296-2464-4f1f-be24-850ffe16ba68",
   "metadata": {},
   "outputs": [
    {
     "data": {
      "text/plain": [
       "(1000, 2)"
      ]
     },
     "execution_count": 17,
     "metadata": {},
     "output_type": "execute_result"
    }
   ],
   "source": [
    "points = umap.UMAP().fit_transform(embs.detach().cpu().numpy())\n",
    "points.shape"
   ]
  },
  {
   "cell_type": "code",
   "execution_count": 18,
   "id": "52d125a0-08ec-4702-9b91-b2dfc07728f0",
   "metadata": {},
   "outputs": [],
   "source": [
    "from tensorboardX import SummaryWriter\n",
    "\n",
    "writer = SummaryWriter()"
   ]
  },
  {
   "cell_type": "code",
   "execution_count": 19,
   "id": "e1cfe473-d09c-48c2-a81a-a6b59ea33bd6",
   "metadata": {},
   "outputs": [],
   "source": [
    "writer.add_embedding(embs,\n",
    "                     metadata=ys,\n",
    "                     label_img=xs)\n",
    "writer.close()"
   ]
  },
  {
   "cell_type": "code",
   "execution_count": null,
   "id": "369744af-dce7-498d-8849-34af82d2f9f1",
   "metadata": {},
   "outputs": [],
   "source": []
  },
  {
   "cell_type": "code",
   "execution_count": null,
   "id": "f750bc61-5bab-4de4-8d19-023724b4a4f1",
   "metadata": {},
   "outputs": [],
   "source": []
  }
 ],
 "metadata": {
  "kernelspec": {
   "display_name": "Python 3 (ipykernel)",
   "language": "python",
   "name": "python3"
  },
  "language_info": {
   "codemirror_mode": {
    "name": "ipython",
    "version": 3
   },
   "file_extension": ".py",
   "mimetype": "text/x-python",
   "name": "python",
   "nbconvert_exporter": "python",
   "pygments_lexer": "ipython3",
   "version": "3.9.10"
  }
 },
 "nbformat": 4,
 "nbformat_minor": 5
}
