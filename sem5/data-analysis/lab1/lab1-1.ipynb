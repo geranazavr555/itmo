{
 "cells": [
  {
   "cell_type": "code",
   "execution_count": 1,
   "id": "52bc72ac",
   "metadata": {},
   "outputs": [],
   "source": [
    "import pandas as pd\n",
    "import numpy as np\n",
    "import matplotlib.pyplot as plt"
   ]
  },
  {
   "cell_type": "markdown",
   "id": "3cd4db5a",
   "metadata": {},
   "source": [
    "# Предобработка"
   ]
  },
  {
   "cell_type": "markdown",
   "id": "d7cf5a94",
   "metadata": {},
   "source": [
    "## Пользователи"
   ]
  },
  {
   "cell_type": "code",
   "execution_count": 2,
   "id": "1cb37728",
   "metadata": {},
   "outputs": [],
   "source": [
    "df_users_raw = pd.read_csv(\"data/user_data.csv\")"
   ]
  },
  {
   "cell_type": "code",
   "execution_count": 3,
   "id": "e80420e8",
   "metadata": {},
   "outputs": [
    {
     "data": {
      "text/html": [
       "<div>\n",
       "<style scoped>\n",
       "    .dataframe tbody tr th:only-of-type {\n",
       "        vertical-align: middle;\n",
       "    }\n",
       "\n",
       "    .dataframe tbody tr th {\n",
       "        vertical-align: top;\n",
       "    }\n",
       "\n",
       "    .dataframe thead th {\n",
       "        text-align: right;\n",
       "    }\n",
       "</style>\n",
       "<table border=\"1\" class=\"dataframe\">\n",
       "  <thead>\n",
       "    <tr style=\"text-align: right;\">\n",
       "      <th></th>\n",
       "      <th>name</th>\n",
       "      <th>planning</th>\n",
       "      <th>watched</th>\n",
       "      <th>completed</th>\n",
       "      <th>days_watched</th>\n",
       "      <th>dropped</th>\n",
       "      <th>episodes_watched</th>\n",
       "      <th>mean_score</th>\n",
       "      <th>on_hold</th>\n",
       "      <th>plan_to_watch</th>\n",
       "      <th>rewatched</th>\n",
       "      <th>total_entries</th>\n",
       "      <th>watching</th>\n",
       "      <th>birthday</th>\n",
       "      <th>gender</th>\n",
       "      <th>joined</th>\n",
       "      <th>last_online</th>\n",
       "      <th>location</th>\n",
       "      <th>favorites</th>\n",
       "      <th>genre_count</th>\n",
       "    </tr>\n",
       "  </thead>\n",
       "  <tbody>\n",
       "    <tr>\n",
       "      <th>0</th>\n",
       "      <td>-0</td>\n",
       "      <td>[{'mal_id': 39764, 'title': 'Detective Conan M...</td>\n",
       "      <td>[{'title': '1', 'mal_id': 29978, 'score': 6, '...</td>\n",
       "      <td>467</td>\n",
       "      <td>181.6</td>\n",
       "      <td>0</td>\n",
       "      <td>11160</td>\n",
       "      <td>7.74</td>\n",
       "      <td>0</td>\n",
       "      <td>7</td>\n",
       "      <td>0</td>\n",
       "      <td>477</td>\n",
       "      <td>3</td>\n",
       "      <td>NaN</td>\n",
       "      <td>NaN</td>\n",
       "      <td>2017-09-19T00:00:00+00:00</td>\n",
       "      <td>2020-09-25 11:03:22+00:00</td>\n",
       "      <td>NaN</td>\n",
       "      <td>{'anime': [], 'characters': [], 'people': []}</td>\n",
       "      <td>{'Action': 153, 'Adventure': 162, 'Cars': 5, '...</td>\n",
       "    </tr>\n",
       "    <tr>\n",
       "      <th>1</th>\n",
       "      <td>-Droid-</td>\n",
       "      <td>[{'mal_id': 6408, 'title': '\"Bungaku Shoujo\" M...</td>\n",
       "      <td>[{'title': '11eyes', 'mal_id': 6682, 'score': ...</td>\n",
       "      <td>1125</td>\n",
       "      <td>263.3</td>\n",
       "      <td>4</td>\n",
       "      <td>16195</td>\n",
       "      <td>7.80</td>\n",
       "      <td>4</td>\n",
       "      <td>1131</td>\n",
       "      <td>53</td>\n",
       "      <td>2271</td>\n",
       "      <td>7</td>\n",
       "      <td>1930-01-07T00:00:00+00:00</td>\n",
       "      <td>Male</td>\n",
       "      <td>2013-09-07T00:00:00+00:00</td>\n",
       "      <td>2020-09-17 21:07:00+00:00</td>\n",
       "      <td>MA</td>\n",
       "      <td>{'anime': [{'mal_id': 237, 'title': 'Koukyoush...</td>\n",
       "      <td>{'Action': 447, 'Adventure': 186, 'Cars': 1, '...</td>\n",
       "    </tr>\n",
       "    <tr>\n",
       "      <th>2</th>\n",
       "      <td>-Hentai</td>\n",
       "      <td>[{'mal_id': 39783, 'title': '5-toubun no Hanay...</td>\n",
       "      <td>[{'title': '3-gatsu no Lion', 'mal_id': 31646,...</td>\n",
       "      <td>887</td>\n",
       "      <td>270.4</td>\n",
       "      <td>60</td>\n",
       "      <td>16189</td>\n",
       "      <td>7.36</td>\n",
       "      <td>9</td>\n",
       "      <td>88</td>\n",
       "      <td>8</td>\n",
       "      <td>1070</td>\n",
       "      <td>26</td>\n",
       "      <td>1991-11-05T00:00:00+00:00</td>\n",
       "      <td>Male</td>\n",
       "      <td>2014-05-19T00:00:00+00:00</td>\n",
       "      <td>2020-09-21 19:11:28+00:00</td>\n",
       "      <td>UAE - Sharjah</td>\n",
       "      <td>{'anime': [{'mal_id': 31933, 'title': 'JoJo no...</td>\n",
       "      <td>{'Action': 418, 'Adventure': 210, 'Cars': 1, '...</td>\n",
       "    </tr>\n",
       "    <tr>\n",
       "      <th>3</th>\n",
       "      <td>-Jens</td>\n",
       "      <td>[{'mal_id': 31646, 'title': '3-gatsu no Lion'}...</td>\n",
       "      <td>[{'title': '07-Ghost', 'mal_id': 5525, 'score'...</td>\n",
       "      <td>102</td>\n",
       "      <td>17.8</td>\n",
       "      <td>0</td>\n",
       "      <td>1093</td>\n",
       "      <td>6.81</td>\n",
       "      <td>8</td>\n",
       "      <td>403</td>\n",
       "      <td>0</td>\n",
       "      <td>518</td>\n",
       "      <td>5</td>\n",
       "      <td>NaN</td>\n",
       "      <td>NaN</td>\n",
       "      <td>2020-06-11T00:00:00+00:00</td>\n",
       "      <td>2020-09-24 14:06:00+00:00</td>\n",
       "      <td>Fish tank. I'm stuck.</td>\n",
       "      <td>{'anime': [{'mal_id': 205, 'title': 'Samurai C...</td>\n",
       "      <td>{'Action': 36, 'Adventure': 9, 'Cars': 0, 'Com...</td>\n",
       "    </tr>\n",
       "    <tr>\n",
       "      <th>4</th>\n",
       "      <td>-Kano</td>\n",
       "      <td>[{'mal_id': 34777, 'title': '91 Days: Toki no ...</td>\n",
       "      <td>[{'title': '3-gatsu no Lion', 'mal_id': 31646,...</td>\n",
       "      <td>193</td>\n",
       "      <td>65.2</td>\n",
       "      <td>25</td>\n",
       "      <td>3961</td>\n",
       "      <td>6.92</td>\n",
       "      <td>32</td>\n",
       "      <td>70</td>\n",
       "      <td>2</td>\n",
       "      <td>325</td>\n",
       "      <td>5</td>\n",
       "      <td>NaN</td>\n",
       "      <td>NaN</td>\n",
       "      <td>2015-08-12T00:00:00+00:00</td>\n",
       "      <td>2020-09-26 01:29:32+00:00</td>\n",
       "      <td>NaN</td>\n",
       "      <td>{'anime': [], 'characters': [], 'people': []}</td>\n",
       "      <td>{'Action': 84, 'Adventure': 25, 'Cars': 0, 'Co...</td>\n",
       "    </tr>\n",
       "  </tbody>\n",
       "</table>\n",
       "</div>"
      ],
      "text/plain": [
       "      name                                           planning  \\\n",
       "0       -0  [{'mal_id': 39764, 'title': 'Detective Conan M...   \n",
       "1  -Droid-  [{'mal_id': 6408, 'title': '\"Bungaku Shoujo\" M...   \n",
       "2  -Hentai  [{'mal_id': 39783, 'title': '5-toubun no Hanay...   \n",
       "3    -Jens  [{'mal_id': 31646, 'title': '3-gatsu no Lion'}...   \n",
       "4    -Kano  [{'mal_id': 34777, 'title': '91 Days: Toki no ...   \n",
       "\n",
       "                                             watched  completed  days_watched  \\\n",
       "0  [{'title': '1', 'mal_id': 29978, 'score': 6, '...        467         181.6   \n",
       "1  [{'title': '11eyes', 'mal_id': 6682, 'score': ...       1125         263.3   \n",
       "2  [{'title': '3-gatsu no Lion', 'mal_id': 31646,...        887         270.4   \n",
       "3  [{'title': '07-Ghost', 'mal_id': 5525, 'score'...        102          17.8   \n",
       "4  [{'title': '3-gatsu no Lion', 'mal_id': 31646,...        193          65.2   \n",
       "\n",
       "   dropped  episodes_watched  mean_score  on_hold  plan_to_watch  rewatched  \\\n",
       "0        0             11160        7.74        0              7          0   \n",
       "1        4             16195        7.80        4           1131         53   \n",
       "2       60             16189        7.36        9             88          8   \n",
       "3        0              1093        6.81        8            403          0   \n",
       "4       25              3961        6.92       32             70          2   \n",
       "\n",
       "   total_entries  watching                   birthday gender  \\\n",
       "0            477         3                        NaN    NaN   \n",
       "1           2271         7  1930-01-07T00:00:00+00:00   Male   \n",
       "2           1070        26  1991-11-05T00:00:00+00:00   Male   \n",
       "3            518         5                        NaN    NaN   \n",
       "4            325         5                        NaN    NaN   \n",
       "\n",
       "                      joined                last_online  \\\n",
       "0  2017-09-19T00:00:00+00:00  2020-09-25 11:03:22+00:00   \n",
       "1  2013-09-07T00:00:00+00:00  2020-09-17 21:07:00+00:00   \n",
       "2  2014-05-19T00:00:00+00:00  2020-09-21 19:11:28+00:00   \n",
       "3  2020-06-11T00:00:00+00:00  2020-09-24 14:06:00+00:00   \n",
       "4  2015-08-12T00:00:00+00:00  2020-09-26 01:29:32+00:00   \n",
       "\n",
       "                location                                          favorites  \\\n",
       "0                    NaN      {'anime': [], 'characters': [], 'people': []}   \n",
       "1                     MA  {'anime': [{'mal_id': 237, 'title': 'Koukyoush...   \n",
       "2         UAE - Sharjah   {'anime': [{'mal_id': 31933, 'title': 'JoJo no...   \n",
       "3  Fish tank. I'm stuck.  {'anime': [{'mal_id': 205, 'title': 'Samurai C...   \n",
       "4                    NaN      {'anime': [], 'characters': [], 'people': []}   \n",
       "\n",
       "                                         genre_count  \n",
       "0  {'Action': 153, 'Adventure': 162, 'Cars': 5, '...  \n",
       "1  {'Action': 447, 'Adventure': 186, 'Cars': 1, '...  \n",
       "2  {'Action': 418, 'Adventure': 210, 'Cars': 1, '...  \n",
       "3  {'Action': 36, 'Adventure': 9, 'Cars': 0, 'Com...  \n",
       "4  {'Action': 84, 'Adventure': 25, 'Cars': 0, 'Co...  "
      ]
     },
     "execution_count": 3,
     "metadata": {},
     "output_type": "execute_result"
    }
   ],
   "source": [
    "df_users_raw.head()"
   ]
  },
  {
   "cell_type": "code",
   "execution_count": 4,
   "id": "f1c6c779",
   "metadata": {},
   "outputs": [
    {
     "name": "stdout",
     "output_type": "stream",
     "text": [
      "<class 'pandas.core.frame.DataFrame'>\n",
      "RangeIndex: 2195 entries, 0 to 2194\n",
      "Data columns (total 20 columns):\n",
      " #   Column            Non-Null Count  Dtype  \n",
      "---  ------            --------------  -----  \n",
      " 0   name              2195 non-null   object \n",
      " 1   planning          2195 non-null   object \n",
      " 2   watched           2195 non-null   object \n",
      " 3   completed         2195 non-null   int64  \n",
      " 4   days_watched      2195 non-null   float64\n",
      " 5   dropped           2195 non-null   int64  \n",
      " 6   episodes_watched  2195 non-null   int64  \n",
      " 7   mean_score        2195 non-null   float64\n",
      " 8   on_hold           2195 non-null   int64  \n",
      " 9   plan_to_watch     2195 non-null   int64  \n",
      " 10  rewatched         2195 non-null   int64  \n",
      " 11  total_entries     2195 non-null   int64  \n",
      " 12  watching          2195 non-null   int64  \n",
      " 13  birthday          1261 non-null   object \n",
      " 14  gender            1751 non-null   object \n",
      " 15  joined            2195 non-null   object \n",
      " 16  last_online       2195 non-null   object \n",
      " 17  location          1474 non-null   object \n",
      " 18  favorites         2195 non-null   object \n",
      " 19  genre_count       2195 non-null   object \n",
      "dtypes: float64(2), int64(8), object(10)\n",
      "memory usage: 343.1+ KB\n"
     ]
    },
    {
     "data": {
      "text/html": [
       "<div>\n",
       "<style scoped>\n",
       "    .dataframe tbody tr th:only-of-type {\n",
       "        vertical-align: middle;\n",
       "    }\n",
       "\n",
       "    .dataframe tbody tr th {\n",
       "        vertical-align: top;\n",
       "    }\n",
       "\n",
       "    .dataframe thead th {\n",
       "        text-align: right;\n",
       "    }\n",
       "</style>\n",
       "<table border=\"1\" class=\"dataframe\">\n",
       "  <thead>\n",
       "    <tr style=\"text-align: right;\">\n",
       "      <th></th>\n",
       "      <th>completed</th>\n",
       "      <th>days_watched</th>\n",
       "      <th>dropped</th>\n",
       "      <th>episodes_watched</th>\n",
       "      <th>mean_score</th>\n",
       "      <th>on_hold</th>\n",
       "      <th>plan_to_watch</th>\n",
       "      <th>rewatched</th>\n",
       "      <th>total_entries</th>\n",
       "      <th>watching</th>\n",
       "    </tr>\n",
       "  </thead>\n",
       "  <tbody>\n",
       "    <tr>\n",
       "      <th>count</th>\n",
       "      <td>2195.000000</td>\n",
       "      <td>2195.000000</td>\n",
       "      <td>2195.000000</td>\n",
       "      <td>2195.000000</td>\n",
       "      <td>2195.000000</td>\n",
       "      <td>2195.000000</td>\n",
       "      <td>2195.000000</td>\n",
       "      <td>2195.000000</td>\n",
       "      <td>2195.000000</td>\n",
       "      <td>2195.000000</td>\n",
       "    </tr>\n",
       "    <tr>\n",
       "      <th>mean</th>\n",
       "      <td>433.814123</td>\n",
       "      <td>122.496674</td>\n",
       "      <td>28.907517</td>\n",
       "      <td>7719.424146</td>\n",
       "      <td>7.066588</td>\n",
       "      <td>19.630979</td>\n",
       "      <td>192.500683</td>\n",
       "      <td>20.524829</td>\n",
       "      <td>694.082005</td>\n",
       "      <td>19.226879</td>\n",
       "    </tr>\n",
       "    <tr>\n",
       "      <th>std</th>\n",
       "      <td>701.161822</td>\n",
       "      <td>131.530904</td>\n",
       "      <td>208.860362</td>\n",
       "      <td>9390.248439</td>\n",
       "      <td>1.515720</td>\n",
       "      <td>49.139325</td>\n",
       "      <td>445.081841</td>\n",
       "      <td>90.231621</td>\n",
       "      <td>995.627147</td>\n",
       "      <td>57.267595</td>\n",
       "    </tr>\n",
       "    <tr>\n",
       "      <th>min</th>\n",
       "      <td>3.000000</td>\n",
       "      <td>0.400000</td>\n",
       "      <td>0.000000</td>\n",
       "      <td>15.000000</td>\n",
       "      <td>0.000000</td>\n",
       "      <td>0.000000</td>\n",
       "      <td>0.000000</td>\n",
       "      <td>0.000000</td>\n",
       "      <td>10.000000</td>\n",
       "      <td>0.000000</td>\n",
       "    </tr>\n",
       "    <tr>\n",
       "      <th>25%</th>\n",
       "      <td>157.000000</td>\n",
       "      <td>51.500000</td>\n",
       "      <td>1.000000</td>\n",
       "      <td>3153.500000</td>\n",
       "      <td>6.615000</td>\n",
       "      <td>1.500000</td>\n",
       "      <td>34.000000</td>\n",
       "      <td>0.000000</td>\n",
       "      <td>280.500000</td>\n",
       "      <td>4.000000</td>\n",
       "    </tr>\n",
       "    <tr>\n",
       "      <th>50%</th>\n",
       "      <td>273.000000</td>\n",
       "      <td>90.700000</td>\n",
       "      <td>8.000000</td>\n",
       "      <td>5518.000000</td>\n",
       "      <td>7.260000</td>\n",
       "      <td>7.000000</td>\n",
       "      <td>94.000000</td>\n",
       "      <td>1.000000</td>\n",
       "      <td>472.000000</td>\n",
       "      <td>8.000000</td>\n",
       "    </tr>\n",
       "    <tr>\n",
       "      <th>75%</th>\n",
       "      <td>490.500000</td>\n",
       "      <td>148.550000</td>\n",
       "      <td>24.000000</td>\n",
       "      <td>9233.000000</td>\n",
       "      <td>7.890000</td>\n",
       "      <td>19.000000</td>\n",
       "      <td>212.000000</td>\n",
       "      <td>13.000000</td>\n",
       "      <td>796.500000</td>\n",
       "      <td>17.000000</td>\n",
       "    </tr>\n",
       "    <tr>\n",
       "      <th>max</th>\n",
       "      <td>14025.000000</td>\n",
       "      <td>1928.400000</td>\n",
       "      <td>9012.000000</td>\n",
       "      <td>151474.000000</td>\n",
       "      <td>10.000000</td>\n",
       "      <td>1400.000000</td>\n",
       "      <td>12517.000000</td>\n",
       "      <td>2515.000000</td>\n",
       "      <td>17118.000000</td>\n",
       "      <td>1747.000000</td>\n",
       "    </tr>\n",
       "  </tbody>\n",
       "</table>\n",
       "</div>"
      ],
      "text/plain": [
       "          completed  days_watched      dropped  episodes_watched   mean_score  \\\n",
       "count   2195.000000   2195.000000  2195.000000       2195.000000  2195.000000   \n",
       "mean     433.814123    122.496674    28.907517       7719.424146     7.066588   \n",
       "std      701.161822    131.530904   208.860362       9390.248439     1.515720   \n",
       "min        3.000000      0.400000     0.000000         15.000000     0.000000   \n",
       "25%      157.000000     51.500000     1.000000       3153.500000     6.615000   \n",
       "50%      273.000000     90.700000     8.000000       5518.000000     7.260000   \n",
       "75%      490.500000    148.550000    24.000000       9233.000000     7.890000   \n",
       "max    14025.000000   1928.400000  9012.000000     151474.000000    10.000000   \n",
       "\n",
       "           on_hold  plan_to_watch    rewatched  total_entries     watching  \n",
       "count  2195.000000    2195.000000  2195.000000    2195.000000  2195.000000  \n",
       "mean     19.630979     192.500683    20.524829     694.082005    19.226879  \n",
       "std      49.139325     445.081841    90.231621     995.627147    57.267595  \n",
       "min       0.000000       0.000000     0.000000      10.000000     0.000000  \n",
       "25%       1.500000      34.000000     0.000000     280.500000     4.000000  \n",
       "50%       7.000000      94.000000     1.000000     472.000000     8.000000  \n",
       "75%      19.000000     212.000000    13.000000     796.500000    17.000000  \n",
       "max    1400.000000   12517.000000  2515.000000   17118.000000  1747.000000  "
      ]
     },
     "execution_count": 4,
     "metadata": {},
     "output_type": "execute_result"
    }
   ],
   "source": [
    "df_users_raw.info()\n",
    "df_users_raw.describe()"
   ]
  },
  {
   "cell_type": "code",
   "execution_count": 5,
   "id": "e6d3534e",
   "metadata": {},
   "outputs": [
    {
     "data": {
      "text/plain": [
       "array([nan, 'Male', 'Female', 'Non-Binary'], dtype=object)"
      ]
     },
     "execution_count": 5,
     "metadata": {},
     "output_type": "execute_result"
    }
   ],
   "source": [
    "df_users_raw[\"gender\"].unique()"
   ]
  },
  {
   "cell_type": "code",
   "execution_count": 6,
   "id": "3a0143ea",
   "metadata": {},
   "outputs": [
    {
     "data": {
      "text/plain": [
       "0          NaN\n",
       "1         Male\n",
       "2         Male\n",
       "3          NaN\n",
       "4          NaN\n",
       "         ...  \n",
       "2190      Male\n",
       "2191      Male\n",
       "2192      Male\n",
       "2193    Female\n",
       "2194       NaN\n",
       "Name: gender, Length: 2195, dtype: category\n",
       "Categories (3, object): ['Female', 'Male', 'Non-Binary']"
      ]
     },
     "execution_count": 6,
     "metadata": {},
     "output_type": "execute_result"
    }
   ],
   "source": [
    "df_users_raw[\"gender\"] = df_users_raw[\"gender\"].astype(\"category\")\n",
    "df_users_raw[\"gender\"]"
   ]
  },
  {
   "cell_type": "code",
   "execution_count": 7,
   "id": "42cb044f",
   "metadata": {},
   "outputs": [],
   "source": [
    "df_users = df_users_raw.dropna()"
   ]
  },
  {
   "cell_type": "code",
   "execution_count": 8,
   "id": "ba239a12",
   "metadata": {},
   "outputs": [
    {
     "data": {
      "text/html": [
       "<div>\n",
       "<style scoped>\n",
       "    .dataframe tbody tr th:only-of-type {\n",
       "        vertical-align: middle;\n",
       "    }\n",
       "\n",
       "    .dataframe tbody tr th {\n",
       "        vertical-align: top;\n",
       "    }\n",
       "\n",
       "    .dataframe thead th {\n",
       "        text-align: right;\n",
       "    }\n",
       "</style>\n",
       "<table border=\"1\" class=\"dataframe\">\n",
       "  <thead>\n",
       "    <tr style=\"text-align: right;\">\n",
       "      <th></th>\n",
       "      <th>completed</th>\n",
       "      <th>days_watched</th>\n",
       "      <th>dropped</th>\n",
       "      <th>episodes_watched</th>\n",
       "      <th>mean_score</th>\n",
       "      <th>on_hold</th>\n",
       "      <th>plan_to_watch</th>\n",
       "      <th>rewatched</th>\n",
       "      <th>total_entries</th>\n",
       "      <th>watching</th>\n",
       "    </tr>\n",
       "  </thead>\n",
       "  <tbody>\n",
       "    <tr>\n",
       "      <th>count</th>\n",
       "      <td>975.000000</td>\n",
       "      <td>975.000000</td>\n",
       "      <td>975.000000</td>\n",
       "      <td>975.000000</td>\n",
       "      <td>975.000000</td>\n",
       "      <td>975.000000</td>\n",
       "      <td>975.000000</td>\n",
       "      <td>975.000000</td>\n",
       "      <td>975.000000</td>\n",
       "      <td>975.000000</td>\n",
       "    </tr>\n",
       "    <tr>\n",
       "      <th>mean</th>\n",
       "      <td>485.777436</td>\n",
       "      <td>136.210359</td>\n",
       "      <td>26.731282</td>\n",
       "      <td>8556.929231</td>\n",
       "      <td>7.065272</td>\n",
       "      <td>20.462564</td>\n",
       "      <td>224.515897</td>\n",
       "      <td>28.417436</td>\n",
       "      <td>778.522051</td>\n",
       "      <td>21.030769</td>\n",
       "    </tr>\n",
       "    <tr>\n",
       "      <th>std</th>\n",
       "      <td>815.581135</td>\n",
       "      <td>150.479575</td>\n",
       "      <td>82.562748</td>\n",
       "      <td>10281.560250</td>\n",
       "      <td>1.439209</td>\n",
       "      <td>57.255671</td>\n",
       "      <td>580.096825</td>\n",
       "      <td>127.803868</td>\n",
       "      <td>1175.086383</td>\n",
       "      <td>73.420417</td>\n",
       "    </tr>\n",
       "    <tr>\n",
       "      <th>min</th>\n",
       "      <td>5.000000</td>\n",
       "      <td>1.500000</td>\n",
       "      <td>0.000000</td>\n",
       "      <td>87.000000</td>\n",
       "      <td>0.000000</td>\n",
       "      <td>0.000000</td>\n",
       "      <td>0.000000</td>\n",
       "      <td>0.000000</td>\n",
       "      <td>10.000000</td>\n",
       "      <td>0.000000</td>\n",
       "    </tr>\n",
       "    <tr>\n",
       "      <th>25%</th>\n",
       "      <td>168.000000</td>\n",
       "      <td>57.550000</td>\n",
       "      <td>1.000000</td>\n",
       "      <td>3518.500000</td>\n",
       "      <td>6.570000</td>\n",
       "      <td>1.000000</td>\n",
       "      <td>42.000000</td>\n",
       "      <td>0.000000</td>\n",
       "      <td>299.000000</td>\n",
       "      <td>4.000000</td>\n",
       "    </tr>\n",
       "    <tr>\n",
       "      <th>50%</th>\n",
       "      <td>306.000000</td>\n",
       "      <td>102.400000</td>\n",
       "      <td>9.000000</td>\n",
       "      <td>6238.000000</td>\n",
       "      <td>7.240000</td>\n",
       "      <td>7.000000</td>\n",
       "      <td>106.000000</td>\n",
       "      <td>2.000000</td>\n",
       "      <td>515.000000</td>\n",
       "      <td>8.000000</td>\n",
       "    </tr>\n",
       "    <tr>\n",
       "      <th>75%</th>\n",
       "      <td>538.500000</td>\n",
       "      <td>166.700000</td>\n",
       "      <td>27.000000</td>\n",
       "      <td>10295.500000</td>\n",
       "      <td>7.840000</td>\n",
       "      <td>19.000000</td>\n",
       "      <td>241.500000</td>\n",
       "      <td>17.000000</td>\n",
       "      <td>893.000000</td>\n",
       "      <td>18.000000</td>\n",
       "    </tr>\n",
       "    <tr>\n",
       "      <th>max</th>\n",
       "      <td>13991.000000</td>\n",
       "      <td>1813.800000</td>\n",
       "      <td>1908.000000</td>\n",
       "      <td>123707.000000</td>\n",
       "      <td>10.000000</td>\n",
       "      <td>1400.000000</td>\n",
       "      <td>12517.000000</td>\n",
       "      <td>2515.000000</td>\n",
       "      <td>17118.000000</td>\n",
       "      <td>1747.000000</td>\n",
       "    </tr>\n",
       "  </tbody>\n",
       "</table>\n",
       "</div>"
      ],
      "text/plain": [
       "          completed  days_watched      dropped  episodes_watched  mean_score  \\\n",
       "count    975.000000    975.000000   975.000000        975.000000  975.000000   \n",
       "mean     485.777436    136.210359    26.731282       8556.929231    7.065272   \n",
       "std      815.581135    150.479575    82.562748      10281.560250    1.439209   \n",
       "min        5.000000      1.500000     0.000000         87.000000    0.000000   \n",
       "25%      168.000000     57.550000     1.000000       3518.500000    6.570000   \n",
       "50%      306.000000    102.400000     9.000000       6238.000000    7.240000   \n",
       "75%      538.500000    166.700000    27.000000      10295.500000    7.840000   \n",
       "max    13991.000000   1813.800000  1908.000000     123707.000000   10.000000   \n",
       "\n",
       "           on_hold  plan_to_watch    rewatched  total_entries     watching  \n",
       "count   975.000000     975.000000   975.000000     975.000000   975.000000  \n",
       "mean     20.462564     224.515897    28.417436     778.522051    21.030769  \n",
       "std      57.255671     580.096825   127.803868    1175.086383    73.420417  \n",
       "min       0.000000       0.000000     0.000000      10.000000     0.000000  \n",
       "25%       1.000000      42.000000     0.000000     299.000000     4.000000  \n",
       "50%       7.000000     106.000000     2.000000     515.000000     8.000000  \n",
       "75%      19.000000     241.500000    17.000000     893.000000    18.000000  \n",
       "max    1400.000000   12517.000000  2515.000000   17118.000000  1747.000000  "
      ]
     },
     "execution_count": 8,
     "metadata": {},
     "output_type": "execute_result"
    }
   ],
   "source": [
    "df_users.describe()"
   ]
  },
  {
   "cell_type": "code",
   "execution_count": 9,
   "id": "968fa368",
   "metadata": {},
   "outputs": [],
   "source": [
    "df_users.to_csv(\"data/users_prepared.csv\")"
   ]
  },
  {
   "cell_type": "markdown",
   "id": "f085ffe7",
   "metadata": {},
   "source": [
    "## Тайтлы"
   ]
  },
  {
   "cell_type": "code",
   "execution_count": 10,
   "id": "89c23192",
   "metadata": {},
   "outputs": [],
   "source": [
    "df_anime_raw = pd.read_csv(\"data/anime_data.csv\")"
   ]
  },
  {
   "cell_type": "code",
   "execution_count": 11,
   "id": "8f2cc7df",
   "metadata": {},
   "outputs": [
    {
     "data": {
      "text/html": [
       "<div>\n",
       "<style scoped>\n",
       "    .dataframe tbody tr th:only-of-type {\n",
       "        vertical-align: middle;\n",
       "    }\n",
       "\n",
       "    .dataframe tbody tr th {\n",
       "        vertical-align: top;\n",
       "    }\n",
       "\n",
       "    .dataframe thead th {\n",
       "        text-align: right;\n",
       "    }\n",
       "</style>\n",
       "<table border=\"1\" class=\"dataframe\">\n",
       "  <thead>\n",
       "    <tr style=\"text-align: right;\">\n",
       "      <th></th>\n",
       "      <th>mal_id</th>\n",
       "      <th>aired_from</th>\n",
       "      <th>aired_to</th>\n",
       "      <th>duration</th>\n",
       "      <th>episodes</th>\n",
       "      <th>genres</th>\n",
       "      <th>popularity</th>\n",
       "      <th>premiered</th>\n",
       "      <th>rank</th>\n",
       "      <th>rating</th>\n",
       "      <th>score</th>\n",
       "      <th>scored_by</th>\n",
       "      <th>source</th>\n",
       "      <th>status</th>\n",
       "      <th>studios</th>\n",
       "      <th>synopsis</th>\n",
       "      <th>title</th>\n",
       "      <th>title_english</th>\n",
       "      <th>type</th>\n",
       "    </tr>\n",
       "  </thead>\n",
       "  <tbody>\n",
       "    <tr>\n",
       "      <th>0</th>\n",
       "      <td>1</td>\n",
       "      <td>1998-04-03T00:00:00+00:00</td>\n",
       "      <td>1999-04-24T00:00:00+00:00</td>\n",
       "      <td>24 min per ep</td>\n",
       "      <td>26</td>\n",
       "      <td>['Action', 'Adventure', 'Comedy', 'Drama', 'Sc...</td>\n",
       "      <td>38</td>\n",
       "      <td>Spring 1998</td>\n",
       "      <td>27.0</td>\n",
       "      <td>R - 17+ (violence &amp; profanity)</td>\n",
       "      <td>8.79</td>\n",
       "      <td>544987</td>\n",
       "      <td>Original</td>\n",
       "      <td>Finished Airing</td>\n",
       "      <td>[{'mal_id': 14, 'name': 'Sunrise'}]</td>\n",
       "      <td>In the year 2071, humanity has colonized sever...</td>\n",
       "      <td>Cowboy Bebop</td>\n",
       "      <td>Cowboy Bebop</td>\n",
       "      <td>TV</td>\n",
       "    </tr>\n",
       "    <tr>\n",
       "      <th>1</th>\n",
       "      <td>100</td>\n",
       "      <td>2001-04-04T00:00:00+00:00</td>\n",
       "      <td>2001-06-27T00:00:00+00:00</td>\n",
       "      <td>23 min per ep</td>\n",
       "      <td>13</td>\n",
       "      <td>['Comedy', 'Drama', 'Fantasy', 'Magic', 'Roman...</td>\n",
       "      <td>2075</td>\n",
       "      <td>Spring 2001</td>\n",
       "      <td>2703.0</td>\n",
       "      <td>PG-13 - Teens 13 or older</td>\n",
       "      <td>7.21</td>\n",
       "      <td>23787</td>\n",
       "      <td>Manga</td>\n",
       "      <td>Finished Airing</td>\n",
       "      <td>[{'mal_id': 34, 'name': 'Hal Film Maker'}]</td>\n",
       "      <td>Due to her father's remarriage, robust 16-year...</td>\n",
       "      <td>Shin Shirayuki-hime Densetsu Prétear</td>\n",
       "      <td>Prétear: The New Legend of Snow White</td>\n",
       "      <td>TV</td>\n",
       "    </tr>\n",
       "    <tr>\n",
       "      <th>2</th>\n",
       "      <td>1000</td>\n",
       "      <td>1978-03-14T00:00:00+00:00</td>\n",
       "      <td>1979-02-13T00:00:00+00:00</td>\n",
       "      <td>25 min per ep</td>\n",
       "      <td>42</td>\n",
       "      <td>['Action', 'Sci-Fi', 'Adventure', 'Space', 'Dr...</td>\n",
       "      <td>2980</td>\n",
       "      <td>Spring 1978</td>\n",
       "      <td>1008.0</td>\n",
       "      <td>PG-13 - Teens 13 or older</td>\n",
       "      <td>7.71</td>\n",
       "      <td>7059</td>\n",
       "      <td>Manga</td>\n",
       "      <td>Finished Airing</td>\n",
       "      <td>[{'mal_id': 18, 'name': 'Toei Animation'}]</td>\n",
       "      <td>It is 2977 AD and mankind has become stagnant....</td>\n",
       "      <td>Uchuu Kaizoku Captain Herlock</td>\n",
       "      <td>Space Pirate Captain Harlock</td>\n",
       "      <td>TV</td>\n",
       "    </tr>\n",
       "    <tr>\n",
       "      <th>3</th>\n",
       "      <td>10003</td>\n",
       "      <td>2008-01-01T00:00:00+00:00</td>\n",
       "      <td>NaN</td>\n",
       "      <td>2 min per ep</td>\n",
       "      <td>15</td>\n",
       "      <td>['Comedy', 'Dementia', 'Horror', 'Seinen']</td>\n",
       "      <td>6848</td>\n",
       "      <td>NaN</td>\n",
       "      <td>10146.0</td>\n",
       "      <td>R+ - Mild Nudity</td>\n",
       "      <td>5.05</td>\n",
       "      <td>1181</td>\n",
       "      <td>Original</td>\n",
       "      <td>Finished Airing</td>\n",
       "      <td>[]</td>\n",
       "      <td>In these jokey short films, many of them crude...</td>\n",
       "      <td>Kago Shintarou Anime Sakuhin Shuu</td>\n",
       "      <td>NaN</td>\n",
       "      <td>OVA</td>\n",
       "    </tr>\n",
       "    <tr>\n",
       "      <th>4</th>\n",
       "      <td>10005</td>\n",
       "      <td>2007-03-31T00:00:00+00:00</td>\n",
       "      <td>NaN</td>\n",
       "      <td>1 hr 35 min</td>\n",
       "      <td>1</td>\n",
       "      <td>['Action', 'Adventure', 'Mecha', 'Sci-Fi']</td>\n",
       "      <td>10765</td>\n",
       "      <td>NaN</td>\n",
       "      <td>6121.0</td>\n",
       "      <td>G - All Ages</td>\n",
       "      <td>6.43</td>\n",
       "      <td>228</td>\n",
       "      <td>Unknown</td>\n",
       "      <td>Finished Airing</td>\n",
       "      <td>[{'mal_id': 455, 'name': 'Palm Studio'}]</td>\n",
       "      <td>This theatrical version based on the manga by ...</td>\n",
       "      <td>Tetsujin 28-gou: Hakuchuu no Zangetsu</td>\n",
       "      <td>NaN</td>\n",
       "      <td>Movie</td>\n",
       "    </tr>\n",
       "  </tbody>\n",
       "</table>\n",
       "</div>"
      ],
      "text/plain": [
       "   mal_id                 aired_from                   aired_to  \\\n",
       "0       1  1998-04-03T00:00:00+00:00  1999-04-24T00:00:00+00:00   \n",
       "1     100  2001-04-04T00:00:00+00:00  2001-06-27T00:00:00+00:00   \n",
       "2    1000  1978-03-14T00:00:00+00:00  1979-02-13T00:00:00+00:00   \n",
       "3   10003  2008-01-01T00:00:00+00:00                        NaN   \n",
       "4   10005  2007-03-31T00:00:00+00:00                        NaN   \n",
       "\n",
       "        duration  episodes                                             genres  \\\n",
       "0  24 min per ep        26  ['Action', 'Adventure', 'Comedy', 'Drama', 'Sc...   \n",
       "1  23 min per ep        13  ['Comedy', 'Drama', 'Fantasy', 'Magic', 'Roman...   \n",
       "2  25 min per ep        42  ['Action', 'Sci-Fi', 'Adventure', 'Space', 'Dr...   \n",
       "3   2 min per ep        15         ['Comedy', 'Dementia', 'Horror', 'Seinen']   \n",
       "4    1 hr 35 min         1         ['Action', 'Adventure', 'Mecha', 'Sci-Fi']   \n",
       "\n",
       "   popularity    premiered     rank                          rating  score  \\\n",
       "0          38  Spring 1998     27.0  R - 17+ (violence & profanity)   8.79   \n",
       "1        2075  Spring 2001   2703.0       PG-13 - Teens 13 or older   7.21   \n",
       "2        2980  Spring 1978   1008.0       PG-13 - Teens 13 or older   7.71   \n",
       "3        6848          NaN  10146.0                R+ - Mild Nudity   5.05   \n",
       "4       10765          NaN   6121.0                    G - All Ages   6.43   \n",
       "\n",
       "   scored_by    source           status  \\\n",
       "0     544987  Original  Finished Airing   \n",
       "1      23787     Manga  Finished Airing   \n",
       "2       7059     Manga  Finished Airing   \n",
       "3       1181  Original  Finished Airing   \n",
       "4        228   Unknown  Finished Airing   \n",
       "\n",
       "                                      studios  \\\n",
       "0         [{'mal_id': 14, 'name': 'Sunrise'}]   \n",
       "1  [{'mal_id': 34, 'name': 'Hal Film Maker'}]   \n",
       "2  [{'mal_id': 18, 'name': 'Toei Animation'}]   \n",
       "3                                          []   \n",
       "4    [{'mal_id': 455, 'name': 'Palm Studio'}]   \n",
       "\n",
       "                                            synopsis  \\\n",
       "0  In the year 2071, humanity has colonized sever...   \n",
       "1  Due to her father's remarriage, robust 16-year...   \n",
       "2  It is 2977 AD and mankind has become stagnant....   \n",
       "3  In these jokey short films, many of them crude...   \n",
       "4  This theatrical version based on the manga by ...   \n",
       "\n",
       "                                   title  \\\n",
       "0                           Cowboy Bebop   \n",
       "1   Shin Shirayuki-hime Densetsu Prétear   \n",
       "2          Uchuu Kaizoku Captain Herlock   \n",
       "3      Kago Shintarou Anime Sakuhin Shuu   \n",
       "4  Tetsujin 28-gou: Hakuchuu no Zangetsu   \n",
       "\n",
       "                           title_english   type  \n",
       "0                           Cowboy Bebop     TV  \n",
       "1  Prétear: The New Legend of Snow White     TV  \n",
       "2           Space Pirate Captain Harlock     TV  \n",
       "3                                    NaN    OVA  \n",
       "4                                    NaN  Movie  "
      ]
     },
     "execution_count": 11,
     "metadata": {},
     "output_type": "execute_result"
    }
   ],
   "source": [
    "df_anime_raw.head()"
   ]
  },
  {
   "cell_type": "code",
   "execution_count": 12,
   "id": "35fc8254",
   "metadata": {},
   "outputs": [
    {
     "name": "stdout",
     "output_type": "stream",
     "text": [
      "<class 'pandas.core.frame.DataFrame'>\n",
      "RangeIndex: 11335 entries, 0 to 11334\n",
      "Data columns (total 19 columns):\n",
      " #   Column         Non-Null Count  Dtype  \n",
      "---  ------         --------------  -----  \n",
      " 0   mal_id         11335 non-null  int64  \n",
      " 1   aired_from     11330 non-null  object \n",
      " 2   aired_to       5967 non-null   object \n",
      " 3   duration       11335 non-null  object \n",
      " 4   episodes       11335 non-null  int64  \n",
      " 5   genres         11335 non-null  object \n",
      " 6   popularity     11335 non-null  int64  \n",
      " 7   premiered      3455 non-null   object \n",
      " 8   rank           10053 non-null  float64\n",
      " 9   rating         11335 non-null  object \n",
      " 10  score          11335 non-null  float64\n",
      " 11  scored_by      11335 non-null  int64  \n",
      " 12  source         11335 non-null  object \n",
      " 13  status         11335 non-null  object \n",
      " 14  studios        11335 non-null  object \n",
      " 15  synopsis       11098 non-null  object \n",
      " 16  title          11335 non-null  object \n",
      " 17  title_english  5394 non-null   object \n",
      " 18  type           11335 non-null  object \n",
      "dtypes: float64(2), int64(4), object(13)\n",
      "memory usage: 1.6+ MB\n"
     ]
    }
   ],
   "source": [
    "df_anime_raw.info()"
   ]
  },
  {
   "cell_type": "code",
   "execution_count": 13,
   "id": "e73b878c",
   "metadata": {},
   "outputs": [
    {
     "data": {
      "text/plain": [
       "array(['Original', 'Manga', 'Unknown', 'Light novel', 'Visual novel',\n",
       "       'Game', 'Novel', '4-koma manga', 'Other', 'Music', 'Book',\n",
       "       'Web manga', 'Radio', 'Card game', 'Picture book', 'Digital manga'],\n",
       "      dtype=object)"
      ]
     },
     "execution_count": 13,
     "metadata": {},
     "output_type": "execute_result"
    }
   ],
   "source": [
    "df_anime_raw[\"source\"].unique()"
   ]
  },
  {
   "cell_type": "code",
   "execution_count": 14,
   "id": "0745f7f5",
   "metadata": {},
   "outputs": [
    {
     "data": {
      "text/plain": [
       "0        Original\n",
       "1           Manga\n",
       "2           Manga\n",
       "3        Original\n",
       "4         Unknown\n",
       "           ...   \n",
       "11330     Unknown\n",
       "11331    Original\n",
       "11332     Unknown\n",
       "11333       Manga\n",
       "11334       Manga\n",
       "Name: source, Length: 11335, dtype: category\n",
       "Categories (16, object): ['4-koma manga', 'Book', 'Card game', 'Digital manga', ..., 'Radio', 'Unknown', 'Visual novel', 'Web manga']"
      ]
     },
     "execution_count": 14,
     "metadata": {},
     "output_type": "execute_result"
    }
   ],
   "source": [
    "df_anime_raw[\"source\"] = df_anime_raw[\"source\"].astype('category')\n",
    "df_anime_raw[\"source\"]"
   ]
  },
  {
   "cell_type": "code",
   "execution_count": 15,
   "id": "caf549b2",
   "metadata": {},
   "outputs": [
    {
     "data": {
      "text/plain": [
       "array(['R - 17+ (violence & profanity)', 'PG-13 - Teens 13 or older',\n",
       "       'R+ - Mild Nudity', 'G - All Ages', 'PG - Children', 'Rx - Hentai',\n",
       "       'None'], dtype=object)"
      ]
     },
     "execution_count": 15,
     "metadata": {},
     "output_type": "execute_result"
    }
   ],
   "source": [
    "df_anime_raw[\"rating\"].unique()"
   ]
  },
  {
   "cell_type": "code",
   "execution_count": 16,
   "id": "b0aee5b7",
   "metadata": {},
   "outputs": [
    {
     "data": {
      "text/plain": [
       "0        R - 17+ (violence & profanity)\n",
       "1             PG-13 - Teens 13 or older\n",
       "2             PG-13 - Teens 13 or older\n",
       "3                      R+ - Mild Nudity\n",
       "4                          G - All Ages\n",
       "                      ...              \n",
       "11330    R - 17+ (violence & profanity)\n",
       "11331         PG-13 - Teens 13 or older\n",
       "11332                      G - All Ages\n",
       "11333    R - 17+ (violence & profanity)\n",
       "11334         PG-13 - Teens 13 or older\n",
       "Name: rating, Length: 11335, dtype: category\n",
       "Categories (7, object): ['G - All Ages', 'None', 'PG - Children', 'PG-13 - Teens 13 or older', 'R - 17+ (violence & profanity)', 'R+ - Mild Nudity', 'Rx - Hentai']"
      ]
     },
     "execution_count": 16,
     "metadata": {},
     "output_type": "execute_result"
    }
   ],
   "source": [
    "df_anime_raw[\"rating\"] = df_anime_raw[\"rating\"].astype('category')\n",
    "df_anime_raw[\"rating\"]"
   ]
  },
  {
   "cell_type": "code",
   "execution_count": 17,
   "id": "73fb7969",
   "metadata": {},
   "outputs": [
    {
     "data": {
      "text/plain": [
       "array(['24 min per ep', '23 min per ep', '25 min per ep', '2 min per ep',\n",
       "       '1 hr 35 min', '23 min', '14 min per ep', '24 min', '30 min',\n",
       "       '30 min per ep', '28 min per ep', '27 min', '4 min', '1 hr 38 min',\n",
       "       '22 min per ep', '38 min', '10 min', '1 hr 34 min', '2 min',\n",
       "       '40 min', '6 min', '31 min', '49 min', '1 hr 48 min', '52 min',\n",
       "       '1 min per ep', '26 min per ep', '10 min per ep', '45 min per ep',\n",
       "       '20 min per ep', '13 min per ep', '1 hr 18 min', '1 hr 27 min',\n",
       "       '8 min per ep', '8 min', '5 min', '2 hr 30 min', '3 min per ep',\n",
       "       '15 min per ep', '12 min per ep', '25 min', '4 min per ep',\n",
       "       '18 min', '5 min per ep', '1 hr 16 min', '3 min', '1 hr 40 min',\n",
       "       '29 min per ep', '43 min per ep', '12 min', '1 hr 45 min',\n",
       "       '1 hr 58 min', '48 min', '1 hr 59 min', '33 min', '1 hr 25 min',\n",
       "       '1 hr 20 min', '19 min per ep', '47 min', '2 hr 1 min',\n",
       "       '9 min per ep', '7 min', '30 sec', '44 min', '7 min per ep',\n",
       "       '2 hr', '30 sec per ep', '21 min per ep', '45 min', '35 min',\n",
       "       '46 min', '1 hr 10 min', '54 min', '17 min per ep', '15 min',\n",
       "       '50 min per ep', '1 hr 22 min', '1 hr', '50 min', '26 min',\n",
       "       '1 hr 3 min', '13 min', '32 min per ep', '1 min', '6 min per ep',\n",
       "       '20 min', '19 min', '21 min', '1 hr 42 min', '1 hr 36 min',\n",
       "       '49 min per ep', '1 hr 4 min', '29 min', '14 min', '1 hr 50 min',\n",
       "       '1 hr 32 min', '1 hr 24 min', '1 hr 33 min', '1 hr 30 min',\n",
       "       '11 min per ep', '1 hr 39 min', '32 sec', '32 min', '1 hr 5 min',\n",
       "       '28 min', '34 min per ep', '37 min per ep', '1 hr 11 min',\n",
       "       '43 min', '40 min per ep', '1 hr 55 min', '11 min', '2 hr 20 min',\n",
       "       '2 hr 15 min', '1 hr 11 min per ep', '59 min', '1 hr 26 min',\n",
       "       '1 hr 14 min', '37 min', '1 hr 31 min', '1 hr 15 min',\n",
       "       '1 hr 21 min', '47 min per ep', '57 min', '2 hr 16 min',\n",
       "       '46 min per ep', '36 min per ep', '52 min per ep', '27 min per ep',\n",
       "       '1 hr 29 min', '1 hr 28 min', '1 hr 43 min', '51 min',\n",
       "       '16 min per ep', '16 min', '2 hr 10 min', '1 hr 49 min',\n",
       "       '1 hr 56 min', '55 min', '22 min', '1 hr 8 min', '1 hr 13 min',\n",
       "       '9 min', '57 min per ep', '1 hr 57 min', '41 min', '22 sec per ep',\n",
       "       '17 min', '58 min', '39 min per ep', '1 hr 47 min',\n",
       "       '53 sec per ep', '2 hr 19 min', '51 min per ep', '53 min',\n",
       "       '2 hr 8 min', '1 hr 46 min', '1 hr 37 min', '1 hr 19 min',\n",
       "       '56 min', '41 min per ep', '58 min per ep', '1 hr 41 min',\n",
       "       '38 sec', '29 sec', '35 sec', '35 min per ep', '1 hr 6 min',\n",
       "       '33 sec per ep', '54 min per ep', '1 hr 23 min', '38 min per ep',\n",
       "       '1 hr 5 min per ep', '39 min', '1 hr 51 min', '2 hr 36 min',\n",
       "       '1 hr 9 min', '42 min', '1 hr 7 min', '1 hr per ep', '1 hr 44 min',\n",
       "       '55 min per ep', '40 sec per ep', '2 hr 11 min', '34 min',\n",
       "       '2 hr 6 min', '2 hr 17 min', '1 hr 52 min', '1 hr 15 min per ep',\n",
       "       '1 hr 12 min', '24 sec per ep', '31 min per ep', '1 hr 2 min',\n",
       "       '1 hr 17 min per ep', '1 hr 34 min per ep', '1 hr 17 min',\n",
       "       '31 sec per ep', '1 hr 7 min per ep', '2 hr 5 min',\n",
       "       '29 sec per ep', '33 min per ep', '53 min per ep', '1 hr 53 min',\n",
       "       '18 min per ep', '1 hr 36 min per ep', '31 sec', '41 sec',\n",
       "       '1 hr 35 min per ep', '1 hr 30 min per ep', '1 hr 54 min',\n",
       "       '42 min per ep', '48 min per ep', 'Unknown', '1 hr 1 min',\n",
       "       '2 hr 41 min', '2 hr 40 min', '15 sec', '39 sec per ep',\n",
       "       '49 sec per ep', '17 sec', '54 sec', '2 hr 21 min', '2 hr 14 min',\n",
       "       '16 sec', '2 hr 33 min', '27 sec', '42 sec', '14 sec',\n",
       "       '26 sec per ep', '1 hr 52 min per ep', '36 sec', '37 sec',\n",
       "       '15 sec per ep', '58 sec per ep', '36 min', '2 hr 32 min',\n",
       "       '2 hr 43 min', '2 hr 2 min', '45 sec', '33 sec', '34 sec per ep',\n",
       "       '32 sec per ep', '55 sec', '57 sec', '40 sec', '10 sec',\n",
       "       '37 sec per ep', '46 sec', '12 sec', '7 sec', '49 sec', '39 sec',\n",
       "       '52 sec', '51 sec per ep', '10 sec per ep', '3 sec', '25 sec',\n",
       "       '20 sec per ep', '42 sec per ep', '18 sec per ep', '2 hr 12 min',\n",
       "       '41 sec per ep', '44 sec', '56 sec per ep', '44 sec per ep',\n",
       "       '50 sec per ep', '58 sec', '51 sec', '28 sec', '21 sec', '23 sec',\n",
       "       '22 sec', '21 sec per ep', '12 sec per ep', '38 sec per ep',\n",
       "       '45 sec per ep', '50 sec', '14 sec per ep', '1 hr 9 min per ep',\n",
       "       '36 sec per ep', '25 sec per ep', '55 sec per ep', '2 hr 4 min',\n",
       "       '44 min per ep', '1 hr 2 min per ep', '2 hr 3 min', '2 hr 42 min',\n",
       "       '2 hr 7 min'], dtype=object)"
      ]
     },
     "execution_count": 17,
     "metadata": {},
     "output_type": "execute_result"
    }
   ],
   "source": [
    "df_anime_raw[\"duration\"].unique()"
   ]
  },
  {
   "cell_type": "code",
   "execution_count": 18,
   "id": "2e0726e9",
   "metadata": {},
   "outputs": [],
   "source": [
    "import re\n",
    "_duration_column_pattern = re.compile(r\"(\\d+ (sec|min|hr)( \\d+ (min|sec))?( \\d+ sec)?( per ep)?)|Unknown\")\n",
    "def check_duration_format(value):\n",
    "    return _duration_column_pattern.fullmatch(value) != None"
   ]
  },
  {
   "cell_type": "code",
   "execution_count": 19,
   "id": "2fd3fcc0",
   "metadata": {},
   "outputs": [
    {
     "data": {
      "text/plain": [
       "0"
      ]
     },
     "execution_count": 19,
     "metadata": {},
     "output_type": "execute_result"
    }
   ],
   "source": [
    "df_anime_raw[\"duration\"].map(lambda x: not check_duration_format(x)).sum()"
   ]
  },
  {
   "cell_type": "code",
   "execution_count": 20,
   "id": "e396e9f6",
   "metadata": {},
   "outputs": [
    {
     "data": {
      "text/plain": [
       "19"
      ]
     },
     "execution_count": 20,
     "metadata": {},
     "output_type": "execute_result"
    }
   ],
   "source": [
    "df_anime_raw[\"duration\"].map(lambda x: x == \"Unknown\").sum()"
   ]
  },
  {
   "cell_type": "code",
   "execution_count": 21,
   "id": "af78ea69",
   "metadata": {},
   "outputs": [
    {
     "data": {
      "text/html": [
       "<div>\n",
       "<style scoped>\n",
       "    .dataframe tbody tr th:only-of-type {\n",
       "        vertical-align: middle;\n",
       "    }\n",
       "\n",
       "    .dataframe tbody tr th {\n",
       "        vertical-align: top;\n",
       "    }\n",
       "\n",
       "    .dataframe thead th {\n",
       "        text-align: right;\n",
       "    }\n",
       "</style>\n",
       "<table border=\"1\" class=\"dataframe\">\n",
       "  <thead>\n",
       "    <tr style=\"text-align: right;\">\n",
       "      <th></th>\n",
       "      <th>mal_id</th>\n",
       "      <th>aired_from</th>\n",
       "      <th>aired_to</th>\n",
       "      <th>duration</th>\n",
       "      <th>episodes</th>\n",
       "      <th>genres</th>\n",
       "      <th>popularity</th>\n",
       "      <th>premiered</th>\n",
       "      <th>rank</th>\n",
       "      <th>rating</th>\n",
       "      <th>score</th>\n",
       "      <th>scored_by</th>\n",
       "      <th>source</th>\n",
       "      <th>status</th>\n",
       "      <th>studios</th>\n",
       "      <th>synopsis</th>\n",
       "      <th>title</th>\n",
       "      <th>title_english</th>\n",
       "      <th>type</th>\n",
       "    </tr>\n",
       "  </thead>\n",
       "  <tbody>\n",
       "    <tr>\n",
       "      <th>3441</th>\n",
       "      <td>23943</td>\n",
       "      <td>2013-08-03T00:00:00+00:00</td>\n",
       "      <td>NaN</td>\n",
       "      <td>Unknown</td>\n",
       "      <td>1</td>\n",
       "      <td>['Mecha']</td>\n",
       "      <td>8603</td>\n",
       "      <td>NaN</td>\n",
       "      <td>6361.0</td>\n",
       "      <td>PG-13 - Teens 13 or older</td>\n",
       "      <td>6.38</td>\n",
       "      <td>315</td>\n",
       "      <td>Novel</td>\n",
       "      <td>Finished Airing</td>\n",
       "      <td>[{'mal_id': 14, 'name': 'Sunrise'}]</td>\n",
       "      <td>U.C. 0095.12.03 The Neo Zeon remnants known as...</td>\n",
       "      <td>Mobile Suit Gundam Unicorn: One of Seventy Two</td>\n",
       "      <td>NaN</td>\n",
       "      <td>Special</td>\n",
       "    </tr>\n",
       "    <tr>\n",
       "      <th>5088</th>\n",
       "      <td>31244</td>\n",
       "      <td>2015-11-27T00:00:00+00:00</td>\n",
       "      <td>NaN</td>\n",
       "      <td>Unknown</td>\n",
       "      <td>1</td>\n",
       "      <td>['Slice of Life']</td>\n",
       "      <td>8199</td>\n",
       "      <td>NaN</td>\n",
       "      <td>9993.0</td>\n",
       "      <td>PG-13 - Teens 13 or older</td>\n",
       "      <td>5.16</td>\n",
       "      <td>450</td>\n",
       "      <td>Original</td>\n",
       "      <td>Finished Airing</td>\n",
       "      <td>[{'mal_id': 91, 'name': 'feel.'}]</td>\n",
       "      <td>Unaired episode bundled with the Makura no Dan...</td>\n",
       "      <td>Makura no Danshi: Sono Ato no Makura no Danshi</td>\n",
       "      <td>NaN</td>\n",
       "      <td>Special</td>\n",
       "    </tr>\n",
       "    <tr>\n",
       "      <th>6409</th>\n",
       "      <td>34649</td>\n",
       "      <td>2019-05-17T00:00:00+00:00</td>\n",
       "      <td>NaN</td>\n",
       "      <td>Unknown</td>\n",
       "      <td>3</td>\n",
       "      <td>['Action', 'Military', 'Sci-Fi', 'Drama', 'Mec...</td>\n",
       "      <td>6100</td>\n",
       "      <td>NaN</td>\n",
       "      <td>3149.0</td>\n",
       "      <td>PG-13 - Teens 13 or older</td>\n",
       "      <td>7.10</td>\n",
       "      <td>401</td>\n",
       "      <td>Original</td>\n",
       "      <td>Finished Airing</td>\n",
       "      <td>[{'mal_id': 10, 'name': 'Production I.G'}, {'m...</td>\n",
       "      <td>NaN</td>\n",
       "      <td>Soukyuu no Fafner: Dead Aggressor - The Beyond</td>\n",
       "      <td>NaN</td>\n",
       "      <td>Movie</td>\n",
       "    </tr>\n",
       "    <tr>\n",
       "      <th>6550</th>\n",
       "      <td>35018</td>\n",
       "      <td>2017-04-06T00:00:00+00:00</td>\n",
       "      <td>NaN</td>\n",
       "      <td>Unknown</td>\n",
       "      <td>1</td>\n",
       "      <td>['Comedy', 'Parody']</td>\n",
       "      <td>9910</td>\n",
       "      <td>NaN</td>\n",
       "      <td>8072.0</td>\n",
       "      <td>R - 17+ (violence &amp; profanity)</td>\n",
       "      <td>5.97</td>\n",
       "      <td>110</td>\n",
       "      <td>Manga</td>\n",
       "      <td>Finished Airing</td>\n",
       "      <td>[{'mal_id': 1, 'name': 'Studio Pierrot'}]</td>\n",
       "      <td>An all-new anime short episode included in a s...</td>\n",
       "      <td>Osomatsu-san: Haru no Zenkoku Dai Senbatsu Jou...</td>\n",
       "      <td>NaN</td>\n",
       "      <td>Movie</td>\n",
       "    </tr>\n",
       "    <tr>\n",
       "      <th>6629</th>\n",
       "      <td>35267</td>\n",
       "      <td>2017-06-21T00:00:00+00:00</td>\n",
       "      <td>2017-08-18T00:00:00+00:00</td>\n",
       "      <td>Unknown</td>\n",
       "      <td>3</td>\n",
       "      <td>['Action', 'Fantasy', 'Shounen', 'Super Power']</td>\n",
       "      <td>4346</td>\n",
       "      <td>NaN</td>\n",
       "      <td>3398.0</td>\n",
       "      <td>PG-13 - Teens 13 or older</td>\n",
       "      <td>7.05</td>\n",
       "      <td>1515</td>\n",
       "      <td>Manga</td>\n",
       "      <td>Finished Airing</td>\n",
       "      <td>[]</td>\n",
       "      <td>Virtual reality movies included with the Blu-r...</td>\n",
       "      <td>Shingeki no Kyojin-ten 360° Taikan Theater</td>\n",
       "      <td>NaN</td>\n",
       "      <td>Special</td>\n",
       "    </tr>\n",
       "  </tbody>\n",
       "</table>\n",
       "</div>"
      ],
      "text/plain": [
       "      mal_id                 aired_from                   aired_to duration  \\\n",
       "3441   23943  2013-08-03T00:00:00+00:00                        NaN  Unknown   \n",
       "5088   31244  2015-11-27T00:00:00+00:00                        NaN  Unknown   \n",
       "6409   34649  2019-05-17T00:00:00+00:00                        NaN  Unknown   \n",
       "6550   35018  2017-04-06T00:00:00+00:00                        NaN  Unknown   \n",
       "6629   35267  2017-06-21T00:00:00+00:00  2017-08-18T00:00:00+00:00  Unknown   \n",
       "\n",
       "      episodes                                             genres  popularity  \\\n",
       "3441         1                                          ['Mecha']        8603   \n",
       "5088         1                                  ['Slice of Life']        8199   \n",
       "6409         3  ['Action', 'Military', 'Sci-Fi', 'Drama', 'Mec...        6100   \n",
       "6550         1                               ['Comedy', 'Parody']        9910   \n",
       "6629         3    ['Action', 'Fantasy', 'Shounen', 'Super Power']        4346   \n",
       "\n",
       "     premiered    rank                          rating  score  scored_by  \\\n",
       "3441       NaN  6361.0       PG-13 - Teens 13 or older   6.38        315   \n",
       "5088       NaN  9993.0       PG-13 - Teens 13 or older   5.16        450   \n",
       "6409       NaN  3149.0       PG-13 - Teens 13 or older   7.10        401   \n",
       "6550       NaN  8072.0  R - 17+ (violence & profanity)   5.97        110   \n",
       "6629       NaN  3398.0       PG-13 - Teens 13 or older   7.05       1515   \n",
       "\n",
       "        source           status  \\\n",
       "3441     Novel  Finished Airing   \n",
       "5088  Original  Finished Airing   \n",
       "6409  Original  Finished Airing   \n",
       "6550     Manga  Finished Airing   \n",
       "6629     Manga  Finished Airing   \n",
       "\n",
       "                                                studios  \\\n",
       "3441                [{'mal_id': 14, 'name': 'Sunrise'}]   \n",
       "5088                  [{'mal_id': 91, 'name': 'feel.'}]   \n",
       "6409  [{'mal_id': 10, 'name': 'Production I.G'}, {'m...   \n",
       "6550          [{'mal_id': 1, 'name': 'Studio Pierrot'}]   \n",
       "6629                                                 []   \n",
       "\n",
       "                                               synopsis  \\\n",
       "3441  U.C. 0095.12.03 The Neo Zeon remnants known as...   \n",
       "5088  Unaired episode bundled with the Makura no Dan...   \n",
       "6409                                                NaN   \n",
       "6550  An all-new anime short episode included in a s...   \n",
       "6629  Virtual reality movies included with the Blu-r...   \n",
       "\n",
       "                                                  title title_english     type  \n",
       "3441     Mobile Suit Gundam Unicorn: One of Seventy Two           NaN  Special  \n",
       "5088     Makura no Danshi: Sono Ato no Makura no Danshi           NaN  Special  \n",
       "6409     Soukyuu no Fafner: Dead Aggressor - The Beyond           NaN    Movie  \n",
       "6550  Osomatsu-san: Haru no Zenkoku Dai Senbatsu Jou...           NaN    Movie  \n",
       "6629         Shingeki no Kyojin-ten 360° Taikan Theater           NaN  Special  "
      ]
     },
     "execution_count": 21,
     "metadata": {},
     "output_type": "execute_result"
    }
   ],
   "source": [
    "df_anime_raw[df_anime_raw.duration == \"Unknown\"].head()"
   ]
  },
  {
   "cell_type": "code",
   "execution_count": 22,
   "id": "5bf6e24e",
   "metadata": {},
   "outputs": [],
   "source": [
    "df_anime_raw.drop(df_anime_raw[df_anime_raw.duration == \"Unknown\"].index, inplace=True)\n",
    "df_anime_raw.rename(columns={\n",
    "    \"duration\": \"duration_str\"\n",
    "}, inplace=True)"
   ]
  },
  {
   "cell_type": "code",
   "execution_count": 23,
   "id": "775746b3",
   "metadata": {},
   "outputs": [
    {
     "name": "stdout",
     "output_type": "stream",
     "text": [
      "<class 'pandas.core.frame.DataFrame'>\n",
      "Int64Index: 11316 entries, 0 to 11334\n",
      "Data columns (total 19 columns):\n",
      " #   Column         Non-Null Count  Dtype   \n",
      "---  ------         --------------  -----   \n",
      " 0   mal_id         11316 non-null  int64   \n",
      " 1   aired_from     11311 non-null  object  \n",
      " 2   aired_to       5962 non-null   object  \n",
      " 3   duration_str   11316 non-null  object  \n",
      " 4   episodes       11316 non-null  int64   \n",
      " 5   genres         11316 non-null  object  \n",
      " 6   popularity     11316 non-null  int64   \n",
      " 7   premiered      3455 non-null   object  \n",
      " 8   rank           10034 non-null  float64 \n",
      " 9   rating         11316 non-null  category\n",
      " 10  score          11316 non-null  float64 \n",
      " 11  scored_by      11316 non-null  int64   \n",
      " 12  source         11316 non-null  category\n",
      " 13  status         11316 non-null  object  \n",
      " 14  studios        11316 non-null  object  \n",
      " 15  synopsis       11083 non-null  object  \n",
      " 16  title          11316 non-null  object  \n",
      " 17  title_english  5391 non-null   object  \n",
      " 18  type           11316 non-null  object  \n",
      "dtypes: category(2), float64(2), int64(4), object(11)\n",
      "memory usage: 1.6+ MB\n"
     ]
    }
   ],
   "source": [
    "df_anime_raw.info()"
   ]
  },
  {
   "cell_type": "code",
   "execution_count": 24,
   "id": "d4009259",
   "metadata": {},
   "outputs": [],
   "source": [
    "def calc_duration_seconds(duration_string: str):\n",
    "    end = False\n",
    "    seconds = 0\n",
    "    while not end:\n",
    "        end = True\n",
    "        hr_i = duration_string.find(\"hr\")\n",
    "        if hr_i > -1:\n",
    "            seconds += int(duration_string[:hr_i - 1]) * 60 * 60\n",
    "            duration_string = duration_string[hr_i + 2:].strip()\n",
    "            end = False\n",
    "\n",
    "        min_i = duration_string.find(\"min\")\n",
    "        if min_i > -1:\n",
    "            seconds += int(duration_string[:min_i - 1]) * 60\n",
    "            duration_string = duration_string[min_i + 3:].strip()\n",
    "            end = False\n",
    "\n",
    "        sec_i = duration_string.find(\"sec\")\n",
    "        if sec_i > -1:\n",
    "            seconds += int(duration_string[:sec_i - 1])\n",
    "            duration_string = duration_string[sec_i + 3:].strip()\n",
    "            end = False\n",
    "    return seconds"
   ]
  },
  {
   "cell_type": "code",
   "execution_count": 25,
   "id": "92239bf7",
   "metadata": {},
   "outputs": [],
   "source": [
    "df_anime_raw[\"duration_seconds\"] = df_anime_raw[\"duration_str\"].map(calc_duration_seconds)"
   ]
  },
  {
   "cell_type": "code",
   "execution_count": 26,
   "id": "dc0e2b96",
   "metadata": {},
   "outputs": [
    {
     "data": {
      "text/plain": [
       "0"
      ]
     },
     "execution_count": 26,
     "metadata": {},
     "output_type": "execute_result"
    }
   ],
   "source": [
    "df_anime_raw[\"episodes\"].map(lambda x : x <= 0).sum()"
   ]
  },
  {
   "cell_type": "code",
   "execution_count": 27,
   "id": "9fd244a7",
   "metadata": {},
   "outputs": [
    {
     "data": {
      "text/plain": [
       "array(['TV', 'OVA', 'Movie', 'Special', 'ONA', 'Music'], dtype=object)"
      ]
     },
     "execution_count": 27,
     "metadata": {},
     "output_type": "execute_result"
    }
   ],
   "source": [
    "df_anime_raw[\"type\"].unique()"
   ]
  },
  {
   "cell_type": "code",
   "execution_count": 28,
   "id": "09c1ff70",
   "metadata": {},
   "outputs": [
    {
     "data": {
      "text/plain": [
       "0             TV\n",
       "1             TV\n",
       "2             TV\n",
       "3            OVA\n",
       "4          Movie\n",
       "          ...   \n",
       "11330        OVA\n",
       "11331      Movie\n",
       "11332    Special\n",
       "11333         TV\n",
       "11334      Movie\n",
       "Name: type, Length: 11316, dtype: category\n",
       "Categories (6, object): ['Movie', 'Music', 'ONA', 'OVA', 'Special', 'TV']"
      ]
     },
     "execution_count": 28,
     "metadata": {},
     "output_type": "execute_result"
    }
   ],
   "source": [
    "df_anime_raw[\"type\"] = df_anime_raw[\"type\"].astype('category')\n",
    "df_anime_raw[\"type\"]"
   ]
  },
  {
   "cell_type": "code",
   "execution_count": 29,
   "id": "be237a32",
   "metadata": {},
   "outputs": [
    {
     "data": {
      "text/plain": [
       "array(['Finished Airing', 'Currently Airing'], dtype=object)"
      ]
     },
     "execution_count": 29,
     "metadata": {},
     "output_type": "execute_result"
    }
   ],
   "source": [
    "df_anime_raw[\"status\"].unique()"
   ]
  },
  {
   "cell_type": "code",
   "execution_count": 30,
   "id": "341ffb36",
   "metadata": {},
   "outputs": [
    {
     "data": {
      "text/plain": [
       "0        Finished Airing\n",
       "1        Finished Airing\n",
       "2        Finished Airing\n",
       "3        Finished Airing\n",
       "4        Finished Airing\n",
       "              ...       \n",
       "11330    Finished Airing\n",
       "11331    Finished Airing\n",
       "11332    Finished Airing\n",
       "11333    Finished Airing\n",
       "11334    Finished Airing\n",
       "Name: status, Length: 11316, dtype: category\n",
       "Categories (2, object): ['Currently Airing', 'Finished Airing']"
      ]
     },
     "execution_count": 30,
     "metadata": {},
     "output_type": "execute_result"
    }
   ],
   "source": [
    "df_anime_raw[\"status\"] = df_anime_raw[\"status\"].astype('category')\n",
    "df_anime_raw[\"status\"]"
   ]
  },
  {
   "cell_type": "code",
   "execution_count": 31,
   "id": "a943cb14",
   "metadata": {},
   "outputs": [
    {
     "data": {
      "text/plain": [
       "5"
      ]
     },
     "execution_count": 31,
     "metadata": {},
     "output_type": "execute_result"
    }
   ],
   "source": [
    "df_anime_raw[\"aired_from\"].isnull().sum()"
   ]
  },
  {
   "cell_type": "code",
   "execution_count": 32,
   "id": "0b1e0f7b",
   "metadata": {},
   "outputs": [
    {
     "data": {
      "text/html": [
       "<div>\n",
       "<style scoped>\n",
       "    .dataframe tbody tr th:only-of-type {\n",
       "        vertical-align: middle;\n",
       "    }\n",
       "\n",
       "    .dataframe tbody tr th {\n",
       "        vertical-align: top;\n",
       "    }\n",
       "\n",
       "    .dataframe thead th {\n",
       "        text-align: right;\n",
       "    }\n",
       "</style>\n",
       "<table border=\"1\" class=\"dataframe\">\n",
       "  <thead>\n",
       "    <tr style=\"text-align: right;\">\n",
       "      <th></th>\n",
       "      <th>mal_id</th>\n",
       "      <th>aired_from</th>\n",
       "      <th>aired_to</th>\n",
       "      <th>duration_str</th>\n",
       "      <th>episodes</th>\n",
       "      <th>genres</th>\n",
       "      <th>popularity</th>\n",
       "      <th>premiered</th>\n",
       "      <th>rank</th>\n",
       "      <th>rating</th>\n",
       "      <th>score</th>\n",
       "      <th>scored_by</th>\n",
       "      <th>source</th>\n",
       "      <th>status</th>\n",
       "      <th>studios</th>\n",
       "      <th>synopsis</th>\n",
       "      <th>title</th>\n",
       "      <th>title_english</th>\n",
       "      <th>type</th>\n",
       "      <th>duration_seconds</th>\n",
       "    </tr>\n",
       "  </thead>\n",
       "  <tbody>\n",
       "    <tr>\n",
       "      <th>8526</th>\n",
       "      <td>40496</td>\n",
       "      <td>2020-07-04T00:00:00+00:00</td>\n",
       "      <td>2020-09-26T00:00:00+00:00</td>\n",
       "      <td>23 min per ep</td>\n",
       "      <td>13</td>\n",
       "      <td>['Action', 'Demons', 'Magic', 'Fantasy', 'Scho...</td>\n",
       "      <td>620</td>\n",
       "      <td>Summer 2020</td>\n",
       "      <td>1702.0</td>\n",
       "      <td>R - 17+ (violence &amp; profanity)</td>\n",
       "      <td>7.46</td>\n",
       "      <td>47957</td>\n",
       "      <td>Light novel</td>\n",
       "      <td>Currently Airing</td>\n",
       "      <td>[{'mal_id': 300, 'name': 'Silver Link.'}]</td>\n",
       "      <td>After 2000 years have passed, the ruthless dem...</td>\n",
       "      <td>Maou Gakuin no Futekigousha: Shijou Saikyou no...</td>\n",
       "      <td>The Misfit of Demon King Academy</td>\n",
       "      <td>TV</td>\n",
       "      <td>1380</td>\n",
       "    </tr>\n",
       "  </tbody>\n",
       "</table>\n",
       "</div>"
      ],
      "text/plain": [
       "      mal_id                 aired_from                   aired_to  \\\n",
       "8526   40496  2020-07-04T00:00:00+00:00  2020-09-26T00:00:00+00:00   \n",
       "\n",
       "       duration_str  episodes  \\\n",
       "8526  23 min per ep        13   \n",
       "\n",
       "                                                 genres  popularity  \\\n",
       "8526  ['Action', 'Demons', 'Magic', 'Fantasy', 'Scho...         620   \n",
       "\n",
       "        premiered    rank                          rating  score  scored_by  \\\n",
       "8526  Summer 2020  1702.0  R - 17+ (violence & profanity)   7.46      47957   \n",
       "\n",
       "           source            status  \\\n",
       "8526  Light novel  Currently Airing   \n",
       "\n",
       "                                        studios  \\\n",
       "8526  [{'mal_id': 300, 'name': 'Silver Link.'}]   \n",
       "\n",
       "                                               synopsis  \\\n",
       "8526  After 2000 years have passed, the ruthless dem...   \n",
       "\n",
       "                                                  title  \\\n",
       "8526  Maou Gakuin no Futekigousha: Shijou Saikyou no...   \n",
       "\n",
       "                         title_english type  duration_seconds  \n",
       "8526  The Misfit of Demon King Academy   TV              1380  "
      ]
     },
     "execution_count": 32,
     "metadata": {},
     "output_type": "execute_result"
    }
   ],
   "source": [
    "df_anime_raw[df_anime_raw[\"status\"] == \"Currently Airing\"]"
   ]
  },
  {
   "cell_type": "code",
   "execution_count": 33,
   "id": "252154a1",
   "metadata": {},
   "outputs": [
    {
     "name": "stdout",
     "output_type": "stream",
     "text": [
      "<class 'pandas.core.frame.DataFrame'>\n",
      "Int64Index: 11316 entries, 0 to 11334\n",
      "Data columns (total 20 columns):\n",
      " #   Column            Non-Null Count  Dtype   \n",
      "---  ------            --------------  -----   \n",
      " 0   mal_id            11316 non-null  int64   \n",
      " 1   aired_from        11311 non-null  object  \n",
      " 2   aired_to          5962 non-null   object  \n",
      " 3   duration_str      11316 non-null  object  \n",
      " 4   episodes          11316 non-null  int64   \n",
      " 5   genres            11316 non-null  object  \n",
      " 6   popularity        11316 non-null  int64   \n",
      " 7   premiered         3455 non-null   object  \n",
      " 8   rank              10034 non-null  float64 \n",
      " 9   rating            11316 non-null  category\n",
      " 10  score             11316 non-null  float64 \n",
      " 11  scored_by         11316 non-null  int64   \n",
      " 12  source            11316 non-null  category\n",
      " 13  status            11316 non-null  category\n",
      " 14  studios           11316 non-null  object  \n",
      " 15  synopsis          11083 non-null  object  \n",
      " 16  title             11316 non-null  object  \n",
      " 17  title_english     5391 non-null   object  \n",
      " 18  type              11316 non-null  category\n",
      " 19  duration_seconds  11316 non-null  int64   \n",
      "dtypes: category(4), float64(2), int64(5), object(9)\n",
      "memory usage: 1.5+ MB\n"
     ]
    }
   ],
   "source": [
    "df_anime_raw.info()"
   ]
  },
  {
   "cell_type": "markdown",
   "id": "83e1140c",
   "metadata": {},
   "source": [
    "### Новая колонка"
   ]
  },
  {
   "cell_type": "code",
   "execution_count": 34,
   "id": "0107a3e1",
   "metadata": {},
   "outputs": [
    {
     "data": {
      "text/plain": [
       "0        37440\n",
       "1        17940\n",
       "2        63000\n",
       "3         1800\n",
       "4         5700\n",
       "         ...  \n",
       "11330     5040\n",
       "11331     3300\n",
       "11332     5400\n",
       "11333    58500\n",
       "11334     1800\n",
       "Name: total_duration_seconds, Length: 11316, dtype: int64"
      ]
     },
     "execution_count": 34,
     "metadata": {},
     "output_type": "execute_result"
    }
   ],
   "source": [
    "df_anime_raw[\"total_duration_seconds\"] = df_anime_raw.apply(lambda row: row[\"duration_seconds\"] * row[\"episodes\"], axis=1)\n",
    "df_anime_raw[\"total_duration_seconds\"]"
   ]
  },
  {
   "cell_type": "code",
   "execution_count": 35,
   "id": "4da01ffc",
   "metadata": {},
   "outputs": [],
   "source": [
    "df_anime = df_anime_raw\n",
    "df_anime.to_csv(\"data/anime_prepared.csv\")"
   ]
  },
  {
   "cell_type": "markdown",
   "id": "907dc4f3",
   "metadata": {},
   "source": [
    "# Графики"
   ]
  },
  {
   "cell_type": "code",
   "execution_count": 36,
   "id": "ecc8189d",
   "metadata": {},
   "outputs": [],
   "source": [
    "plt.rcParams['figure.figsize'] = (12, 7)"
   ]
  },
  {
   "cell_type": "code",
   "execution_count": 37,
   "id": "fa78ec76",
   "metadata": {},
   "outputs": [
    {
     "data": {
      "image/png": "[encoded data removed]",
      "text/plain": [
       "<Figure size 864x504 with 1 Axes>"
      ]
     },
     "metadata": {
      "needs_background": "light"
     },
     "output_type": "display_data"
    }
   ],
   "source": [
    "import math\n",
    "\n",
    "df_anime_by_popularity = df_anime.sort_values(by=\"popularity\")\n",
    "plt.plot(\n",
    "    df_anime_by_popularity[\"popularity\"],\n",
    "    np.log(df_anime_by_popularity[\"scored_by\"])\n",
    ")\n",
    "plt.show()"
   ]
  },
  {
   "cell_type": "code",
   "execution_count": 38,
   "id": "d6727813",
   "metadata": {},
   "outputs": [
    {
     "data": {
      "image/png": "[encoded data removed]",
      "text/plain": [
       "<Figure size 864x504 with 1 Axes>"
      ]
     },
     "metadata": {
      "needs_background": "light"
     },
     "output_type": "display_data"
    }
   ],
   "source": [
    "plt.hist(\n",
    "    df_anime[\"score\"]\n",
    ")\n",
    "plt.title(\"Animes count by score\")\n",
    "plt.xlabel(\"score\")\n",
    "plt.ylabel(\"animes\")\n",
    "plt.show()"
   ]
  },
  {
   "cell_type": "code",
   "execution_count": 39,
   "id": "5ea5dd27",
   "metadata": {},
   "outputs": [
    {
     "data": {
      "image/png": "[encoded data removed]",
      "text/plain": [
       "<Figure size 864x504 with 1 Axes>"
      ]
     },
     "metadata": {
      "needs_background": "light"
     },
     "output_type": "display_data"
    }
   ],
   "source": [
    "plt.hist2d(df_anime[\"score\"], df_anime[\"popularity\"], bins=20)\n",
    "plt.show()"
   ]
  },
  {
   "cell_type": "code",
   "execution_count": 40,
   "id": "27445531",
   "metadata": {},
   "outputs": [
    {
     "data": {
      "image/png": "[encoded data removed]",
      "text/plain": [
       "<Figure size 864x504 with 1 Axes>"
      ]
     },
     "metadata": {
      "needs_background": "light"
     },
     "output_type": "display_data"
    }
   ],
   "source": [
    "plt.scatter(\n",
    "    df_users[\"episodes_watched\"], df_users[\"mean_score\"]\n",
    ")\n",
    "plt.show()"
   ]
  },
  {
   "cell_type": "code",
   "execution_count": 41,
   "id": "4c1d9648",
   "metadata": {},
   "outputs": [
    {
     "data": {
      "image/png": "[encoded data removed]",
      "text/plain": [
       "<Figure size 864x504 with 1 Axes>"
      ]
     },
     "metadata": {
      "needs_background": "light"
     },
     "output_type": "display_data"
    }
   ],
   "source": [
    "df_users_episodes_watched_75_quantile = df_users[(df_users[\"episodes_watched\"] < df_users[\"episodes_watched\"].quantile(0.75))\n",
    "                                                 & (df_users[\"mean_score\"] > 0.0)]\n",
    "plt.scatter(\n",
    "    df_users_episodes_watched_75_quantile[\"episodes_watched\"], df_users_episodes_watched_75_quantile[\"mean_score\"]\n",
    ")\n",
    "plt.show()"
   ]
  },
  {
   "cell_type": "code",
   "execution_count": 42,
   "id": "7265589b",
   "metadata": {},
   "outputs": [
    {
     "data": {
      "image/png": "[encoded data removed]",
      "text/plain": [
       "<Figure size 864x504 with 1 Axes>"
      ]
     },
     "metadata": {
      "needs_background": "light"
     },
     "output_type": "display_data"
    }
   ],
   "source": [
    "plt.boxplot((df_users[\"completed\"],\n",
    "             df_users[\"dropped\"],\n",
    "             df_users[\"on_hold\"],\n",
    "             df_users[\"watching\"],\n",
    "             df_users[\"rewatched\"],\n",
    "             df_users[\"plan_to_watch\"],\n",
    "             df_users[\"total_entries\"]))\n",
    "plt.show()"
   ]
  },
  {
   "cell_type": "code",
   "execution_count": 43,
   "id": "52bd53b7",
   "metadata": {},
   "outputs": [
    {
     "data": {
      "image/png": "[encoded data removed]",
      "text/plain": [
       "<Figure size 864x504 with 1 Axes>"
      ]
     },
     "metadata": {
      "needs_background": "light"
     },
     "output_type": "display_data"
    }
   ],
   "source": [
    "plt.boxplot((df_users[\"completed\"],\n",
    "             df_users[\"total_entries\"]), showfliers=False, labels=[\"completed\", \"total_entries\"])\n",
    "plt.show()"
   ]
  }
 ],
 "metadata": {
  "kernelspec": {
   "display_name": "Python 3 (ipykernel)",
   "language": "python",
   "name": "python3"
  },
  "language_info": {
   "codemirror_mode": {
    "name": "ipython",
    "version": 3
   },
   "file_extension": ".py",
   "mimetype": "text/x-python",
   "name": "python",
   "nbconvert_exporter": "python",
   "pygments_lexer": "ipython3",
   "version": "3.9.10"
  }
 },
 "nbformat": 4,
 "nbformat_minor": 5
}
