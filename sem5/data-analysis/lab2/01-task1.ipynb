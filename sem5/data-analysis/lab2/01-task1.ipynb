{
 "cells": [
  {
   "cell_type": "code",
   "execution_count": 33,
   "id": "0a4fb65c-a498-42bc-8894-d7de47ca1550",
   "metadata": {},
   "outputs": [
    {
     "name": "stdout",
     "output_type": "stream",
     "text": [
      "C:\\Programing\\sem5\\da\\lab2\n"
     ]
    }
   ],
   "source": [
    "!cd"
   ]
  },
  {
   "cell_type": "code",
   "execution_count": 34,
   "id": "49796851-cde7-474c-951c-52b03ae4aa3f",
   "metadata": {},
   "outputs": [
    {
     "name": "stdout",
     "output_type": "stream",
     "text": [
      "from setuptools import setup\n",
      "\n",
      "setup(\n",
      "    name='nazarov-da-lab2-task1-part1',\n",
      "    version='0.1.3',\n",
      "    description='Lagrange interpolation',\n",
      "    url='https://github.com/geranazavr555',\n",
      "    author='Georgiy Nazarov',\n",
      "    author_email='geranazavr555@yandex.ru',\n",
      "    license='BSD 2-clause',\n",
      "    packages=['interpolation'],\n",
      "    install_requires=['numpy==1.21.3',\n",
      "                      ],\n",
      "\n",
      "    classifiers=[\n",
      "        'Development Status :: 1 - Planning',\n",
      "        'Intended Audience :: Science/Research',\n",
      "        'Programming Language :: Python :: 3.9',\n",
      "    ],\n",
      ")\n"
     ]
    }
   ],
   "source": [
    "!type task1\\nazarov-lagrange\\setup.py"
   ]
  },
  {
   "cell_type": "code",
   "execution_count": 35,
   "id": "7050ef40-47d0-4ccb-8abd-8370b2505c3d",
   "metadata": {},
   "outputs": [
    {
     "name": "stdout",
     "output_type": "stream",
     "text": [
      "running check\n"
     ]
    }
   ],
   "source": [
    "!cd task1\\nazarov-lagrange && python setup.py check"
   ]
  },
  {
   "cell_type": "code",
   "execution_count": 36,
   "id": "f5c4f37f-000f-447c-9ded-24ba2ff4dac7",
   "metadata": {},
   "outputs": [
    {
     "name": "stdout",
     "output_type": "stream",
     "text": [
      "running sdist\n",
      "running egg_info\n",
      "writing nazarov_da_lab2_task1_part1.egg-info\\PKG-INFO\n",
      "writing dependency_links to nazarov_da_lab2_task1_part1.egg-info\\dependency_links.txt\n",
      "writing requirements to nazarov_da_lab2_task1_part1.egg-info\\requires.txt\n",
      "writing top-level names to nazarov_da_lab2_task1_part1.egg-info\\top_level.txt\n",
      "reading manifest file 'nazarov_da_lab2_task1_part1.egg-info\\SOURCES.txt'\n",
      "writing manifest file 'nazarov_da_lab2_task1_part1.egg-info\\SOURCES.txt'\n",
      "running check\n",
      "creating nazarov-da-lab2-task1-part1-0.1.3\n",
      "creating nazarov-da-lab2-task1-part1-0.1.3\\interpolation\n",
      "creating nazarov-da-lab2-task1-part1-0.1.3\\nazarov_da_lab2_task1_part1.egg-info\n",
      "copying files to nazarov-da-lab2-task1-part1-0.1.3...\n",
      "copying setup.py -> nazarov-da-lab2-task1-part1-0.1.3\n",
      "copying interpolation\\__init__.py -> nazarov-da-lab2-task1-part1-0.1.3\\interpolation\n",
      "copying interpolation\\interpolation.py -> nazarov-da-lab2-task1-part1-0.1.3\\interpolation\n",
      "copying nazarov_da_lab2_task1_part1.egg-info\\PKG-INFO -> nazarov-da-lab2-task1-part1-0.1.3\\nazarov_da_lab2_task1_part1.egg-info\n",
      "copying nazarov_da_lab2_task1_part1.egg-info\\SOURCES.txt -> nazarov-da-lab2-task1-part1-0.1.3\\nazarov_da_lab2_task1_part1.egg-info\n",
      "copying nazarov_da_lab2_task1_part1.egg-info\\dependency_links.txt -> nazarov-da-lab2-task1-part1-0.1.3\\nazarov_da_lab2_task1_part1.egg-info\n",
      "copying nazarov_da_lab2_task1_part1.egg-info\\requires.txt -> nazarov-da-lab2-task1-part1-0.1.3\\nazarov_da_lab2_task1_part1.egg-info\n",
      "copying nazarov_da_lab2_task1_part1.egg-info\\top_level.txt -> nazarov-da-lab2-task1-part1-0.1.3\\nazarov_da_lab2_task1_part1.egg-info\n",
      "Writing nazarov-da-lab2-task1-part1-0.1.3\\setup.cfg\n",
      "Creating tar archive\n",
      "removing 'nazarov-da-lab2-task1-part1-0.1.3' (and everything under it)\n"
     ]
    },
    {
     "name": "stderr",
     "output_type": "stream",
     "text": [
      "warning: sdist: standard file not found: should have one of README, README.rst, README.txt, README.md\n",
      "\n"
     ]
    }
   ],
   "source": [
    "!cd task1\\nazarov-lagrange && python setup.py sdist"
   ]
  },
  {
   "cell_type": "code",
   "execution_count": 37,
   "id": "860f0e1b-d8ef-4b03-ac4b-5c61e52ea9af",
   "metadata": {},
   "outputs": [
    {
     "name": "stdout",
     "output_type": "stream",
     "text": [
      "Uploading distributions to https://test.pypi.org/legacy/\n",
      "Uploading nazarov-da-lab2-task1-part1-0.1.3.tar.gz\n",
      "\n",
      "  0%|          | 0.00/4.56k [00:00<?, ?B/s]\n",
      "100%|##########| 4.56k/4.56k [00:00<00:00, 28.3kB/s]\n",
      "100%|##########| 4.56k/4.56k [00:02<00:00, 2.13kB/s]\n",
      "\n",
      "View at:\n",
      "https://test.pypi.org/project/nazarov-da-lab2-task1-part1/0.1.3/\n"
     ]
    }
   ],
   "source": [
    "!cd task1\\nazarov-lagrange && twine upload --repository-url https://test.pypi.org/legacy/ dist/*"
   ]
  },
  {
   "cell_type": "code",
   "execution_count": 38,
   "id": "ad8d776d-e725-4123-ab70-3ced6fe5058a",
   "metadata": {},
   "outputs": [
    {
     "name": "stdout",
     "output_type": "stream",
     "text": [
      "Uploading distributions to https://upload.pypi.org/legacy/\n",
      "Uploading nazarov-da-lab2-task1-part1-0.1.3.tar.gz\n",
      "\n",
      "  0%|          | 0.00/4.56k [00:00<?, ?B/s]\n",
      "100%|##########| 4.56k/4.56k [00:00<00:00, 9.41kB/s]\n",
      "100%|##########| 4.56k/4.56k [00:02<00:00, 2.07kB/s]\n",
      "\n",
      "View at:\n",
      "https://pypi.org/project/nazarov-da-lab2-task1-part1/0.1.3/\n"
     ]
    }
   ],
   "source": [
    "!cd task1\\nazarov-lagrange && twine upload dist/*"
   ]
  },
  {
   "cell_type": "code",
   "execution_count": 40,
   "id": "c9c065bc-5098-47c4-9045-bc01e5eff394",
   "metadata": {},
   "outputs": [
    {
     "name": "stdout",
     "output_type": "stream",
     "text": [
      "Collecting nazarov-da-lab2-task1-part1==0.1.3\n",
      "  Downloading nazarov-da-lab2-task1-part1-0.1.3.tar.gz (1.5 kB)\n",
      "  Preparing metadata (setup.py): started\n",
      "  Preparing metadata (setup.py): finished with status 'done'\n",
      "Requirement already satisfied: numpy==1.21.3 in c:\\program files\\python39\\lib\\site-packages (from nazarov-da-lab2-task1-part1==0.1.3) (1.21.3)\n",
      "Using legacy 'setup.py install' for nazarov-da-lab2-task1-part1, since package 'wheel' is not installed.\n",
      "Installing collected packages: nazarov-da-lab2-task1-part1\n",
      "  Attempting uninstall: nazarov-da-lab2-task1-part1\n",
      "    Found existing installation: nazarov-da-lab2-task1-part1 0.1.2\n",
      "    Uninstalling nazarov-da-lab2-task1-part1-0.1.2:\n",
      "      Successfully uninstalled nazarov-da-lab2-task1-part1-0.1.2\n",
      "    Running setup.py install for nazarov-da-lab2-task1-part1: started\n",
      "    Running setup.py install for nazarov-da-lab2-task1-part1: finished with status 'done'\n",
      "Successfully installed nazarov-da-lab2-task1-part1-0.1.3\n"
     ]
    }
   ],
   "source": [
    "!pip install nazarov-da-lab2-task1-part1==0.1.3"
   ]
  },
  {
   "cell_type": "code",
   "execution_count": 41,
   "id": "b1dba825-7554-4dda-a34a-1e026ee048ab",
   "metadata": {},
   "outputs": [
    {
     "name": "stdout",
     "output_type": "stream",
     "text": [
      "from setuptools import setup\n",
      "\n",
      "setup(\n",
      "    name='nazarov-da-lab2-task1-part2',\n",
      "    version='0.1.2',\n",
      "    description='Lagrange interpolation',\n",
      "    url='https://github.com/geranazavr555',\n",
      "    author='Georgiy Nazarov',\n",
      "    author_email='geranazavr555@yandex.ru',\n",
      "    license='BSD 2-clause',\n",
      "    packages=['interpolation'],\n",
      "    install_requires=['numpy==1.21.0',\n",
      "                      ],\n",
      "\n",
      "    classifiers=[\n",
      "        'Development Status :: 1 - Planning',\n",
      "        'Intended Audience :: Science/Research',\n",
      "        'Programming Language :: Python :: 3.9',\n",
      "    ],\n",
      ")\n"
     ]
    }
   ],
   "source": [
    "!type task1\\nazarov-lagrange-2\\setup.py"
   ]
  },
  {
   "cell_type": "code",
   "execution_count": 42,
   "id": "0ea80950-0b54-44b9-a7db-b79f8dd760c7",
   "metadata": {},
   "outputs": [
    {
     "name": "stdout",
     "output_type": "stream",
     "text": [
      "running check\n"
     ]
    }
   ],
   "source": [
    "!cd task1\\nazarov-lagrange-2 && python setup.py check"
   ]
  },
  {
   "cell_type": "code",
   "execution_count": 43,
   "id": "86a930ae-0943-46e3-8ce9-cf6d18267341",
   "metadata": {},
   "outputs": [
    {
     "name": "stdout",
     "output_type": "stream",
     "text": [
      "running sdist\n",
      "running egg_info\n",
      "creating nazarov_da_lab2_task1_part2.egg-info\n",
      "writing nazarov_da_lab2_task1_part2.egg-info\\PKG-INFO\n",
      "writing dependency_links to nazarov_da_lab2_task1_part2.egg-info\\dependency_links.txt\n",
      "writing requirements to nazarov_da_lab2_task1_part2.egg-info\\requires.txt\n",
      "writing top-level names to nazarov_da_lab2_task1_part2.egg-info\\top_level.txt\n",
      "writing manifest file 'nazarov_da_lab2_task1_part2.egg-info\\SOURCES.txt'\n",
      "reading manifest file 'nazarov_da_lab2_task1_part2.egg-info\\SOURCES.txt'\n",
      "writing manifest file 'nazarov_da_lab2_task1_part2.egg-info\\SOURCES.txt'\n",
      "running check\n",
      "creating nazarov-da-lab2-task1-part2-0.1.2\n",
      "creating nazarov-da-lab2-task1-part2-0.1.2\\interpolation\n",
      "creating nazarov-da-lab2-task1-part2-0.1.2\\nazarov_da_lab2_task1_part2.egg-info\n",
      "copying files to nazarov-da-lab2-task1-part2-0.1.2...\n",
      "copying setup.py -> nazarov-da-lab2-task1-part2-0.1.2\n",
      "copying interpolation\\__init__.py -> nazarov-da-lab2-task1-part2-0.1.2\\interpolation\n",
      "copying interpolation\\interpolation.py -> nazarov-da-lab2-task1-part2-0.1.2\\interpolation\n",
      "copying nazarov_da_lab2_task1_part2.egg-info\\PKG-INFO -> nazarov-da-lab2-task1-part2-0.1.2\\nazarov_da_lab2_task1_part2.egg-info\n",
      "copying nazarov_da_lab2_task1_part2.egg-info\\SOURCES.txt -> nazarov-da-lab2-task1-part2-0.1.2\\nazarov_da_lab2_task1_part2.egg-info\n",
      "copying nazarov_da_lab2_task1_part2.egg-info\\dependency_links.txt -> nazarov-da-lab2-task1-part2-0.1.2\\nazarov_da_lab2_task1_part2.egg-info\n",
      "copying nazarov_da_lab2_task1_part2.egg-info\\requires.txt -> nazarov-da-lab2-task1-part2-0.1.2\\nazarov_da_lab2_task1_part2.egg-info\n",
      "copying nazarov_da_lab2_task1_part2.egg-info\\top_level.txt -> nazarov-da-lab2-task1-part2-0.1.2\\nazarov_da_lab2_task1_part2.egg-info\n",
      "Writing nazarov-da-lab2-task1-part2-0.1.2\\setup.cfg\n",
      "creating dist\n",
      "Creating tar archive\n",
      "removing 'nazarov-da-lab2-task1-part2-0.1.2' (and everything under it)\n"
     ]
    },
    {
     "name": "stderr",
     "output_type": "stream",
     "text": [
      "warning: sdist: standard file not found: should have one of README, README.rst, README.txt, README.md\n",
      "\n"
     ]
    }
   ],
   "source": [
    "!cd task1\\nazarov-lagrange-2 && python setup.py sdist"
   ]
  },
  {
   "cell_type": "code",
   "execution_count": 44,
   "id": "6fa8eded-44ee-45f5-a771-e9cf9ad5396b",
   "metadata": {},
   "outputs": [
    {
     "name": "stdout",
     "output_type": "stream",
     "text": [
      "Uploading distributions to https://test.pypi.org/legacy/\n",
      "Uploading nazarov-da-lab2-task1-part2-0.1.2.tar.gz\n",
      "\n",
      "  0%|          | 0.00/4.56k [00:00<?, ?B/s]\n",
      "100%|##########| 4.56k/4.56k [00:00<00:00, 27.3kB/s]\n",
      "100%|##########| 4.56k/4.56k [00:01<00:00, 2.59kB/s]\n",
      "\n",
      "View at:\n",
      "https://test.pypi.org/project/nazarov-da-lab2-task1-part2/0.1.2/\n"
     ]
    }
   ],
   "source": [
    "!cd task1\\nazarov-lagrange-2 && twine upload --repository-url https://test.pypi.org/legacy/ dist/*"
   ]
  },
  {
   "cell_type": "code",
   "execution_count": 48,
   "id": "5c5ba54f-64b0-44d7-be06-2f7342d74f8c",
   "metadata": {},
   "outputs": [
    {
     "name": "stdout",
     "output_type": "stream",
     "text": [
      "Uploading distributions to https://upload.pypi.org/legacy/\n",
      "Uploading nazarov-da-lab2-task1-part2-0.1.2.tar.gz\n",
      "\n",
      "  0%|          | 0.00/4.56k [00:00<?, ?B/s]\n",
      "100%|##########| 4.56k/4.56k [00:00<00:00, 10.6kB/s]\n",
      "100%|##########| 4.56k/4.56k [00:03<00:00, 1.50kB/s]\n",
      "\n",
      "View at:\n",
      "https://pypi.org/project/nazarov-da-lab2-task1-part2/0.1.2/\n"
     ]
    }
   ],
   "source": [
    "!cd task1\\nazarov-lagrange-2 && twine upload dist/*"
   ]
  },
  {
   "cell_type": "code",
   "execution_count": 46,
   "id": "beec50bd-d903-4657-9ef0-9e68b96eefbc",
   "metadata": {},
   "outputs": [],
   "source": [
    "!python -m venv venv1"
   ]
  },
  {
   "cell_type": "code",
   "execution_count": 47,
   "id": "41b4cafb-e2bd-4971-bd6e-900228f8a207",
   "metadata": {},
   "outputs": [
    {
     "name": "stdout",
     "output_type": "stream",
     "text": [
      "Collecting nazarov-da-lab2-task1-part1==0.1.3\n",
      "  Using cached nazarov-da-lab2-task1-part1-0.1.3.tar.gz (1.5 kB)\n",
      "Collecting numpy==1.21.3\n",
      "  Using cached numpy-1.21.3-cp39-cp39-win_amd64.whl (14.0 MB)\n",
      "Using legacy 'setup.py install' for nazarov-da-lab2-task1-part1, since package 'wheel' is not installed.\n",
      "Installing collected packages: numpy, nazarov-da-lab2-task1-part1\n",
      "    Running setup.py install for nazarov-da-lab2-task1-part1: started\n",
      "    Running setup.py install for nazarov-da-lab2-task1-part1: finished with status 'done'\n",
      "Successfully installed nazarov-da-lab2-task1-part1-0.1.3 numpy-1.21.3\n"
     ]
    }
   ],
   "source": [
    "!call .\\venv1\\Scripts\\activate.bat && pip install nazarov-da-lab2-task1-part1==0.1.3"
   ]
  },
  {
   "cell_type": "code",
   "execution_count": 49,
   "id": "c9972aeb-4508-43df-94a7-986633c3f1c4",
   "metadata": {},
   "outputs": [
    {
     "name": "stdout",
     "output_type": "stream",
     "text": [
      "import numpy as np\n",
      "\n",
      "from interpolation import interpolation\n",
      "\n",
      "print(interpolation.lagrange(np.array([1, 2, 3]), np.array([7, 2, 15])))\n"
     ]
    }
   ],
   "source": [
    "!type task1\\pythonProject\\main.py"
   ]
  },
  {
   "cell_type": "code",
   "execution_count": 50,
   "id": "b0f97f49-1820-493f-8aaf-4a2ab3a1759e",
   "metadata": {},
   "outputs": [
    {
     "name": "stdout",
     "output_type": "stream",
     "text": [
      "<numpy.vectorize object at 0x000002119B47DF40>\n"
     ]
    }
   ],
   "source": [
    "!call .\\venv1\\Scripts\\activate.bat && python task1\\pythonProject\\main.py"
   ]
  },
  {
   "cell_type": "code",
   "execution_count": 51,
   "id": "5d8e7d65-3da9-4c05-b8c7-193a0c4a6843",
   "metadata": {},
   "outputs": [],
   "source": [
    "!python -m venv venv2"
   ]
  },
  {
   "cell_type": "code",
   "execution_count": 52,
   "id": "89b954f8-63a6-4eea-9f59-2dc16e8e61e0",
   "metadata": {},
   "outputs": [
    {
     "name": "stdout",
     "output_type": "stream",
     "text": [
      "Collecting nazarov-da-lab2-task1-part1==0.1.3\n",
      "  Using cached nazarov-da-lab2-task1-part1-0.1.3.tar.gz (1.5 kB)\n",
      "Collecting nazarov-da-lab2-task1-part2==0.1.2\n",
      "  Downloading nazarov-da-lab2-task1-part2-0.1.2.tar.gz (1.5 kB)\n",
      "Collecting numpy==1.21.3\n",
      "  Using cached numpy-1.21.3-cp39-cp39-win_amd64.whl (14.0 MB)\n",
      "INFO: pip is looking at multiple versions of nazarov-da-lab2-task1-part1 to determine which version is compatible with other requirements. This could take a while.\n",
      "\n",
      "The conflict is caused by:\n",
      "    nazarov-da-lab2-task1-part1 0.1.3 depends on numpy==1.21.3\n",
      "    nazarov-da-lab2-task1-part2 0.1.2 depends on numpy==1.21.0\n",
      "\n",
      "To fix this you could try to:\n",
      "1. loosen the range of package versions you've specified\n",
      "2. remove package versions to allow pip attempt to solve the dependency conflict\n",
      "\n"
     ]
    },
    {
     "name": "stderr",
     "output_type": "stream",
     "text": [
      "ERROR: Cannot install nazarov-da-lab2-task1-part1==0.1.3 and nazarov-da-lab2-task1-part2==0.1.2 because these package versions have conflicting dependencies.\n",
      "ERROR: ResolutionImpossible: for help visit https://pip.pypa.io/en/latest/user_guide/#fixing-conflicting-dependencies\n",
      "WARNING: You are using pip version 21.2.3; however, version 21.3.1 is available.\n",
      "You should consider upgrading via the 'C:\\Programing\\sem5\\da\\lab2\\venv2\\Scripts\\python.exe -m pip install --upgrade pip' command.\n"
     ]
    }
   ],
   "source": [
    "!call .\\venv2\\Scripts\\activate.bat && pip install nazarov-da-lab2-task1-part1==0.1.3 nazarov-da-lab2-task1-part2==0.1.2"
   ]
  },
  {
   "cell_type": "code",
   "execution_count": 53,
   "id": "81c078ea-6820-435c-a65a-091390a64b40",
   "metadata": {},
   "outputs": [
    {
     "name": "stdout",
     "output_type": "stream",
     "text": [
      "Installing nazarov-da-lab2-task1-part1==0.1.3...\n",
      "\n",
      "Installing nazarov-da-lab2-task1-part2==0.1.2...\n"
     ]
    },
    {
     "name": "stderr",
     "output_type": "stream",
     "text": [
      "Virtualenv already exists!\n",
      "\n",
      "Removing existing virtualenv...\n",
      "\n",
      "Creating a virtualenv for this project...\n",
      "\n",
      "Pipfile: C:\\Programing\\sem5\\da\\lab2\\Pipfile\n",
      "\n",
      "Using c:/program files/python39/python.exe (3.9.7) to create virtualenv...\n",
      "\n",
      "\n",
      "[    ] Creating virtual environment..\n",
      "[=   ] Creating virtual environment..\n",
      "[==  ] Creating virtual environment..\n",
      "[=== ] Creating virtual environment..\n",
      "[ ===] Creating virtual environment..\n",
      "[  ==] Creating virtual environment..\n",
      "[   =] Creating virtual environment..\n",
      "[    ] Creating virtual environment..\n",
      "[   =] Creating virtual environment..\n",
      "[  ==] Creating virtual environment..\n",
      "[ ===] Creating virtual environment..\n",
      "[====] Creating virtual environment...created virtual environment CPython3.9.7.final.0-64 in 802ms\n",
      "  creator CPython3Windows(dest=C:\\Users\\georgiy\\.virtualenvs\\lab2-2oa1my3_, clear=False, no_vcs_ignore=False, global=False)\n",
      "  seeder FromAppData(download=False, pip=bundle, setuptools=bundle, wheel=bundle, via=copy, app_data_dir=C:\\Users\\georgiy\\AppData\\Local\\pypa\\virtualenv)\n",
      "    added seed packages: pip==21.3.1, setuptools==58.3.0, wheel==0.37.0\n",
      "  activators BashActivator,BatchActivator,FishActivator,NushellActivator,PowerShellActivator,PythonActivator\n",
      "\n",
      "\bSuccessfully created virtual environment! \n",
      "Virtualenv location: C:\\Users\\georgiy\\.virtualenvs\\lab2-2oa1my3_\n",
      "Creating a Pipfile for this project...\n",
      "\n",
      "[    ] Installing..\n",
      "[=   ] Installing nazarov-da-lab2-task1-part1..\n",
      "[==  ] Installing nazarov-da-lab2-task1-part1..\n",
      "[=== ] Installing nazarov-da-lab2-task1-part1..\n",
      "[ ===] Installing nazarov-da-lab2-task1-part1..\n",
      "[  ==] Installing nazarov-da-lab2-task1-part1..\n",
      "[   =] Installing nazarov-da-lab2-task1-part1..\n",
      "[    ] Installing nazarov-da-lab2-task1-part1..\n",
      "[   =] Installing nazarov-da-lab2-task1-part1..\n",
      "[  ==] Installing nazarov-da-lab2-task1-part1..\n",
      "[ ===] Installing nazarov-da-lab2-task1-part1..\n",
      "[====] Installing nazarov-da-lab2-task1-part1..\n",
      "[=== ] Installing nazarov-da-lab2-task1-part1..\n",
      "[==  ] Installing nazarov-da-lab2-task1-part1..\n",
      "[=   ] Installing nazarov-da-lab2-task1-part1..\n",
      "[    ] Installing nazarov-da-lab2-task1-part1..\n",
      "[=   ] Installing nazarov-da-lab2-task1-part1..\n",
      "[==  ] Installing nazarov-da-lab2-task1-part1..\n",
      "[=== ] Installing nazarov-da-lab2-task1-part1..\n",
      "[ ===] Installing nazarov-da-lab2-task1-part1..\n",
      "[  ==] Installing nazarov-da-lab2-task1-part1..\n",
      "[   =] Installing nazarov-da-lab2-task1-part1..\n",
      "[    ] Installing nazarov-da-lab2-task1-part1..\n",
      "[   =] Installing nazarov-da-lab2-task1-part1..\n",
      "[  ==] Installing nazarov-da-lab2-task1-part1..\n",
      "[ ===] Installing nazarov-da-lab2-task1-part1..\n",
      "[====] Installing nazarov-da-lab2-task1-part1..\n",
      "[=== ] Installing nazarov-da-lab2-task1-part1..\n",
      "[==  ] Installing nazarov-da-lab2-task1-part1..\n",
      "[=   ] Installing nazarov-da-lab2-task1-part1..\n",
      "[    ] Installing nazarov-da-lab2-task1-part1..\n",
      "[=   ] Installing nazarov-da-lab2-task1-part1..\n",
      "[==  ] Installing nazarov-da-lab2-task1-part1..\n",
      "[=== ] Installing nazarov-da-lab2-task1-part1..\n",
      "[ ===] Installing nazarov-da-lab2-task1-part1..\n",
      "[  ==] Installing nazarov-da-lab2-task1-part1..\n",
      "[   =] Installing nazarov-da-lab2-task1-part1..\n",
      "[    ] Installing nazarov-da-lab2-task1-part1..\n",
      "[   =] Installing nazarov-da-lab2-task1-part1..\n",
      "[  ==] Installing nazarov-da-lab2-task1-part1..\n",
      "[ ===] Installing nazarov-da-lab2-task1-part1..\n",
      "[====] Installing nazarov-da-lab2-task1-part1..\n",
      "[=== ] Installing nazarov-da-lab2-task1-part1..\n",
      "[==  ] Installing nazarov-da-lab2-task1-part1..\n",
      "[=   ] Installing nazarov-da-lab2-task1-part1..\n",
      "[    ] Installing nazarov-da-lab2-task1-part1..\n",
      "[=   ] Installing nazarov-da-lab2-task1-part1..\n",
      "[==  ] Installing nazarov-da-lab2-task1-part1..\n",
      "[=== ] Installing nazarov-da-lab2-task1-part1..\n",
      "[ ===] Installing nazarov-da-lab2-task1-part1..\n",
      "[  ==] Installing nazarov-da-lab2-task1-part1..\n",
      "[   =] Installing nazarov-da-lab2-task1-part1..\n",
      "[    ] Installing nazarov-da-lab2-task1-part1..\n",
      "[   =] Installing nazarov-da-lab2-task1-part1..\n",
      "[  ==] Installing nazarov-da-lab2-task1-part1..\n",
      "[ ===] Installing nazarov-da-lab2-task1-part1..\n",
      "[====] Installing nazarov-da-lab2-task1-part1..\n",
      "[=== ] Installing nazarov-da-lab2-task1-part1..\n",
      "[==  ] Installing nazarov-da-lab2-task1-part1..\n",
      "[=   ] Installing nazarov-da-lab2-task1-part1..\n",
      "[    ] Installing nazarov-da-lab2-task1-part1..\n",
      "[=   ] Installing nazarov-da-lab2-task1-part1..\n",
      "[==  ] Installing nazarov-da-lab2-task1-part1..\n",
      "[=== ] Installing nazarov-da-lab2-task1-part1..\n",
      "[ ===] Installing nazarov-da-lab2-task1-part1...\n",
      "Adding nazarov-da-lab2-task1-part1 to Pipfile's [packages]...\n",
      "\bInstallation Succeeded \n",
      "\n",
      "[    ] Installing..\n",
      "[=   ] Installing nazarov-da-lab2-task1-part2..\n",
      "[==  ] Installing nazarov-da-lab2-task1-part2..\n",
      "[=== ] Installing nazarov-da-lab2-task1-part2..\n",
      "[ ===] Installing nazarov-da-lab2-task1-part2..\n",
      "[  ==] Installing nazarov-da-lab2-task1-part2..\n",
      "[   =] Installing nazarov-da-lab2-task1-part2..\n",
      "[    ] Installing nazarov-da-lab2-task1-part2..\n",
      "[   =] Installing nazarov-da-lab2-task1-part2..\n",
      "[  ==] Installing nazarov-da-lab2-task1-part2..\n",
      "[ ===] Installing nazarov-da-lab2-task1-part2..\n",
      "[====] Installing nazarov-da-lab2-task1-part2..\n",
      "[=== ] Installing nazarov-da-lab2-task1-part2..\n",
      "[==  ] Installing nazarov-da-lab2-task1-part2..\n",
      "[=   ] Installing nazarov-da-lab2-task1-part2..\n",
      "[    ] Installing nazarov-da-lab2-task1-part2..\n",
      "[=   ] Installing nazarov-da-lab2-task1-part2..\n",
      "[==  ] Installing nazarov-da-lab2-task1-part2..\n",
      "[=== ] Installing nazarov-da-lab2-task1-part2..\n",
      "[ ===] Installing nazarov-da-lab2-task1-part2..\n",
      "[  ==] Installing nazarov-da-lab2-task1-part2..\n",
      "[   =] Installing nazarov-da-lab2-task1-part2..\n",
      "[    ] Installing nazarov-da-lab2-task1-part2..\n",
      "[   =] Installing nazarov-da-lab2-task1-part2..\n",
      "[  ==] Installing nazarov-da-lab2-task1-part2..\n",
      "[ ===] Installing nazarov-da-lab2-task1-part2..\n",
      "[====] Installing nazarov-da-lab2-task1-part2..\n",
      "[=== ] Installing nazarov-da-lab2-task1-part2..\n",
      "[==  ] Installing nazarov-da-lab2-task1-part2..\n",
      "[=   ] Installing nazarov-da-lab2-task1-part2..\n",
      "[    ] Installing nazarov-da-lab2-task1-part2..\n",
      "[=   ] Installing nazarov-da-lab2-task1-part2..\n",
      "[==  ] Installing nazarov-da-lab2-task1-part2..\n",
      "[=== ] Installing nazarov-da-lab2-task1-part2..\n",
      "[ ===] Installing nazarov-da-lab2-task1-part2..\n",
      "[  ==] Installing nazarov-da-lab2-task1-part2..\n",
      "[   =] Installing nazarov-da-lab2-task1-part2..\n",
      "[    ] Installing nazarov-da-lab2-task1-part2..\n",
      "[   =] Installing nazarov-da-lab2-task1-part2..\n",
      "[  ==] Installing nazarov-da-lab2-task1-part2..\n",
      "[ ===] Installing nazarov-da-lab2-task1-part2..\n",
      "[====] Installing nazarov-da-lab2-task1-part2..\n",
      "[=== ] Installing nazarov-da-lab2-task1-part2..\n",
      "[==  ] Installing nazarov-da-lab2-task1-part2..\n",
      "[=   ] Installing nazarov-da-lab2-task1-part2..\n",
      "[    ] Installing nazarov-da-lab2-task1-part2..\n",
      "[=   ] Installing nazarov-da-lab2-task1-part2..\n",
      "[==  ] Installing nazarov-da-lab2-task1-part2..\n",
      "[=== ] Installing nazarov-da-lab2-task1-part2..\n",
      "[ ===] Installing nazarov-da-lab2-task1-part2..\n",
      "[  ==] Installing nazarov-da-lab2-task1-part2..\n",
      "[   =] Installing nazarov-da-lab2-task1-part2..\n",
      "[    ] Installing nazarov-da-lab2-task1-part2..\n",
      "[   =] Installing nazarov-da-lab2-task1-part2..\n",
      "[  ==] Installing nazarov-da-lab2-task1-part2..\n",
      "[ ===] Installing nazarov-da-lab2-task1-part2..\n",
      "[====] Installing nazarov-da-lab2-task1-part2..\n",
      "[=== ] Installing nazarov-da-lab2-task1-part2..\n",
      "[==  ] Installing nazarov-da-lab2-task1-part2..\n",
      "[=   ] Installing nazarov-da-lab2-task1-part2..\n",
      "[    ] Installing nazarov-da-lab2-task1-part2..\n",
      "[=   ] Installing nazarov-da-lab2-task1-part2..\n",
      "[==  ] Installing nazarov-da-lab2-task1-part2..\n",
      "[=== ] Installing nazarov-da-lab2-task1-part2..\n",
      "[ ===] Installing nazarov-da-lab2-task1-part2..\n",
      "[  ==] Installing nazarov-da-lab2-task1-part2..\n",
      "[   =] Installing nazarov-da-lab2-task1-part2...\n",
      "Adding nazarov-da-lab2-task1-part2 to Pipfile's [packages]...\n",
      "\bInstallation Succeeded \n",
      "Pipfile.lock not found, creating...\n",
      "Locking [dev-packages] dependencies...\n",
      "Locking [packages] dependencies...\n",
      "\n",
      "[    ] Locking...\n",
      "Building requirements...\n",
      "\n",
      "Resolving dependencies...\n",
      "\b\n",
      "[=   ] Locking..\n",
      "[==  ] Locking..\n",
      "[=== ] Locking..\n",
      "[ ===] Locking..\n",
      "[  ==] Locking..\n",
      "[   =] Locking..\n",
      "[    ] Locking..\n",
      "[   =] Locking..\n",
      "[  ==] Locking..\n",
      "[ ===] Locking..\n",
      "[====] Locking..\n",
      "[=== ] Locking..\n",
      "[==  ] Locking..\n",
      "[=   ] Locking..\n",
      "[    ] Locking..\n",
      "[=   ] Locking..\n",
      "[==  ] Locking..\n",
      "[=== ] Locking..\n",
      "[ ===] Locking..Locking Failed! \n",
      "[ResolutionFailure]:   File \"C:\\Program Files\\Python39\\lib\\site-packages\\pipenv\\resolver.py\", line 741, in _main\n",
      "\n",
      "\n",
      "\n",
      "[ResolutionFailure]:       resolve_packages(pre, clear, verbose, system, write, requirements_dir, packages, dev)\n",
      "\n",
      "\n",
      "\n",
      "[ResolutionFailure]:   File \"C:\\Program Files\\Python39\\lib\\site-packages\\pipenv\\resolver.py\", line 702, in resolve_packages\n",
      "\n",
      "\n",
      "\n",
      "[ResolutionFailure]:       results, resolver = resolve(\n",
      "\n",
      "\n",
      "\n",
      "[ResolutionFailure]:   File \"C:\\Program Files\\Python39\\lib\\site-packages\\pipenv\\resolver.py\", line 684, in resolve\n",
      "\n",
      "\n",
      "\n",
      "[ResolutionFailure]:       return resolve_deps(\n",
      "\n",
      "\n",
      "\n",
      "[ResolutionFailure]:   File \"c:\\program files\\python39\\lib\\site-packages\\pipenv\\utils.py\", line 1397, in resolve_deps\n",
      "\n",
      "\n",
      "\n",
      "[ResolutionFailure]:       results, hashes, markers_lookup, resolver, skipped = actually_resolve_deps(\n",
      "\n",
      "\n",
      "\n",
      "[ResolutionFailure]:   File \"c:\\program files\\python39\\lib\\site-packages\\pipenv\\utils.py\", line 1110, in actually_resolve_deps\n",
      "\n",
      "\n",
      "\n",
      "[ResolutionFailure]:       resolver.resolve()\n",
      "\n",
      "\n",
      "\n",
      "[ResolutionFailure]:   File \"c:\\program files\\python39\\lib\\site-packages\\pipenv\\utils.py\", line 835, in resolve\n",
      "\n",
      "\n",
      "\n",
      "[ResolutionFailure]:       raise ResolutionFailure(message=str(e))\n",
      "\n",
      "\n",
      "\n",
      "[pipenv.exceptions.ResolutionFailure]: Warning: Your dependencies could not be resolved. You likely have a mismatch in your sub-dependencies.\n",
      "\n",
      "\n",
      "\n",
      "  First try clearing your dependency cache with $ pipenv lock --clear, then try the original command again.\n",
      "\n",
      "\n",
      "\n",
      " Alternatively, you can use $ pipenv install --skip-lock to bypass this mechanism, then run $ pipenv graph to inspect the situation.\n",
      "\n",
      "\n",
      "\n",
      "  Hint: try $ pipenv lock --pre if it is a pre-release dependency.\n",
      "\n",
      "\n",
      "\n",
      "ERROR: Could not find a version that matches numpy==1.21.0,==1.21.3 (from nazarov-da-lab2-task1-part1==0.1.3->-r C:\\Users\\georgiy\\AppData\\Local\\Temp\\pipenv4m5fsd1grequirements\\pipenv-t_8b6_bt-constraints.txt (line 2))\n",
      "\n",
      "\n",
      "\n",
      "Tried: 1.3.0, 1.4.1, 1.5.0, 1.5.1, 1.6.0, 1.6.0, 1.6.1, 1.6.1, 1.6.2, 1.6.2, 1.7.0, 1.7.0, 1.7.1, 1.7.1, 1.7.2, 1.7.2, 1.8.0, 1.8.0, 1.8.1, 1.8.1, 1.8.2, 1.8.2, 1.9.0, 1.9.0, 1.9.1, 1.9.1, 1.9.2, 1.9.2, 1.9.3, 1.9.3, 1.10.0.post2, 1.10.0.post2, 1.10.1, 1.10.1, 1.10.2, 1.10.2, 1.10.4, 1.10.4, 1.11.0, 1.11.0, 1.11.1, 1.11.1, 1.11.2, 1.11.2, 1.11.3, 1.12.0, 1.12.1, 1.13.0, 1.13.1, 1.13.3, 1.14.0, 1.14.1, 1.14.2, 1.14.3, 1.14.4, 1.14.5, 1.14.6, 1.15.0, 1.15.1, 1.15.2, 1.15.3, 1.15.4, 1.16.0, 1.16.1, 1.16.2, 1.16.3, 1.16.4, 1.16.5, 1.16.6, 1.17.0, 1.17.1, 1.17.2, 1.17.3, 1.17.4, 1.17.5, 1.18.0, 1.18.1, 1.18.2, 1.18.3, 1.18.4, 1.18.5, 1.19.0, 1.19.1, 1.19.2, 1.19.3, 1.19.3, 1.19.4, 1.19.4, 1.19.5, 1.19.5, 1.20.0, 1.20.0, 1.20.1, 1.20.1, 1.20.2, 1.20.2, 1.20.3, 1.20.3, 1.21.0, 1.21.0, 1.21.1, 1.21.1, 1.21.2, 1.21.2, 1.21.3, 1.21.3\n",
      "\n",
      "\n",
      "\n",
      "Skipped pre-versions: 1.13.0rc1, 1.13.0rc2, 1.14.0rc1, 1.15.0rc1, 1.15.0rc2, 1.16.0rc1, 1.16.0rc2, 1.17.0rc1, 1.17.0rc2, 1.18.0rc1, 1.19.0rc1, 1.19.0rc2, 1.20.0rc1, 1.20.0rc1, 1.20.0rc2, 1.20.0rc2, 1.21.0rc1, 1.21.0rc1, 1.21.0rc2, 1.21.0rc2\n",
      "\n",
      "\n",
      "\n",
      "There are incompatible versions in the resolved dependencies:\n",
      "\n",
      "\n",
      "\n",
      "  numpy==1.21.0 (from nazarov-da-lab2-task1-part2==0.1.2->-r C:\\Users\\georgiy\\AppData\\Local\\Temp\\pipenv4m5fsd1grequirements\\pipenv-t_8b6_bt-constraints.txt (line 3))\n",
      "\n",
      "\n",
      "\n",
      "  numpy==1.21.3 (from nazarov-da-lab2-task1-part1==0.1.3->-r C:\\Users\\georgiy\\AppData\\Local\\Temp\\pipenv4m5fsd1grequirements\\pipenv-t_8b6_bt-constraints.txt (line 2))\n",
      "\n"
     ]
    }
   ],
   "source": [
    "!pipenv --python 3.9 && pipenv install nazarov-da-lab2-task1-part1==0.1.3 nazarov-da-lab2-task1-part2==0.1.2 && pipenv graph"
   ]
  },
  {
   "cell_type": "code",
   "execution_count": 55,
   "id": "25e7dcb1-13d4-45c2-9c83-058cf5867496",
   "metadata": {},
   "outputs": [
    {
     "name": "stdout",
     "output_type": "stream",
     "text": [
      "nazarov-da-lab2-task1-part1==0.1.3\n",
      "\n",
      "  - numpy [required: ==1.21.3, installed: 1.21.0]\n",
      "\n",
      "nazarov-da-lab2-task1-part2==0.1.2\n",
      "\n",
      "  - numpy [required: ==1.21.0, installed: 1.21.0]\n",
      "\n"
     ]
    }
   ],
   "source": [
    "!pipenv graph"
   ]
  }
 ],
 "metadata": {
  "kernelspec": {
   "display_name": "Python 3 (ipykernel)",
   "language": "python",
   "name": "python3"
  },
  "language_info": {
   "codemirror_mode": {
    "name": "ipython",
    "version": 3
   },
   "file_extension": ".py",
   "mimetype": "text/x-python",
   "name": "python",
   "nbconvert_exporter": "python",
   "pygments_lexer": "ipython3",
   "version": "3.9.7"
  }
 },
 "nbformat": 4,
 "nbformat_minor": 5
}
